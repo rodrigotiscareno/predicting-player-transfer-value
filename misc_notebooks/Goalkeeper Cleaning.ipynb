{
 "cells": [
  {
   "cell_type": "markdown",
   "id": "7b261fea-f4dc-4427-b1f9-6bbff215c518",
   "metadata": {},
   "source": [
    "## Advanced GK"
   ]
  },
  {
   "cell_type": "code",
   "execution_count": null,
   "id": "2b2f9555-1272-437f-874f-3a139f866fa7",
   "metadata": {},
   "outputs": [],
   "source": [
    "advanced_gk = pd.read_csv(\"pl_data/Fulham/advanced_gk.csv\", header=1)"
   ]
  },
  {
   "cell_type": "code",
   "execution_count": null,
   "id": "ad29a9a0-720d-4f67-811f-2ba52e847645",
   "metadata": {},
   "outputs": [],
   "source": [
    "advanced_gk = advanced_gk.iloc[:-2]"
   ]
  },
  {
   "cell_type": "code",
   "execution_count": null,
   "id": "49b5b590-989f-4759-a45c-3f86b041d963",
   "metadata": {},
   "outputs": [
    {
     "data": {
      "text/plain": [
       "Index(['Player', 'Nation', 'Pos', 'Age', '90s', 'GA', 'PKA', 'FK', 'CK', 'OG',\n",
       "       'PSxG', 'PSxG/SoT', 'PSxG+/-', '/90', 'Cmp', 'Att', 'Cmp%', 'Att.1',\n",
       "       'Thr', 'Launch%', 'AvgLen', 'Att.2', 'Launch%.1', 'AvgLen.1', 'Opp',\n",
       "       'Stp', 'Stp%', '#OPA', '#OPA/90', 'AvgDist', 'Matches'],\n",
       "      dtype='object')"
      ]
     },
     "execution_count": 224,
     "metadata": {},
     "output_type": "execute_result"
    }
   ],
   "source": [
    "advanced_gk.columns"
   ]
  },
  {
   "cell_type": "code",
   "execution_count": 225,
   "id": "0b3aa37d-ecf9-4e1f-b57b-8265ba1e5869",
   "metadata": {},
   "outputs": [],
   "source": [
    "advanced_gk.drop(columns=[\n",
    "    '90s',\n",
    "    'Matches',\n",
    "    'Nation',\n",
    "    'Pos',\n",
    "    'Age',\n",
    "    'PKA', \n",
    "    'FK', \n",
    "    'CK', \n",
    "    'OG', \n",
    "    'PSxG', \n",
    "    'PSxG/SoT',\n",
    "    '/90',\n",
    "    'Cmp', \n",
    "    'Att', \n",
    "    'Opp',\n",
    "    'Stp', \n",
    "    '#OPA/90',\n",
    "    'AvgDist'], inplace=True)"
   ]
  },
  {
   "cell_type": "code",
   "execution_count": 226,
   "id": "8f5fc5c3-2445-433e-92d9-de866009719e",
   "metadata": {},
   "outputs": [],
   "source": [
    "advanced_gk.rename(columns={\n",
    "    'GA': 'goals_allowed',\n",
    "    'Cmp%': 'launched_pass_completion',\n",
    "    'Att.1': 'attempted_passes',\n",
    "    'Thr': 'attempted_throws',\n",
    "    'Launch%': 'percentage_launched_passes',\n",
    "    'AvgLen': 'average_pass_length',\n",
    "    'Att.2': 'goal_kicks_attempted',\n",
    "    'Launch%.1': 'launched_goal_kicks',\n",
    "    'AvgLen.1': 'average_goal_kick_length',\n",
    "    'Stp%': '%_stopped_crosses',\n",
    "    '#OPA': 'actions_outside_pk'}, inplace=True)"
   ]
  },
  {
   "cell_type": "code",
   "execution_count": 227,
   "id": "d2a016bc-6cfd-4d03-a280-b14cfb0c7273",
   "metadata": {},
   "outputs": [
    {
     "data": {
      "text/html": [
       "<div>\n",
       "<style scoped>\n",
       "    .dataframe tbody tr th:only-of-type {\n",
       "        vertical-align: middle;\n",
       "    }\n",
       "\n",
       "    .dataframe tbody tr th {\n",
       "        vertical-align: top;\n",
       "    }\n",
       "\n",
       "    .dataframe thead th {\n",
       "        text-align: right;\n",
       "    }\n",
       "</style>\n",
       "<table border=\"1\" class=\"dataframe\">\n",
       "  <thead>\n",
       "    <tr style=\"text-align: right;\">\n",
       "      <th></th>\n",
       "      <th>Player</th>\n",
       "      <th>goals_allowed</th>\n",
       "      <th>PSxG+/-</th>\n",
       "      <th>launched_pass_completion</th>\n",
       "      <th>attempted_passes</th>\n",
       "      <th>attempted_throws</th>\n",
       "      <th>percentage_launched_passes</th>\n",
       "      <th>average_pass_length</th>\n",
       "      <th>goal_kicks_attempted</th>\n",
       "      <th>launched_goal_kicks</th>\n",
       "      <th>average_goal_kick_length</th>\n",
       "      <th>%_stopped_crosses</th>\n",
       "      <th>actions_outside_pk</th>\n",
       "    </tr>\n",
       "  </thead>\n",
       "  <tbody>\n",
       "    <tr>\n",
       "      <th>0</th>\n",
       "      <td>Bernd Leno</td>\n",
       "      <td>28</td>\n",
       "      <td>4.1</td>\n",
       "      <td>35.3</td>\n",
       "      <td>592</td>\n",
       "      <td>107</td>\n",
       "      <td>30.9</td>\n",
       "      <td>31.1</td>\n",
       "      <td>139</td>\n",
       "      <td>41.7</td>\n",
       "      <td>37.1</td>\n",
       "      <td>8.6</td>\n",
       "      <td>27</td>\n",
       "    </tr>\n",
       "    <tr>\n",
       "      <th>1</th>\n",
       "      <td>Marek Rodák</td>\n",
       "      <td>2</td>\n",
       "      <td>0.0</td>\n",
       "      <td>34.0</td>\n",
       "      <td>46</td>\n",
       "      <td>3</td>\n",
       "      <td>73.9</td>\n",
       "      <td>46.0</td>\n",
       "      <td>15</td>\n",
       "      <td>86.7</td>\n",
       "      <td>60.0</td>\n",
       "      <td>3.8</td>\n",
       "      <td>2</td>\n",
       "    </tr>\n",
       "  </tbody>\n",
       "</table>\n",
       "</div>"
      ],
      "text/plain": [
       "        Player  goals_allowed  PSxG+/-  launched_pass_completion  \\\n",
       "0   Bernd Leno             28      4.1                      35.3   \n",
       "1  Marek Rodák              2      0.0                      34.0   \n",
       "\n",
       "   attempted_passes  attempted_throws  percentage_launched_passes  \\\n",
       "0               592               107                        30.9   \n",
       "1                46                 3                        73.9   \n",
       "\n",
       "   average_pass_length  goal_kicks_attempted  launched_goal_kicks  \\\n",
       "0                 31.1                   139                 41.7   \n",
       "1                 46.0                    15                 86.7   \n",
       "\n",
       "   average_goal_kick_length  %_stopped_crosses  actions_outside_pk  \n",
       "0                      37.1                8.6                  27  \n",
       "1                      60.0                3.8                   2  "
      ]
     },
     "execution_count": 227,
     "metadata": {},
     "output_type": "execute_result"
    }
   ],
   "source": [
    "advanced_gk"
   ]
  },
  {
   "cell_type": "markdown",
   "id": "e45c3710-b3c3-4103-9b79-b081fd5904b1",
   "metadata": {},
   "source": [
    "## GK "
   ]
  },
  {
   "cell_type": "code",
   "execution_count": 233,
   "id": "0afe617b-6a03-4f79-bc8a-4e96a2eb55bd",
   "metadata": {},
   "outputs": [],
   "source": [
    "gk = pd.read_csv(\"pl_data/Fulham/gk.csv\", header=1)"
   ]
  },
  {
   "cell_type": "code",
   "execution_count": 234,
   "id": "163b46de-9dc3-4c18-a8bb-881022286f21",
   "metadata": {},
   "outputs": [],
   "source": [
    "gk = gk.iloc[:-2]"
   ]
  },
  {
   "cell_type": "code",
   "execution_count": 235,
   "id": "4aa49858-3fe1-4388-b87f-5aa0f9867987",
   "metadata": {},
   "outputs": [],
   "source": [
    "gk.drop(columns=[\n",
    "    'MP',\n",
    "    'Starts',\n",
    "    'Min',\n",
    "    '90s',\n",
    "    'Matches',\n",
    "    'Nation',\n",
    "    'Pos',\n",
    "    'Age',\n",
    "    'GA',\n",
    "    'GA90',\n",
    "    'Save%',\n",
    "    'W',\n",
    "    'D',\n",
    "    'L',\n",
    "    'CS%',\n",
    "    'PKm',\n",
    "    'Save%.1'], inplace=True)"
   ]
  },
  {
   "cell_type": "code",
   "execution_count": 236,
   "id": "7bcf9271-867e-4dbb-9de1-f756fdc08459",
   "metadata": {},
   "outputs": [],
   "source": [
    "gk.rename(columns={\n",
    "    'SoTA': 'shots_on_target_against',\n",
    "    'Saves': 'saves',\n",
    "    'CS': 'clean_sheets',\n",
    "    'PKatt': 'penalties_faced',\n",
    "    'PKA': 'penalties_conceded',\n",
    "    'PKsv': 'penalties_saved',}, inplace=True)"
   ]
  },
  {
   "cell_type": "code",
   "execution_count": 237,
   "id": "15e9402d-b780-4d7f-9ed8-a18f7144f1f7",
   "metadata": {},
   "outputs": [
    {
     "data": {
      "text/html": [
       "<div>\n",
       "<style scoped>\n",
       "    .dataframe tbody tr th:only-of-type {\n",
       "        vertical-align: middle;\n",
       "    }\n",
       "\n",
       "    .dataframe tbody tr th {\n",
       "        vertical-align: top;\n",
       "    }\n",
       "\n",
       "    .dataframe thead th {\n",
       "        text-align: right;\n",
       "    }\n",
       "</style>\n",
       "<table border=\"1\" class=\"dataframe\">\n",
       "  <thead>\n",
       "    <tr style=\"text-align: right;\">\n",
       "      <th></th>\n",
       "      <th>Player</th>\n",
       "      <th>shots_on_target_against</th>\n",
       "      <th>saves</th>\n",
       "      <th>clean_sheets</th>\n",
       "      <th>penalties_faced</th>\n",
       "      <th>penalties_conceded</th>\n",
       "      <th>penalties_saved</th>\n",
       "    </tr>\n",
       "  </thead>\n",
       "  <tbody>\n",
       "    <tr>\n",
       "      <th>0</th>\n",
       "      <td>Bernd Leno</td>\n",
       "      <td>111</td>\n",
       "      <td>83</td>\n",
       "      <td>5</td>\n",
       "      <td>3</td>\n",
       "      <td>3</td>\n",
       "      <td>0</td>\n",
       "    </tr>\n",
       "    <tr>\n",
       "      <th>1</th>\n",
       "      <td>Marek Rodák</td>\n",
       "      <td>4</td>\n",
       "      <td>2</td>\n",
       "      <td>1</td>\n",
       "      <td>0</td>\n",
       "      <td>0</td>\n",
       "      <td>0</td>\n",
       "    </tr>\n",
       "  </tbody>\n",
       "</table>\n",
       "</div>"
      ],
      "text/plain": [
       "        Player  shots_on_target_against  saves  clean_sheets  penalties_faced  \\\n",
       "0   Bernd Leno                      111     83             5                3   \n",
       "1  Marek Rodák                        4      2             1                0   \n",
       "\n",
       "   penalties_conceded  penalties_saved  \n",
       "0                   3                0  \n",
       "1                   0                0  "
      ]
     },
     "execution_count": 237,
     "metadata": {},
     "output_type": "execute_result"
    }
   ],
   "source": [
    "gk.head()"
   ]
  },
  {
   "cell_type": "code",
   "execution_count": null,
   "id": "7266abe7-e497-4c1a-be5d-f6ed5642220a",
   "metadata": {},
   "outputs": [],
   "source": []
  }
 ],
 "metadata": {
  "kernelspec": {
   "display_name": "Python 3 (ipykernel)",
   "language": "python",
   "name": "python3"
  },
  "language_info": {
   "codemirror_mode": {
    "name": "ipython",
    "version": 3
   },
   "file_extension": ".py",
   "mimetype": "text/x-python",
   "name": "python",
   "nbconvert_exporter": "python",
   "pygments_lexer": "ipython3",
   "version": "3.9.4"
  }
 },
 "nbformat": 4,
 "nbformat_minor": 5
}

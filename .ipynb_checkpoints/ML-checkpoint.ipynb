{
 "cells": [
  {
   "cell_type": "code",
   "execution_count": 30,
   "id": "beed0c56-3c99-4261-afb4-6d4d1cf3eceb",
   "metadata": {},
   "outputs": [],
   "source": [
    "import pandas as pd\n",
    "import numpy as np"
   ]
  },
  {
   "cell_type": "code",
   "execution_count": 131,
   "id": "317a22bb-5a15-42b2-a527-041c139e05a7",
   "metadata": {},
   "outputs": [],
   "source": [
    "df = pd.read_csv('refined_player_dataset.csv')"
   ]
  },
  {
   "cell_type": "code",
   "execution_count": 132,
   "id": "58ec5687-47d2-4222-a967-9a88a7678949",
   "metadata": {},
   "outputs": [
    {
     "data": {
      "text/html": [
       "<div>\n",
       "<style scoped>\n",
       "    .dataframe tbody tr th:only-of-type {\n",
       "        vertical-align: middle;\n",
       "    }\n",
       "\n",
       "    .dataframe tbody tr th {\n",
       "        vertical-align: top;\n",
       "    }\n",
       "\n",
       "    .dataframe thead th {\n",
       "        text-align: right;\n",
       "    }\n",
       "</style>\n",
       "<table border=\"1\" class=\"dataframe\">\n",
       "  <thead>\n",
       "    <tr style=\"text-align: right;\">\n",
       "      <th></th>\n",
       "      <th>name</th>\n",
       "      <th>price</th>\n",
       "      <th>position</th>\n",
       "      <th>age</th>\n",
       "      <th>nationality</th>\n",
       "      <th>height</th>\n",
       "      <th>foot</th>\n",
       "      <th>join_date</th>\n",
       "      <th>contract_expiration</th>\n",
       "      <th>minutes_played</th>\n",
       "      <th>...</th>\n",
       "      <th>fouls_per_mp</th>\n",
       "      <th>aerial_duels_won_per_mp</th>\n",
       "      <th>passes_per_mp</th>\n",
       "      <th>assists_per_mp</th>\n",
       "      <th>progressive_passes_per_mp</th>\n",
       "      <th>touches_per_mp</th>\n",
       "      <th>take_ons_per_mp</th>\n",
       "      <th>carrying_distance_per_mp</th>\n",
       "      <th>goals_per_mp</th>\n",
       "      <th>successful_shots_per_mp</th>\n",
       "    </tr>\n",
       "  </thead>\n",
       "  <tbody>\n",
       "    <tr>\n",
       "      <th>0</th>\n",
       "      <td>Erhan Masovic</td>\n",
       "      <td>4000000</td>\n",
       "      <td>Defender</td>\n",
       "      <td>24</td>\n",
       "      <td>Serbia</td>\n",
       "      <td>189.0</td>\n",
       "      <td>both</td>\n",
       "      <td>2020-10-05</td>\n",
       "      <td>2025-06-30</td>\n",
       "      <td>1399.0</td>\n",
       "      <td>...</td>\n",
       "      <td>0.012152</td>\n",
       "      <td>0.020014</td>\n",
       "      <td>0.000585</td>\n",
       "      <td>0.0</td>\n",
       "      <td>0.029307</td>\n",
       "      <td>0.596140</td>\n",
       "      <td>0.000715</td>\n",
       "      <td>1.067906</td>\n",
       "      <td>0.002859</td>\n",
       "      <td>0.004289</td>\n",
       "    </tr>\n",
       "    <tr>\n",
       "      <th>1</th>\n",
       "      <td>Ivan Ordets</td>\n",
       "      <td>3500000</td>\n",
       "      <td>Defender</td>\n",
       "      <td>30</td>\n",
       "      <td>Ukraine</td>\n",
       "      <td>195.0</td>\n",
       "      <td>right</td>\n",
       "      <td>2022-07-10</td>\n",
       "      <td>2023-06-30</td>\n",
       "      <td>1666.0</td>\n",
       "      <td>...</td>\n",
       "      <td>0.013806</td>\n",
       "      <td>0.050420</td>\n",
       "      <td>0.000449</td>\n",
       "      <td>0.0</td>\n",
       "      <td>0.021008</td>\n",
       "      <td>0.605642</td>\n",
       "      <td>0.000000</td>\n",
       "      <td>0.602641</td>\n",
       "      <td>0.000000</td>\n",
       "      <td>0.000000</td>\n",
       "    </tr>\n",
       "    <tr>\n",
       "      <th>2</th>\n",
       "      <td>Keven Schlotterbeck</td>\n",
       "      <td>3000000</td>\n",
       "      <td>Defender</td>\n",
       "      <td>25</td>\n",
       "      <td>Germany</td>\n",
       "      <td>189.0</td>\n",
       "      <td>left</td>\n",
       "      <td>2023-01-02</td>\n",
       "      <td>2023-06-30</td>\n",
       "      <td>557.0</td>\n",
       "      <td>...</td>\n",
       "      <td>0.014363</td>\n",
       "      <td>0.046679</td>\n",
       "      <td>0.001243</td>\n",
       "      <td>0.0</td>\n",
       "      <td>0.030521</td>\n",
       "      <td>0.736086</td>\n",
       "      <td>0.000000</td>\n",
       "      <td>1.016158</td>\n",
       "      <td>0.001795</td>\n",
       "      <td>0.001795</td>\n",
       "    </tr>\n",
       "    <tr>\n",
       "      <th>3</th>\n",
       "      <td>Keven Schlotterbeck</td>\n",
       "      <td>3000000</td>\n",
       "      <td>Defender</td>\n",
       "      <td>25</td>\n",
       "      <td>Germany</td>\n",
       "      <td>189.0</td>\n",
       "      <td>left</td>\n",
       "      <td>2023-01-02</td>\n",
       "      <td>2023-06-30</td>\n",
       "      <td>14.0</td>\n",
       "      <td>...</td>\n",
       "      <td>0.000000</td>\n",
       "      <td>0.142857</td>\n",
       "      <td>0.071429</td>\n",
       "      <td>0.0</td>\n",
       "      <td>0.000000</td>\n",
       "      <td>0.928571</td>\n",
       "      <td>0.000000</td>\n",
       "      <td>0.214286</td>\n",
       "      <td>0.000000</td>\n",
       "      <td>0.000000</td>\n",
       "    </tr>\n",
       "    <tr>\n",
       "      <th>4</th>\n",
       "      <td>Dominique Heintz</td>\n",
       "      <td>2500000</td>\n",
       "      <td>Defender</td>\n",
       "      <td>29</td>\n",
       "      <td>Germany</td>\n",
       "      <td>188.0</td>\n",
       "      <td>left</td>\n",
       "      <td>2022-08-11</td>\n",
       "      <td>2023-06-30</td>\n",
       "      <td>419.0</td>\n",
       "      <td>...</td>\n",
       "      <td>0.016706</td>\n",
       "      <td>0.007160</td>\n",
       "      <td>0.001994</td>\n",
       "      <td>0.0</td>\n",
       "      <td>0.019093</td>\n",
       "      <td>0.536993</td>\n",
       "      <td>0.004773</td>\n",
       "      <td>1.042959</td>\n",
       "      <td>0.000000</td>\n",
       "      <td>0.000000</td>\n",
       "    </tr>\n",
       "  </tbody>\n",
       "</table>\n",
       "<p>5 rows × 25 columns</p>\n",
       "</div>"
      ],
      "text/plain": [
       "                  name    price  position  age nationality  height   foot  \\\n",
       "0        Erhan Masovic  4000000  Defender   24      Serbia   189.0   both   \n",
       "1          Ivan Ordets  3500000  Defender   30     Ukraine   195.0  right   \n",
       "2  Keven Schlotterbeck  3000000  Defender   25     Germany   189.0   left   \n",
       "3  Keven Schlotterbeck  3000000  Defender   25     Germany   189.0   left   \n",
       "4     Dominique Heintz  2500000  Defender   29     Germany   188.0   left   \n",
       "\n",
       "    join_date contract_expiration  minutes_played  ...  fouls_per_mp  \\\n",
       "0  2020-10-05          2025-06-30          1399.0  ...      0.012152   \n",
       "1  2022-07-10          2023-06-30          1666.0  ...      0.013806   \n",
       "2  2023-01-02          2023-06-30           557.0  ...      0.014363   \n",
       "3  2023-01-02          2023-06-30            14.0  ...      0.000000   \n",
       "4  2022-08-11          2023-06-30           419.0  ...      0.016706   \n",
       "\n",
       "   aerial_duels_won_per_mp  passes_per_mp  assists_per_mp  \\\n",
       "0                 0.020014       0.000585             0.0   \n",
       "1                 0.050420       0.000449             0.0   \n",
       "2                 0.046679       0.001243             0.0   \n",
       "3                 0.142857       0.071429             0.0   \n",
       "4                 0.007160       0.001994             0.0   \n",
       "\n",
       "   progressive_passes_per_mp  touches_per_mp  take_ons_per_mp  \\\n",
       "0                   0.029307        0.596140         0.000715   \n",
       "1                   0.021008        0.605642         0.000000   \n",
       "2                   0.030521        0.736086         0.000000   \n",
       "3                   0.000000        0.928571         0.000000   \n",
       "4                   0.019093        0.536993         0.004773   \n",
       "\n",
       "   carrying_distance_per_mp  goals_per_mp  successful_shots_per_mp  \n",
       "0                  1.067906      0.002859                 0.004289  \n",
       "1                  0.602641      0.000000                 0.000000  \n",
       "2                  1.016158      0.001795                 0.001795  \n",
       "3                  0.214286      0.000000                 0.000000  \n",
       "4                  1.042959      0.000000                 0.000000  \n",
       "\n",
       "[5 rows x 25 columns]"
      ]
     },
     "execution_count": 132,
     "metadata": {},
     "output_type": "execute_result"
    }
   ],
   "source": [
    "df.head()"
   ]
  },
  {
   "cell_type": "code",
   "execution_count": 133,
   "id": "0aef8f16-1469-49f1-9cec-4d926c2634fd",
   "metadata": {},
   "outputs": [],
   "source": [
    "one_hot = pd.get_dummies(df['position'])\n",
    "df = pd.concat([df, one_hot], axis=1)\n",
    "df.drop(['position'], inplace=True, axis=1)"
   ]
  },
  {
   "cell_type": "code",
   "execution_count": 135,
   "id": "360cc2f9-872e-4d3c-b34b-d9aeeeb5c810",
   "metadata": {},
   "outputs": [],
   "source": [
    "one_hot = pd.get_dummies(df['foot'])\n",
    "df = pd.concat([df, one_hot], axis=1)\n",
    "df.drop(['foot'], axis=1, inplace=True)"
   ]
  },
  {
   "cell_type": "code",
   "execution_count": null,
   "id": "02929430-05f4-486c-ad37-e8c56d006854",
   "metadata": {},
   "outputs": [],
   "source": [
    "df.columns"
   ]
  },
  {
   "cell_type": "code",
   "execution_count": 136,
   "id": "91786422-b657-4c98-8514-6566a3e14130",
   "metadata": {},
   "outputs": [],
   "source": [
    "df = df.loc[df['touches_per_mp'].notna()] \n",
    "df = df.loc[df['passes_per_mp'].notna()] "
   ]
  },
  {
   "cell_type": "code",
   "execution_count": 137,
   "id": "3456ec15-cd0c-495e-978a-92e9da195c74",
   "metadata": {},
   "outputs": [],
   "source": [
    "missing_heights = {\n",
    "    1193: 175,\n",
    "    1255: 174,\n",
    "    1504: 197,\n",
    "    1532: 176,\n",
    "    1533: 176,\n",
    "    2081: 185,\n",
    "    2098: 178,\n",
    "    2122: 180,\n",
    "    2134: 170,\n",
    "    2141: 176,\n",
    "    2172: 177,\n",
    "    2173: 185,\n",
    "    2174: 181,\n",
    "    2176: 175,\n",
    "    2179: 184,\n",
    "    2180: 175,\n",
    "    2190: 192,\n",
    "    2204: 172,\n",
    "    2222: 179,\n",
    "    2395: 182,\n",
    "    2403: 191,\n",
    "    2404: 187,\n",
    "    2411: 182,\n",
    "    2435: 179,\n",
    "    2436: 183,\n",
    "    2449: 191\n",
    "}\n"
   ]
  },
  {
   "cell_type": "code",
   "execution_count": 138,
   "id": "1ab6c43d-3483-4e14-992f-016ae4cc6322",
   "metadata": {},
   "outputs": [],
   "source": [
    "df.loc[list(missing_heights.keys()), 'height'] = list(missing_heights.values())"
   ]
  },
  {
   "cell_type": "code",
   "execution_count": 139,
   "id": "d53ff2b1-c656-4ea9-aef8-af6d5a1716f1",
   "metadata": {},
   "outputs": [
    {
     "data": {
      "text/plain": [
       "Index(['name', 'price', 'age', 'nationality', 'height', 'join_date',\n",
       "       'contract_expiration', 'minutes_played', 'tackles_won_per_mp',\n",
       "       'defensive_actions_per_mp', 'sca_per_mp', 'gca_per_mp', 'cards',\n",
       "       'fouls_per_mp', 'aerial_duels_won_per_mp', 'passes_per_mp',\n",
       "       'assists_per_mp', 'progressive_passes_per_mp', 'touches_per_mp',\n",
       "       'take_ons_per_mp', 'carrying_distance_per_mp', 'goals_per_mp',\n",
       "       'successful_shots_per_mp', 'Attacker', 'Defender', 'Midfielder', 'both',\n",
       "       'left', 'right'],\n",
       "      dtype='object')"
      ]
     },
     "execution_count": 139,
     "metadata": {},
     "output_type": "execute_result"
    }
   ],
   "source": [
    "df.columns"
   ]
  },
  {
   "cell_type": "code",
   "execution_count": 165,
   "id": "60cc70e5-1f4a-4c57-9d8d-6ca1d1b68d11",
   "metadata": {},
   "outputs": [],
   "source": [
    "midfielders = df.copy()"
   ]
  },
  {
   "cell_type": "code",
   "execution_count": 193,
   "id": "dce78675-162c-4f20-85dc-65912dcc55eb",
   "metadata": {},
   "outputs": [
    {
     "name": "stdout",
     "output_type": "stream",
     "text": [
      "R-squared score: 0.17322136709924874\n"
     ]
    }
   ],
   "source": [
    "# Import necessary libraries\n",
    "import pandas as pd\n",
    "from sklearn.model_selection import train_test_split\n",
    "from sklearn.linear_model import LinearRegression\n",
    "from sklearn.metrics import r2_score\n",
    "\n",
    "# Select the most important features\n",
    "X = attackers[['age', 'minutes_played', 'sca_per_mp', 'gca_per_mp', 'aerial_duels_won_per_mp', 'passes_per_mp',\n",
    "       'assists_per_mp', 'progressive_passes_per_mp', 'touches_per_mp','goals_per_mp']]\n",
    "\n",
    "# Define the target variable\n",
    "y = attackers['price']\n",
    "\n",
    "# Split the data into training and testing sets\n",
    "X_train, X_test, y_train, y_test = train_test_split(X, y, test_size=0.33, random_state=42)\n",
    "\n",
    "# Create and train the regression model\n",
    "model = LinearRegression()\n",
    "model.fit(X_train, y_train)\n",
    "\n",
    "# Make predictions on the testing set\n",
    "y_pred = model.predict(X_test)\n",
    "\n",
    "# Evaluate the model's performance\n",
    "r2 = r2_score(y_test, y_pred)\n",
    "print('R-squared score:', r2)\n"
   ]
  },
  {
   "cell_type": "code",
   "execution_count": 171,
   "id": "988f01fd-c888-4c0a-8cdd-f694bf85d8a9",
   "metadata": {},
   "outputs": [
    {
     "data": {
      "text/plain": [
       "Index(['name', 'price', 'age', 'nationality', 'height', 'join_date',\n",
       "       'contract_expiration', 'minutes_played', 'tackles_won_per_mp',\n",
       "       'defensive_actions_per_mp', 'sca_per_mp', 'gca_per_mp', 'cards',\n",
       "       'fouls_per_mp', 'aerial_duels_won_per_mp', 'passes_per_mp',\n",
       "       'assists_per_mp', 'progressive_passes_per_mp', 'touches_per_mp',\n",
       "       'take_ons_per_mp', 'carrying_distance_per_mp', 'goals_per_mp',\n",
       "       'successful_shots_per_mp', 'Attacker', 'Defender', 'Midfielder', 'both',\n",
       "       'left', 'right'],\n",
       "      dtype='object')"
      ]
     },
     "execution_count": 171,
     "metadata": {},
     "output_type": "execute_result"
    }
   ],
   "source": [
    "attackers.columns"
   ]
  },
  {
   "cell_type": "code",
   "execution_count": 198,
   "id": "8dc3e55d-40c9-4648-976e-e140346e6374",
   "metadata": {},
   "outputs": [
    {
     "name": "stdout",
     "output_type": "stream",
     "text": [
      "Mean cross-validation R-squared score: 0.11939728116718085\n"
     ]
    }
   ],
   "source": [
    "import pandas as pd\n",
    "from sklearn.linear_model import LinearRegression\n",
    "from sklearn.model_selection import KFold\n",
    "from sklearn.metrics import r2_score\n",
    "\n",
    "# Select the most important features\n",
    "X = attackers[['minutes_played', 'gca_per_mp', 'aerial_duels_won_per_mp', 'passes_per_mp',\n",
    "               'assists_per_mp', 'progressive_passes_per_mp', 'touches_per_mp', 'goals_per_mp']]\n",
    "\n",
    "# Define the target variable\n",
    "y = attackers['price']\n",
    "\n",
    "# Create KFold object\n",
    "kf = KFold(n_splits=3, shuffle=True, random_state=42)\n",
    "\n",
    "# Initialize list to store cross-validation scores\n",
    "cv_scores = []\n",
    "\n",
    "# Loop over KFold splits\n",
    "for train_index, test_index in kf.split(X):\n",
    "    # Split data into training and testing sets for current fold\n",
    "    X_train, X_test = X.iloc[train_index], X.iloc[test_index]\n",
    "    y_train, y_test = y.iloc[train_index], y.iloc[test_index]\n",
    "\n",
    "    # Create and train the regression model\n",
    "    model = LinearRegression()\n",
    "    model.fit(X_train, y_train)\n",
    "\n",
    "    # Make predictions on the testing set\n",
    "    y_pred = model.predict(X_test)\n",
    "\n",
    "    # Calculate R-squared score for current fold\n",
    "    r2 = r2_score(y_test, y_pred)\n",
    "\n",
    "    # Add R-squared score to list of cross-validation scores\n",
    "    cv_scores.append(r2)\n",
    "\n",
    "# Calculate mean of cross-validation scores\n",
    "mean_cv_score = sum(cv_scores) / len(cv_scores)\n",
    "\n",
    "print('Mean cross-validation R-squared score:', mean_cv_score)\n"
   ]
  },
  {
   "cell_type": "code",
   "execution_count": null,
   "id": "628fdc71-3627-432f-afca-fc8bd891c8eb",
   "metadata": {},
   "outputs": [],
   "source": []
  },
  {
   "cell_type": "code",
   "execution_count": null,
   "id": "1600c242-bb19-4d58-a11c-58cc5000ddfe",
   "metadata": {},
   "outputs": [],
   "source": []
  }
 ],
 "metadata": {
  "kernelspec": {
   "display_name": "Python 3 (ipykernel)",
   "language": "python",
   "name": "python3"
  },
  "language_info": {
   "codemirror_mode": {
    "name": "ipython",
    "version": 3
   },
   "file_extension": ".py",
   "mimetype": "text/x-python",
   "name": "python",
   "nbconvert_exporter": "python",
   "pygments_lexer": "ipython3",
   "version": "3.9.4"
  }
 },
 "nbformat": 4,
 "nbformat_minor": 5
}

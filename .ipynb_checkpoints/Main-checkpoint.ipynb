{
 "cells": [
  {
   "cell_type": "markdown",
   "id": "aedccf67-65c6-4ced-9275-1cd52c37e183",
   "metadata": {},
   "source": [
    "# Predicting Player Transfer Value"
   ]
  },
  {
   "cell_type": "markdown",
   "id": "b0946c82-0a4c-45d1-aa30-a6862877f704",
   "metadata": {},
   "source": [
    "**By:** Inesh Jacob, Vedangi Patel, Nate Piplias, and Rodrigo Tiscareno"
   ]
  },
  {
   "cell_type": "markdown",
   "id": "f0ad8c76-31c1-43ed-aa9f-0d1f9a632543",
   "metadata": {},
   "source": [
    "**Note:** The cells are designed and implemented to be run in-sequence. There may be dependencies on previously-run cells. This applies for cells subsequent to the reading of the 'player_dataset.csv'"
   ]
  },
  {
   "cell_type": "markdown",
   "id": "d47d5a76-a130-467d-a8b4-14d0a0aad0bd",
   "metadata": {},
   "source": [
    "## Table of Contents\n",
    "* [Introduction](#introduction)\n",
    "* [Data Extraction](#data-extraction)\n",
    "* [Data Transformations](#data-transformations)\n",
    "* [Feature Refinement](#data-refinement)\n",
    "* [Data Exploration](#data-exploration)\n",
    "* [Linear Regression](#linear-regression)"
   ]
  },
  {
   "cell_type": "markdown",
   "id": "aff8776d-65b1-4443-825a-3eb1f7f03c44",
   "metadata": {},
   "source": [
    "\n",
    "## Introduction <a class=\"anchor\" id=\"introduction\"></a>\n",
    "\n",
    "To this day, there are more than 128,983 professional football players registered within FIFA’s system. With tight transfer budgets and growing competition from fierce rivals and clubs around the world, teams need to be fiscally responsible with who they acquire and for what value. Even the largest clubs in the world with budgets eclipsing £100 million risk falling into financial difficulty if they are unable to control their spending on players. Many teams take huge gambles on players, leveraging debt and key assets to try and win championships.  \n",
    "\n",
    "An excellent example of this would be Chelsea FC who has spent two billion euros on transfers in the past 5 years with €660 million financed using debt with more than 82% of that incurred this year. With every season that passes by it seems that more and more money is being spent on transfers and player contracts. \n",
    "\n",
    "By approaching and evaluating player transfer fees from a performance-metric perspective, player transfer values can be predicted as close to a player’s actual playing performance as closely as possible. \n",
    "\n",
    "Through analysis of player data from previous seasons and their listed transfer values, a model can be created to accurately predict a player’s value regardless of what team or league they are currently a part of. As a result, teams with only a couple thousand available to spend as well as those with tens of millions of dollars at their disposal will be better equipped to make smart decisions to improve their team while still remaining profitable. \n",
    "\n",
    "In this analysis, we perform multi-variable linear regression to calculate and predict a player's transfer value based on their personal information and their in-game statistics from thr 2022-2023 season.\n"
   ]
  },
  {
   "cell_type": "markdown",
   "id": "fc41761e-a600-4e6e-aaa4-6107357ad095",
   "metadata": {},
   "source": [
    "## Data Extraction <a class=\"anchor\" id=\"data-extraction\"></a>\n",
    "\n",
    "**Note**: The data extraction process can take up to 10 minutes (data web-scraping and aggregation). Pllease run the cells in order to produce the best results. If you'd like access to the final player dataset after the data extraction set, please click here."
   ]
  },
  {
   "cell_type": "code",
   "execution_count": 1,
   "id": "7b6f3107-eb63-4ab8-9e91-2574bde7aaa5",
   "metadata": {},
   "outputs": [],
   "source": [
    "import pandas as pd\n",
    "import numpy as np\n",
    "import os\n",
    "import requests\n",
    "from bs4 import BeautifulSoup\n",
    "from functools import reduce\n",
    "from unidecode import unidecode\n",
    "import re\n",
    "from datetime import datetime\n",
    "from sklearn.model_selection import train_test_split\n",
    "from sklearn.linear_model import LinearRegression\n",
    "from sklearn import metrics"
   ]
  },
  {
   "cell_type": "markdown",
   "id": "17459d20-dc84-4698-bf7c-8229efcb6fd9",
   "metadata": {},
   "source": [
    "Please download config.py from this directory. It will contain a Python script with all configuration information necessary to perform the webscraping and data extraction for this project."
   ]
  },
  {
   "cell_type": "code",
   "execution_count": 2,
   "id": "b3759e9d-dcf0-4eb9-9381-f9314d75bfbd",
   "metadata": {},
   "outputs": [],
   "source": [
    "from config import STAT_LINKS, DF_ORDER, INFO_LINKS, NATIONS"
   ]
  },
  {
   "cell_type": "code",
   "execution_count": 3,
   "id": "cc391be1-4a71-4f4a-ac57-2c39ead95769",
   "metadata": {},
   "outputs": [],
   "source": [
    "def get_player_statistics(stat_links, df_order):\n",
    "    for nations in STAT_LINKS:\n",
    "        for team in STAT_LINKS[nations]:\n",
    "            df_list = pd.read_html(STAT_LINKS[nations][team], header=1)\n",
    "            for i, df in enumerate(df_list):\n",
    "                if not os.path.isdir(f\"{nations}/player_stats/{team}/\"):\n",
    "                    os.makedirs(f\"{nations}/player_stats/{team}/\")\n",
    "                df.to_csv(f\"{nations}/player_stats/{team}/{df_order[i]}.csv\", index=False)"
   ]
  },
  {
   "cell_type": "code",
   "execution_count": 4,
   "id": "52bab2a2-23b7-420c-b5dc-a3f245823ef9",
   "metadata": {},
   "outputs": [],
   "source": [
    "get_player_statistics(STAT_LINKS, DF_ORDER)"
   ]
  },
  {
   "cell_type": "code",
   "execution_count": 5,
   "id": "f43a3042-adfa-4fc9-b8c8-955669fe1c62",
   "metadata": {},
   "outputs": [],
   "source": [
    "def get_player_info(INFO_LINKS):\n",
    "    \n",
    "    for nation in INFO_LINKS:\n",
    "        for team in INFO_LINKS[nation]:\n",
    "\n",
    "        # Get team name.\n",
    "            team_name = team.split(\"/\")[3]\n",
    "\n",
    "            headers = {'User-Agent': 'Mozilla/5.0 (X11; Linux x86_64) AppleWebKit/537.36 (KHTML, like Gecko) Chrome/47.0.2526.106 Safari/537.36'}\n",
    "            page = team\n",
    "            pageTree = requests.get(page, headers=headers)\n",
    "            pageSoup = BeautifulSoup(pageTree.content, 'html.parser')\n",
    "\n",
    "            # Acquire player names, prices and positions. \n",
    "            names = []\n",
    "            positions = []\n",
    "            tables= pageSoup.find_all('table', class_='inline-table')\n",
    "            for table in tables:\n",
    "                rows = table.find_all('tr')\n",
    "                name = rows[0].text.strip()\n",
    "                position = rows[1].text.strip()\n",
    "                names.append(name)\n",
    "                positions.append(position)\n",
    "\n",
    "            player_prices = pageSoup.find_all(class_='rechts hauptlink')\n",
    "            prices = []\n",
    "            for price in player_prices:\n",
    "                price = price.text.strip()\n",
    "                prices.append(price)\n",
    "\n",
    "            # Store in info dataframe.\n",
    "            info = pd.DataFrame({'name': names, 'price': prices, 'position':positions})\n",
    "\n",
    "            # Custom logic to acquire dob, nationality, height, foot, join_date, and contract_expiration.\n",
    "            data_rows = []\n",
    "            tables= pageSoup.find_all('table', class_='items')\n",
    "            for table in tables:\n",
    "                rows = table.find_all('td', {\"class\": \"zentriert\"})\n",
    "                for i in range(len(rows)):\n",
    "                    data_rows.append(rows[i])\n",
    "\n",
    "\n",
    "            general = [data_rows[i:i + 8] for i in range(0, len(data_rows), 8)]\n",
    "            overall = []\n",
    "            for g in general:\n",
    "                overall.append(dict(\n",
    "                  dob = g[1].text.strip(),\n",
    "                  nationality = g[2].img['alt'],\n",
    "                  height = g[3].text.strip(),\n",
    "                  foot = g[4].text.strip(),\n",
    "                  join_date = g[5].text.strip(),\n",
    "                  contract_expiration = g[7].text.strip(), \n",
    "              )\n",
    "              )\n",
    "            # Create info2 dataframe with additional information.\n",
    "            info2 = pd.DataFrame(overall)\n",
    "\n",
    "            # Concat info with info2 to combine information.\n",
    "            overall = pd.concat([info, info2], axis=1)\n",
    "\n",
    "            if not os.path.isdir(f\"{nation}/player_info\"):\n",
    "                  os.makedirs(f\"{nation}/player_info\")\n",
    "\n",
    "            # Export dataframe to nation directory.\n",
    "            overall.to_csv(f\"{nation}/player_info/{team_name}.csv\", index=False)"
   ]
  },
  {
   "cell_type": "code",
   "execution_count": 6,
   "id": "e74cb102-cb0f-4df8-ab5d-1ac76af79a48",
   "metadata": {},
   "outputs": [],
   "source": [
    "get_player_info(INFO_LINKS)"
   ]
  },
  {
   "cell_type": "code",
   "execution_count": 9,
   "id": "73316d7d-962e-4e27-bdbc-f4481c7de58e",
   "metadata": {},
   "outputs": [],
   "source": [
    "def clean_up_defensive_actions(df):\n",
    "    df = df.iloc[:-2]\n",
    "    \n",
    "    df.drop(columns=[\n",
    "        '90s',\n",
    "        'Matches',\n",
    "        'Nation',\n",
    "        'Pos',\n",
    "        'Age',\n",
    "        'Tkl.1',\n",
    "        'Att',\n",
    "        'Tkl%',\n",
    "        'Lost',\n",
    "        'Blocks',\n",
    "        'Tkl+Int',\n",
    "        'Pass'\n",
    "    ], inplace=True)\n",
    "    \n",
    "    df.rename(columns={\n",
    "        'Tkl': 'tackles',\n",
    "        'TklW': 'tackles_won',\n",
    "        'Def 3rd': 'defensive_third_tackles',\n",
    "        'Mid 3rd': 'midfield_tackles',\n",
    "        'Att 3rd': 'attacking_third_tackles',\n",
    "        'Sh': 'shots_blocked',\n",
    "        'Pass': 'passes_blocked',\n",
    "        'Int': 'interceptions',\n",
    "        'Clr': 'clearances',\n",
    "        'Err': 'errors_leading_to_goal'\n",
    "    }, inplace=True)\n",
    "    \n",
    "    return df"
   ]
  },
  {
   "cell_type": "code",
   "execution_count": 10,
   "id": "ff2274a8-862a-4707-91a9-c4ae2a7db043",
   "metadata": {},
   "outputs": [],
   "source": [
    "def clean_up_goal_and_shot(df):\n",
    "    df = df.iloc[:-2]\n",
    "    \n",
    "    df.drop(columns=[\n",
    "        '90s',\n",
    "        'Matches',\n",
    "        'Nation',\n",
    "        'Pos',\n",
    "        'Age',\n",
    "        'SCA90',\n",
    "        'GCA90',\n",
    "    ], inplace=True)\n",
    "    \n",
    "    df.rename(columns={\n",
    "        'SCA': 'shot_creating_actions',\n",
    "        'PassLive': 'sca_live_passes',\n",
    "        'PassDead': 'sca_dead_passes',\n",
    "        'TO': 'sca_take_ons',\n",
    "        'Sh': 'sca_shots',\n",
    "        'Fld': 'sca_fouls_drawn',\n",
    "        'Def': 'sca_defensive_actions',\n",
    "        'GCA': 'goal_creation_actions',\n",
    "        'PassLive.1': 'gca_live_passes',\n",
    "        'PassDead.1': 'gca_dead_passes',\n",
    "        'TO.1': 'gca_take_ons',\n",
    "        'Sh.1': 'gca_shots',\n",
    "        'Fld.1': 'gca_fouls_drawn',\n",
    "        'Def.1': 'gca_defensive_actions',\n",
    "    }, inplace=True)\n",
    "    \n",
    "    return df"
   ]
  },
  {
   "cell_type": "code",
   "execution_count": 11,
   "id": "6a8b69ce-50fc-4751-8109-83643d565e7b",
   "metadata": {},
   "outputs": [],
   "source": [
    "def clean_up_miscellaneous(df):\n",
    "    df = df.iloc[:-2]\n",
    "    \n",
    "    df.drop(columns=[\n",
    "        '90s',\n",
    "        'Matches',\n",
    "        'Nation',\n",
    "        'Pos',\n",
    "        'Age',\n",
    "        '2CrdY',\n",
    "        'Crs',\n",
    "        'Int',\n",
    "        'TklW',\n",
    "        'Won%',\n",
    "    ], inplace=True)\n",
    "    \n",
    "    df.rename(columns={\n",
    "        'CrdY': 'yellow_cards',\n",
    "        'CrdR': 'red_cards',\n",
    "        'Fls': 'fouls',\n",
    "        'Fld': 'fouls_drawn',\n",
    "        'Off': 'offsides',\n",
    "        'Fls': 'fouls',\n",
    "        'Fld': 'fouls_drawn',\n",
    "        'Off': 'offsides',\n",
    "        'PKwon': 'penalties_won',\n",
    "        'PKcon': 'penalties_conceded',\n",
    "        'OG': 'own_goals',\n",
    "        'Recov': 'ball_recoveries',\n",
    "        'Won': 'aerial_duels_won',\n",
    "        'Lost': 'aerial_duels_lost',\n",
    "    }, inplace=True)\n",
    "    \n",
    "    return df"
   ]
  },
  {
   "cell_type": "code",
   "execution_count": 12,
   "id": "29f41107-5ab4-4477-9057-6e79e12b759d",
   "metadata": {},
   "outputs": [],
   "source": [
    "def clean_up_passing(df):\n",
    "    df = df.iloc[:-2]\n",
    "    \n",
    "    df.rename(columns={\n",
    "        'Cmp.1': 'short_passes_completed',\n",
    "        'Att.1': 'short_passes_attempted',\n",
    "        'Cmp.2': 'medium_passes_completed',\n",
    "        'Att.2': 'medium_passes_attempted',\n",
    "        'Cmp.3': 'long_passes_completed',\n",
    "        'Att.3': 'long_passes_attempted',\n",
    "        'Ast': 'assists',\n",
    "        'xA': 'expected_assists',\n",
    "        'KP': 'key_passes',\n",
    "        '1/3': 'passes_into_final_third',\n",
    "        'PPA': 'passes_into_penalty_box',\n",
    "        'CrsPA': 'crosses_into_penalty_area',\n",
    "        'PrgP': 'progressive_passes',\n",
    "    }, inplace=True)\n",
    "   \n",
    "    df.drop(columns=[\n",
    "        '90s',\n",
    "        'Matches',\n",
    "        'Nation',\n",
    "        'Pos',\n",
    "        'Age',\n",
    "        'Cmp',\n",
    "        'Att',\n",
    "        'Cmp%',\n",
    "        'TotDist',\n",
    "        'PrgDist',\n",
    "        'Cmp%.1',\n",
    "        'Cmp%.2',\n",
    "        'Cmp%.3',\n",
    "        'xAG',\n",
    "        'A-xAG',\n",
    "    ], inplace=True)\n",
    "    \n",
    "    return df"
   ]
  },
  {
   "cell_type": "code",
   "execution_count": 13,
   "id": "a9ef8072-abb8-4089-a4dc-e3fe3bed3ffd",
   "metadata": {},
   "outputs": [],
   "source": [
    "def clean_up_playing_time(df):\n",
    "    df = df.iloc[:-2]\n",
    "    \n",
    "    df = df[['Player', 'Min', 'MP', 'Starts']]\n",
    "    \n",
    "    df.rename(columns={\n",
    "        'Min': 'minutes_played',\n",
    "        'MP': 'matches_played',\n",
    "        'Starts': 'matches_started',\n",
    "    }, inplace=True)\n",
    "    \n",
    "    return df"
   ]
  },
  {
   "cell_type": "code",
   "execution_count": 14,
   "id": "671f3dbe-7cf7-4e75-b154-bb9fe4d37707",
   "metadata": {},
   "outputs": [],
   "source": [
    "def clean_up_possession(df):\n",
    "    df = df.iloc[:-2]\n",
    "    \n",
    "    df.drop(columns=[\n",
    "        '90s',\n",
    "        'Matches',\n",
    "        'Nation',\n",
    "        'Pos',\n",
    "        'Age',\n",
    "        'Touches',\n",
    "        'Live',\n",
    "        'Succ%',\n",
    "        'Tkld%',\n",
    "        'Rec',\n",
    "        'PrgR',\n",
    "    ], inplace=True)\n",
    "    \n",
    "    df.rename(columns={\n",
    "        'Def Pen': 'touches_penalty_area_defending',\n",
    "        'Def 3rd': 'touches_defensive_third',\n",
    "        'Mid 3rd': 'touches_middle_third',\n",
    "        'Att 3rd': 'touches_attacking_third',\n",
    "        'Att Pen': 'touches_penalty_area_attacking',\n",
    "        'Att': 'attempted_take_ons',\n",
    "        'Succ': 'successful_take_ons',\n",
    "        'Tkld': 'tackled_take_ons',\n",
    "        'Carries': 'carries',\n",
    "        'TotDist': 'total_carrying_distance',\n",
    "        'PrgDist': 'progressive_carrying_distance',\n",
    "        'PrgC': 'progressive_carries',\n",
    "        '1/3': 'carries_into_final_third',\n",
    "        'CPA': 'carries_into_penalty_area',\n",
    "        'Mis': 'carry_miscontrols',\n",
    "        'Dis': 'carry_dispossessions',\n",
    "    }, inplace=True)\n",
    "    \n",
    "    return df"
   ]
  },
  {
   "cell_type": "code",
   "execution_count": 15,
   "id": "8da4483f-a423-4560-8c8a-5755fb7d1f0b",
   "metadata": {},
   "outputs": [],
   "source": [
    "def clean_up_shooting(df):\n",
    "    df = df.iloc[:-2]\n",
    "    \n",
    "    df.drop(columns=[\n",
    "        '90s',\n",
    "        'Matches',\n",
    "        'Nation',\n",
    "        'Pos',\n",
    "        'Age',\n",
    "        'SoT%',\n",
    "        'Sh/90',\n",
    "        'SoT/90',\n",
    "        'G/SoT',\n",
    "        'npxG',\n",
    "        'npxG/Sh',\n",
    "        'G-xG',\n",
    "        'np:G-xG',\n",
    "    ], inplace=True)\n",
    "    \n",
    "    df.rename(columns={\n",
    "        'Gls': 'goals',\n",
    "        'Sh': 'total_shots',\n",
    "        'SoT': 'shots_on_target',\n",
    "        'G/Sh': 'goals_per_shot',\n",
    "        'Dist': 'average_shot_distance',\n",
    "        'FK': 'freekick_shots',\n",
    "        'PK': 'penalty_kicks_converted',\n",
    "        'PKatt': 'penalty_kicks_attempted',\n",
    "    }, inplace=True)\n",
    "    \n",
    "    return df"
   ]
  },
  {
   "cell_type": "code",
   "execution_count": 29,
   "id": "9da9c6b8-4ac2-4e25-b4df-6a314faaa6d1",
   "metadata": {},
   "outputs": [],
   "source": [
    "# Perform the general dropping and renaming of columns.\n",
    "def clean_up_statistic_dataframes(directory):\n",
    "    \n",
    "    files = [\n",
    "        (\"playing_time.csv\", clean_up_playing_time),\n",
    "        (\"defensive_actions.csv\", clean_up_defensive_actions),\n",
    "        (\"goal_and_shot_creation.csv\", clean_up_goal_and_shot),\n",
    "        (\"miscellaneous_tasks.csv\", clean_up_miscellaneous),\n",
    "        (\"passing.csv\", clean_up_passing),\n",
    "        (\"possession.csv\", clean_up_possession),\n",
    "        (\"shooting.csv\", clean_up_shooting),\n",
    "    ]\n",
    "    \n",
    "    dfs = []\n",
    "    for file, clean_func in files:\n",
    "        df = pd.read_csv(f\"{directory}/{file}\")\n",
    "        df = clean_func(df)\n",
    "        dfs.append(df)\n",
    "    \n",
    "    df_merged = pd.concat(dfs, axis=1)\n",
    "    \n",
    "    return df_merged\n"
   ]
  },
  {
   "cell_type": "code",
   "execution_count": 26,
   "id": "ecf602c3-d1ff-4f0a-bca3-e6340c63fc11",
   "metadata": {},
   "outputs": [],
   "source": [
    "# For each nation, compile the in-game statistics dataset.\n",
    "def get_statistics_df(NATIONS):\n",
    "    for nation in NATIONS:\n",
    "        rootdir = f'{nation}/player_stats/'\n",
    "        dfs = []\n",
    "        for i, file in enumerate(os.listdir(rootdir)):\n",
    "            d = os.path.join(rootdir, file)\n",
    "            if \".ipynb_checkpoints\" in d:\n",
    "                continue\n",
    "            dfs.append(clean_up_statistic_dataframes(d))\n",
    "        result_df = pd.concat(dfs, ignore_index=True)\n",
    "        result_df = result_df.loc[:, ~result_df.columns.duplicated()]\n",
    "\n",
    "        result_df.to_csv(f\"{nation}/overall_player_stats.csv\", index=False)"
   ]
  },
  {
   "cell_type": "code",
   "execution_count": null,
   "id": "1b614945-9924-41b9-8c2b-aa6c48375537",
   "metadata": {},
   "outputs": [],
   "source": [
    "get_statistics_df(NATIONS)"
   ]
  },
  {
   "cell_type": "code",
   "execution_count": 27,
   "id": "90288cd5-f310-425d-8c01-fc3938526785",
   "metadata": {},
   "outputs": [],
   "source": [
    "# For each nation, compile the player information dataset.\n",
    "def get_information_df(NATIONS):\n",
    "    for nation in NATIONS:\n",
    "        directory = f'{nation}/player_info'\n",
    "\n",
    "        csv_files = [f for f in os.listdir(directory) if f.endswith('.csv')]\n",
    "\n",
    "        dfs = []\n",
    "\n",
    "        for csv_file in csv_files:\n",
    "            df = pd.read_csv(os.path.join(directory, csv_file))\n",
    "            dfs.append(df)\n",
    "\n",
    "        merged_df = pd.concat(dfs, ignore_index=True)\n",
    "\n",
    "        merged_df.to_csv(f\"{nation}/player_info.csv\", index=False)"
   ]
  },
  {
   "cell_type": "code",
   "execution_count": 21,
   "id": "5219cce4-c9f3-4129-ab44-c5e200da1fef",
   "metadata": {},
   "outputs": [],
   "source": [
    "get_information_df(NATIONS)"
   ]
  },
  {
   "cell_type": "code",
   "execution_count": 28,
   "id": "e468be66-b53c-4fac-b5fa-e69db07cce9b",
   "metadata": {},
   "outputs": [],
   "source": [
    "# Join the player information and player statistics tables for each nation.\n",
    "def compile_nation_df(NATIONS):\n",
    "    for nation in NATIONS:\n",
    "\n",
    "        df1 = pd.read_csv(f\"{nation}/player_info.csv\")\n",
    "        df2 = pd.read_csv(f\"{nation}/overall_player_stats.csv\")\n",
    "\n",
    "        df1[\"normalized_named\"] = df1[\"name\"].apply(unidecode)\n",
    "        df2[\"normalized_named\"] = df2[\"Player\"].apply(unidecode)\n",
    "\n",
    "        merged_df = pd.merge(df1, df2, on=\"normalized_named\", how=\"inner\")\n",
    "        merged_df.drop(columns=[\"normalized_named\", \"Player\"], axis=1, inplace=True)\n",
    "        \n",
    "        if not os.path.isdir(f\"finalized_nation_datasets\"):\n",
    "                  os.makedirs(f\"finalized_nation_datasets\")\n",
    "        \n",
    "        merged_df.to_csv(f\"finalized_nation_datasets/{nation}_dataset.csv\", index=False)"
   ]
  },
  {
   "cell_type": "code",
   "execution_count": 23,
   "id": "664f4cc1-9902-44c6-8b91-44cf7e7042c7",
   "metadata": {},
   "outputs": [],
   "source": [
    "compile_nation_df(NATIONS)"
   ]
  },
  {
   "cell_type": "code",
   "execution_count": 30,
   "id": "75380fff-ba03-41cd-a06f-19394e07e627",
   "metadata": {},
   "outputs": [],
   "source": [
    "# For each nation's combined dataset, compile and aggregate the data to produce the overall player_dataset.csv file.\n",
    "def get_general_dataset():\n",
    "    directory = f'finalized_nation_datasets/'\n",
    "\n",
    "    csv_files = [f for f in os.listdir(directory) if f.endswith('.csv')]\n",
    "\n",
    "    dfs = []\n",
    "\n",
    "    for csv_file in csv_files:\n",
    "        df = pd.read_csv(os.path.join(directory, csv_file))\n",
    "        dfs.append(df)\n",
    "\n",
    "    merged_df = pd.concat(dfs, ignore_index=True)\n",
    "\n",
    "    merged_df.to_csv(f\"player_dataset.csv\", index=False)"
   ]
  },
  {
   "cell_type": "code",
   "execution_count": 31,
   "id": "90f44d1a-dda5-4e5a-b059-c824fefd6f0f",
   "metadata": {},
   "outputs": [],
   "source": [
    "get_general_dataset()"
   ]
  },
  {
   "cell_type": "markdown",
   "id": "248a6b93-e8e7-42df-8fff-32543d67cc4a",
   "metadata": {},
   "source": [
    "## Data Transformation <a class=\"anchor\" id=\"data-transformations\"></a>"
   ]
  },
  {
   "cell_type": "markdown",
   "id": "e1eaad7b-5636-47ad-9c44-e0438a94ee4d",
   "metadata": {},
   "source": [
    "#### Converting Price Variable to a Numerical Variable"
   ]
  },
  {
   "cell_type": "code",
   "execution_count": 330,
   "id": "ea5441e0-7b47-46f4-80ad-bbbecb144680",
   "metadata": {},
   "outputs": [],
   "source": [
    "df = pd.read_csv('player_dataset.csv')"
   ]
  },
  {
   "cell_type": "code",
   "execution_count": 331,
   "id": "2536a985-79a9-4e97-9475-31b8f0e15b8c",
   "metadata": {},
   "outputs": [
    {
     "name": "stderr",
     "output_type": "stream",
     "text": [
      "/var/folders/tf/28wdj00j4h1_5_yq0wc9jwm40000gn/T/ipykernel_66329/3585879976.py:1: FutureWarning: The default value of regex will change from True to False in a future version. In addition, single character regular expressions will*not* be treated as literal strings when regex=True.\n",
      "  df['price'] = df['price'].str.replace('.', '')\n"
     ]
    }
   ],
   "source": [
    "df['price'] = df['price'].str.replace('.', '')\n",
    "df['price'] = df['price'].str.replace('€', '')\n",
    "df['price'] = df['price'].str.replace('m', '0000').str.replace('k', '000')\n",
    "df['price'] = df['price'].astype('double', errors='ignore')\n",
    "df = df[df['price'] != '-'].reset_index(drop=True)\n",
    "df['price'] = df['price'].astype('int')"
   ]
  },
  {
   "cell_type": "code",
   "execution_count": 332,
   "id": "42110dfe-b60b-4adf-9a9f-51a3283dca28",
   "metadata": {},
   "outputs": [
    {
     "data": {
      "text/plain": [
       "0    1200000\n",
       "1     500000\n",
       "2     400000\n",
       "3    5000000\n",
       "4    3500000\n",
       "Name: price, dtype: int64"
      ]
     },
     "execution_count": 332,
     "metadata": {},
     "output_type": "execute_result"
    }
   ],
   "source": [
    "df['price'].head()"
   ]
  },
  {
   "cell_type": "markdown",
   "id": "d2a80872-48fb-4e6a-8290-d311a10ca14d",
   "metadata": {},
   "source": [
    "#### Deleting Goalkeepers or Players With No Playing Time"
   ]
  },
  {
   "cell_type": "code",
   "execution_count": 333,
   "id": "20b4e0f0-73ee-4d5e-86e7-8875bc9fbd4d",
   "metadata": {},
   "outputs": [],
   "source": [
    "df = df[~df['minutes_played'].isna()].reset_index(drop=True)\n",
    "df = df[df['position'] != 'Goalkeeper'].reset_index(drop=True)"
   ]
  },
  {
   "cell_type": "code",
   "execution_count": 334,
   "id": "a3485621-0acf-4e57-a875-33613cdafd89",
   "metadata": {},
   "outputs": [
    {
     "data": {
      "text/html": [
       "<div>\n",
       "<style scoped>\n",
       "    .dataframe tbody tr th:only-of-type {\n",
       "        vertical-align: middle;\n",
       "    }\n",
       "\n",
       "    .dataframe tbody tr th {\n",
       "        vertical-align: top;\n",
       "    }\n",
       "\n",
       "    .dataframe thead th {\n",
       "        text-align: right;\n",
       "    }\n",
       "</style>\n",
       "<table border=\"1\" class=\"dataframe\">\n",
       "  <thead>\n",
       "    <tr style=\"text-align: right;\">\n",
       "      <th></th>\n",
       "      <th>name</th>\n",
       "      <th>price</th>\n",
       "      <th>position</th>\n",
       "      <th>dob</th>\n",
       "      <th>nationality</th>\n",
       "      <th>height</th>\n",
       "      <th>foot</th>\n",
       "      <th>join_date</th>\n",
       "      <th>contract_expiration</th>\n",
       "      <th>minutes_played</th>\n",
       "      <th>...</th>\n",
       "      <th>carry_dispossessions</th>\n",
       "      <th>goals</th>\n",
       "      <th>total_shots</th>\n",
       "      <th>shots_on_target</th>\n",
       "      <th>goals_per_shot</th>\n",
       "      <th>average_shot_distance</th>\n",
       "      <th>freekick_shots</th>\n",
       "      <th>penalty_kicks_converted</th>\n",
       "      <th>penalty_kicks_attempted</th>\n",
       "      <th>xG</th>\n",
       "    </tr>\n",
       "  </thead>\n",
       "  <tbody>\n",
       "  </tbody>\n",
       "</table>\n",
       "<p>0 rows × 84 columns</p>\n",
       "</div>"
      ],
      "text/plain": [
       "Empty DataFrame\n",
       "Columns: [name, price, position, dob, nationality, height, foot, join_date, contract_expiration, minutes_played, matches_played, matches_started, tackles, tackles_won, defensive_third_tackles, midfield_tackles, attacking_third_tackles, shots_blocked, interceptions, clearances, errors_leading_to_goal, shot_creating_actions, sca_live_passes, sca_dead_passes, sca_take_ons, sca_shots, sca_fouls_drawn, sca_defensive_actions, goal_creation_actions, gca_live_passes, gca_dead_passes, gca_take_ons, gca_shots, gca_fouls_drawn, gca_defensive_actions, yellow_cards, red_cards, fouls, fouls_drawn, offsides, penalties_won, penalties_conceded, own_goals, ball_recoveries, aerial_duels_won, aerial_duels_lost, short_passes_completed, short_passes_attempted, medium_passes_completed, medium_passes_attempted, long_passes_completed, long_passes_attempted, assists, expected_assists, key_passes, passes_into_final_third, passes_into_penalty_box, crosses_into_penalty_area, progressive_passes, touches_penalty_area_defending, touches_defensive_third, touches_middle_third, touches_attacking_third, touches_penalty_area_attacking, attempted_take_ons, successful_take_ons, tackled_take_ons, carries, total_carrying_distance, progressive_carrying_distance, progressive_carries, carries_into_final_third, carries_into_penalty_area, carry_miscontrols, carry_dispossessions, goals, total_shots, shots_on_target, goals_per_shot, average_shot_distance, freekick_shots, penalty_kicks_converted, penalty_kicks_attempted, xG]\n",
       "Index: []\n",
       "\n",
       "[0 rows x 84 columns]"
      ]
     },
     "execution_count": 334,
     "metadata": {},
     "output_type": "execute_result"
    }
   ],
   "source": [
    "df[df['minutes_played'].isna()]"
   ]
  },
  {
   "cell_type": "code",
   "execution_count": 335,
   "id": "4469dc1a-eb54-4ee7-8062-708be18dc925",
   "metadata": {},
   "outputs": [
    {
     "data": {
      "text/html": [
       "<div>\n",
       "<style scoped>\n",
       "    .dataframe tbody tr th:only-of-type {\n",
       "        vertical-align: middle;\n",
       "    }\n",
       "\n",
       "    .dataframe tbody tr th {\n",
       "        vertical-align: top;\n",
       "    }\n",
       "\n",
       "    .dataframe thead th {\n",
       "        text-align: right;\n",
       "    }\n",
       "</style>\n",
       "<table border=\"1\" class=\"dataframe\">\n",
       "  <thead>\n",
       "    <tr style=\"text-align: right;\">\n",
       "      <th></th>\n",
       "      <th>name</th>\n",
       "      <th>price</th>\n",
       "      <th>position</th>\n",
       "      <th>dob</th>\n",
       "      <th>nationality</th>\n",
       "      <th>height</th>\n",
       "      <th>foot</th>\n",
       "      <th>join_date</th>\n",
       "      <th>contract_expiration</th>\n",
       "      <th>minutes_played</th>\n",
       "      <th>...</th>\n",
       "      <th>carry_dispossessions</th>\n",
       "      <th>goals</th>\n",
       "      <th>total_shots</th>\n",
       "      <th>shots_on_target</th>\n",
       "      <th>goals_per_shot</th>\n",
       "      <th>average_shot_distance</th>\n",
       "      <th>freekick_shots</th>\n",
       "      <th>penalty_kicks_converted</th>\n",
       "      <th>penalty_kicks_attempted</th>\n",
       "      <th>xG</th>\n",
       "    </tr>\n",
       "  </thead>\n",
       "  <tbody>\n",
       "  </tbody>\n",
       "</table>\n",
       "<p>0 rows × 84 columns</p>\n",
       "</div>"
      ],
      "text/plain": [
       "Empty DataFrame\n",
       "Columns: [name, price, position, dob, nationality, height, foot, join_date, contract_expiration, minutes_played, matches_played, matches_started, tackles, tackles_won, defensive_third_tackles, midfield_tackles, attacking_third_tackles, shots_blocked, interceptions, clearances, errors_leading_to_goal, shot_creating_actions, sca_live_passes, sca_dead_passes, sca_take_ons, sca_shots, sca_fouls_drawn, sca_defensive_actions, goal_creation_actions, gca_live_passes, gca_dead_passes, gca_take_ons, gca_shots, gca_fouls_drawn, gca_defensive_actions, yellow_cards, red_cards, fouls, fouls_drawn, offsides, penalties_won, penalties_conceded, own_goals, ball_recoveries, aerial_duels_won, aerial_duels_lost, short_passes_completed, short_passes_attempted, medium_passes_completed, medium_passes_attempted, long_passes_completed, long_passes_attempted, assists, expected_assists, key_passes, passes_into_final_third, passes_into_penalty_box, crosses_into_penalty_area, progressive_passes, touches_penalty_area_defending, touches_defensive_third, touches_middle_third, touches_attacking_third, touches_penalty_area_attacking, attempted_take_ons, successful_take_ons, tackled_take_ons, carries, total_carrying_distance, progressive_carrying_distance, progressive_carries, carries_into_final_third, carries_into_penalty_area, carry_miscontrols, carry_dispossessions, goals, total_shots, shots_on_target, goals_per_shot, average_shot_distance, freekick_shots, penalty_kicks_converted, penalty_kicks_attempted, xG]\n",
       "Index: []\n",
       "\n",
       "[0 rows x 84 columns]"
      ]
     },
     "execution_count": 335,
     "metadata": {},
     "output_type": "execute_result"
    }
   ],
   "source": [
    "df[df['position'] == 'Goalkeeper']"
   ]
  },
  {
   "cell_type": "markdown",
   "id": "c4b025b3-9d35-4ac8-87db-8e992676236d",
   "metadata": {},
   "source": [
    "#### Mapping Poisitions to General Positions"
   ]
  },
  {
   "cell_type": "code",
   "execution_count": 336,
   "id": "3458fd28-f303-4554-b68b-4285c12adcb6",
   "metadata": {},
   "outputs": [],
   "source": [
    "position_mappings = {'Centre-Back': 'Defender', 'Left-Back': 'Defender', 'Right-Back': 'Defender',\n",
    "                  'Attacking Midfield': 'Midfielder', 'Central Midfield': 'Midfielder', 'Central Midfielder': 'Midfielder', 'Defensive Midfield': 'Midfielder', 'Left Midfield': 'Midfielder', 'Right Midfield': 'Midfielder',\n",
    "                  'Left Winger': 'Attacker', 'Right Winger': 'Attacker', 'Centre-Forward': 'Attacker', 'Second Striker': 'Attacker'}\n",
    "\n",
    "# Map positions to roles using the position_roles dictionary\n",
    "df['position'] = df['position'].map(position_mappings)\n"
   ]
  },
  {
   "cell_type": "code",
   "execution_count": 337,
   "id": "299b2e53-e863-42d5-b082-362e99c56784",
   "metadata": {},
   "outputs": [
    {
     "data": {
      "text/plain": [
       "Defender      1069\n",
       "Midfielder     894\n",
       "Attacker       837\n",
       "Name: position, dtype: int64"
      ]
     },
     "execution_count": 337,
     "metadata": {},
     "output_type": "execute_result"
    }
   ],
   "source": [
    "df['position'].value_counts()"
   ]
  },
  {
   "cell_type": "markdown",
   "id": "0d556424-9da0-47ee-ace0-07230e3286db",
   "metadata": {},
   "source": [
    "#### Extracting Age from Date of Birth"
   ]
  },
  {
   "cell_type": "code",
   "execution_count": 338,
   "id": "7d51cff2-7ce2-489e-8b0b-da30e65508d6",
   "metadata": {},
   "outputs": [],
   "source": [
    "def extract_age(date_str):\n",
    "    return int(re.search(r'\\((\\d+)\\)', date_str).group(1))"
   ]
  },
  {
   "cell_type": "code",
   "execution_count": 339,
   "id": "f61fbbde-993a-4e1d-9a81-ac49fe552764",
   "metadata": {},
   "outputs": [],
   "source": [
    "df['dob'] = df['dob'].apply(extract_age)"
   ]
  },
  {
   "cell_type": "code",
   "execution_count": 340,
   "id": "0293d6d2-64a4-4c98-b2c6-93b771da1016",
   "metadata": {},
   "outputs": [],
   "source": [
    "df = df.rename(columns={'dob':'age'})"
   ]
  },
  {
   "cell_type": "code",
   "execution_count": 341,
   "id": "c3830447-a94a-4661-93b3-9ffb325b2286",
   "metadata": {},
   "outputs": [
    {
     "data": {
      "text/plain": [
       "0    24\n",
       "1    30\n",
       "2    25\n",
       "3    25\n",
       "4    29\n",
       "Name: age, dtype: int64"
      ]
     },
     "execution_count": 341,
     "metadata": {},
     "output_type": "execute_result"
    }
   ],
   "source": [
    "df['age'].head()"
   ]
  },
  {
   "cell_type": "markdown",
   "id": "bca672e1-b58b-4613-865e-b0b91e379736",
   "metadata": {},
   "source": [
    "#### Date Conversions"
   ]
  },
  {
   "cell_type": "code",
   "execution_count": 342,
   "id": "0a9a878f-499b-4d8d-81fc-c61c1ea64d1b",
   "metadata": {},
   "outputs": [],
   "source": [
    "def date_conversion(x):\n",
    "    if x == '-':\n",
    "        return\n",
    "    else:\n",
    "        return datetime.strptime(x, '%b %d, %Y')"
   ]
  },
  {
   "cell_type": "code",
   "execution_count": 343,
   "id": "3b6f59cf-0ba0-4945-a13c-62d6f18e6192",
   "metadata": {},
   "outputs": [],
   "source": [
    "df['join_date'] = df['join_date'].apply(date_conversion)\n",
    "df['contract_expiration'] = df['contract_expiration'].apply(date_conversion)"
   ]
  },
  {
   "cell_type": "markdown",
   "id": "f37cd475-9e1c-483a-80f0-09ed87e1d691",
   "metadata": {},
   "source": [
    "#### Converting Height to Numerical Variable"
   ]
  },
  {
   "cell_type": "code",
   "execution_count": 344,
   "id": "2431c616-2235-44ce-ac55-6a1cb018a3a9",
   "metadata": {},
   "outputs": [],
   "source": [
    "def transform_height(height):\n",
    "    if height == '-':\n",
    "        return\n",
    "    else:\n",
    "        height_m = float(height.replace(',', '.')[:-1])\n",
    "        height_cm = height_m * 100\n",
    "        return height_cm"
   ]
  },
  {
   "cell_type": "code",
   "execution_count": 345,
   "id": "53b2feb9-2fa1-42e7-923f-204a064b5d19",
   "metadata": {},
   "outputs": [],
   "source": [
    "df['height'] = df['height'].apply(transform_height)"
   ]
  },
  {
   "cell_type": "markdown",
   "id": "c34e00d2-8be4-4187-bfb7-e65fdd35ac3c",
   "metadata": {},
   "source": [
    "#### One-Hot-Encoding Position & Preferred Foot"
   ]
  },
  {
   "cell_type": "code",
   "execution_count": 346,
   "id": "b269cb33-9f2a-4ddd-8f16-99918450ea37",
   "metadata": {},
   "outputs": [],
   "source": [
    "one_hot = pd.get_dummies(df['position'])\n",
    "df = pd.concat([df, one_hot], axis=1)"
   ]
  },
  {
   "cell_type": "code",
   "execution_count": 347,
   "id": "087a2a69-6bf0-4bf0-992b-d42a37bf5322",
   "metadata": {},
   "outputs": [],
   "source": [
    "one_hot = pd.get_dummies(df['foot'])\n",
    "df = pd.concat([df, one_hot], axis=1)"
   ]
  },
  {
   "cell_type": "markdown",
   "id": "f686314b-a320-4f7a-bace-bada0dc4d9e9",
   "metadata": {},
   "source": [
    "## Feature Refinement <a class=\"anchor\" id=\"data-refinement\"></a>"
   ]
  },
  {
   "cell_type": "markdown",
   "id": "e4bb2996-22a4-41af-b656-07a4ec294490",
   "metadata": {},
   "source": [
    "Many of our variables can be simplified, reduced, or eliminated from the dataframe. Our team determined which variables were reducible, negligible, or not contributing to player price and we made the following feature refinement decisions."
   ]
  },
  {
   "cell_type": "markdown",
   "id": "364a13a0-f93f-494a-b285-b4b76856b36a",
   "metadata": {},
   "source": [
    "### Summary of Features Dropped\n",
    "\n",
    "1. [Passes](#passes)\n",
    "2. [Tackles](#tackles)\n",
    "3. [Shot-Creating Actions](#sca)\n",
    "4. [Goal-Creating Actions](#gca)\n",
    "5. [Defensive Actions](#defensive-actions)\n",
    "6. [Assists](#assists)\n",
    "7. [Take-ons](#take-ons)\n",
    "8. [Carries](#carries)\n",
    "9. [Progressive Passes](#progressive-passes)\n",
    "10. [Touches](#touches)\n",
    "11. [Goals](#goals)\n",
    "12. [Shots](#shots)\n",
    "13. [Cards](#cards)\n",
    "14. [Aerial Duels](#aerial-duels)\n",
    "15. [Miscellaneous](#misc)\n"
   ]
  },
  {
   "cell_type": "markdown",
   "id": "3a8c281d-4a4f-46db-bfbc-46237d477cdd",
   "metadata": {
    "tags": []
   },
   "source": [
    "#### Passes <a class=\"anchor\" id=\"passes\"></a>\n",
    "\n",
    "Features dropped:\n",
    "    \n",
    "- short_passes_attempted\n",
    "- short_passes_completed\n",
    "- medium_passes_attempted\n",
    "- medium_passes_completed\n",
    "- long_passes_attempted\n",
    "- long_passes_completed\n",
    "\n",
    "Converted to *passes_completed* a summation of the passes completed by a player."
   ]
  },
  {
   "cell_type": "code",
   "execution_count": 348,
   "id": "2f2a6d39-3dfb-4955-8e56-c63780bb37f4",
   "metadata": {},
   "outputs": [],
   "source": [
    "df['passes'] = df['short_passes_completed'] + df['medium_passes_completed'] +  \\\n",
    "+ df['long_passes_completed']"
   ]
  },
  {
   "cell_type": "code",
   "execution_count": 349,
   "id": "a7f93216-350b-4978-aed2-362f95f21018",
   "metadata": {},
   "outputs": [],
   "source": [
    "df.drop([\n",
    "    'short_passes_completed',\n",
    "    'medium_passes_completed',\n",
    "    'long_passes_completed',\n",
    "    'short_passes_attempted',\n",
    "    'medium_passes_attempted',\n",
    "    'long_passes_attempted',\n",
    "    ], axis=1, inplace=True)"
   ]
  },
  {
   "cell_type": "markdown",
   "id": "7ecb4baf-e2a4-41f6-abee-da3ae6bfcf0f",
   "metadata": {
    "tags": []
   },
   "source": [
    "#### Tackles <a class=\"anchor\" id=\"tackles\"></a>\n",
    "\n",
    "Features dropped:\n",
    "    \n",
    "- defensive_third_tackles\n",
    "- midfield_tackles\n",
    "- attacking_third_tackles\n",
    "- tackles\n",
    "\n",
    "The feature *tackles_won* will represent the tackling component as the main feature for a player's tackling performance."
   ]
  },
  {
   "cell_type": "code",
   "execution_count": 350,
   "id": "407ddbde-b502-4049-94d7-c88d0e1574c6",
   "metadata": {},
   "outputs": [],
   "source": [
    "df.drop(['defensive_third_tackles', 'midfield_tackles', 'attacking_third_tackles', 'tackles'], axis=1, inplace=True)"
   ]
  },
  {
   "cell_type": "markdown",
   "id": "a3e9cffa-02f6-407c-b462-3bf80db82ddc",
   "metadata": {
    "tags": []
   },
   "source": [
    "#### Shot-Creating Actions <a class=\"anchor\" id=\"sca\"></a>\n",
    "\n",
    "Features dropped:\n",
    "    \n",
    "- sca_live_passes\n",
    "- sca_dead_passes\n",
    "- sca_take-ons\n",
    "- sca_shots\n",
    "- sca_fouls_drawn\n",
    "- sca_defensive_actions\n",
    "- shot_creating_actions\n",
    "\n",
    "The feature *shot_creating_actions* is the summation of all the features specified."
   ]
  },
  {
   "cell_type": "code",
   "execution_count": 351,
   "id": "d0101aa8-2bcb-457a-841e-7fd1d18fd041",
   "metadata": {},
   "outputs": [],
   "source": [
    "df.drop([\n",
    "    'sca_live_passes',\n",
    "    'sca_dead_passes',\n",
    "    'sca_take_ons',\n",
    "    'sca_fouls_drawn',\n",
    "    'sca_defensive_actions',\n",
    "    'sca_shots',\n",
    "    ], axis=1, inplace=True)"
   ]
  },
  {
   "cell_type": "markdown",
   "id": "0e3e74de-25c9-4df2-ba88-c6a20aa4c5f4",
   "metadata": {
    "tags": []
   },
   "source": [
    "#### Goal-Creating Actions <a class=\"anchor\" id=\"gca\"></a>\n",
    "\n",
    "Features dropped:\n",
    "    \n",
    "- gca_live_passes\n",
    "- gca_dead_passes\n",
    "- gca_take-ons\n",
    "- gca_shots\n",
    "- gca_fouls_drawn\n",
    "- gca_defensive_actions\n",
    "\n",
    "\n",
    "The feature *goal_creation_actions* is the summation of all the features specified."
   ]
  },
  {
   "cell_type": "code",
   "execution_count": 352,
   "id": "b14938fa-7a1f-40f4-b3b2-822f02c88388",
   "metadata": {},
   "outputs": [],
   "source": [
    "df.drop([\n",
    "    'gca_live_passes',\n",
    "    'gca_dead_passes',\n",
    "    'gca_take_ons',\n",
    "    'gca_fouls_drawn',\n",
    "    'gca_defensive_actions',\n",
    "    'gca_shots',\n",
    "    ], axis=1, inplace=True)"
   ]
  },
  {
   "cell_type": "markdown",
   "id": "72127c41-c94c-4978-8a4f-06a674baf39f",
   "metadata": {
    "tags": []
   },
   "source": [
    "#### Defensive Actions <a class=\"anchor\" id=\"defensive-actions\"></a>\n",
    "\n",
    "Features dropped:\n",
    "    \n",
    "- interceptions\n",
    "- clearances\n",
    "- shots_blocked\n",
    "- ball_recoveries\n",
    "\n",
    "Summed and converted to a 'defensive_actions' feature."
   ]
  },
  {
   "cell_type": "code",
   "execution_count": 353,
   "id": "5738fe83-12f8-425f-9b7b-9686b3009997",
   "metadata": {},
   "outputs": [],
   "source": [
    "df['defensive_actions'] = df['interceptions'] + df['clearances'] + df['shots_blocked'] + df['ball_recoveries']"
   ]
  },
  {
   "cell_type": "code",
   "execution_count": 354,
   "id": "abbae8c5-2eda-4efb-b9c1-c4d98b1e8b41",
   "metadata": {},
   "outputs": [],
   "source": [
    "df.drop(['interceptions', 'clearances', 'shots_blocked', 'ball_recoveries'], axis=1, inplace=True)"
   ]
  },
  {
   "cell_type": "markdown",
   "id": "cf14647a-6293-4580-9a55-e5f27b6d4c0b",
   "metadata": {
    "tags": []
   },
   "source": [
    "#### Assists <a class=\"anchor\" id=\"assists\"></a>\n",
    "\n",
    "Features dropped:\n",
    "\n",
    "- expected_assists\n",
    "\n",
    "The feature to represent assists will be the *assists*. "
   ]
  },
  {
   "cell_type": "code",
   "execution_count": 355,
   "id": "3a63138d-6957-4164-8615-6f344cda8b18",
   "metadata": {},
   "outputs": [],
   "source": [
    "df.drop([\n",
    "    'expected_assists',\n",
    "    ], axis=1, inplace=True)"
   ]
  },
  {
   "cell_type": "markdown",
   "id": "bbe9d444-2cff-41d3-a5ec-61a0a2f7b4bb",
   "metadata": {
    "tags": []
   },
   "source": [
    "#### Take-ons <a class=\"anchor\" id=\"take-ons\"></a>\n",
    "\n",
    "Features dropped:\n",
    "    \n",
    "- attempted_take_ons\n",
    "- tackled_take_ons\n",
    "\n",
    "The feature to represent progressive passes of any type will be *successful_take_ons.*"
   ]
  },
  {
   "cell_type": "code",
   "execution_count": 356,
   "id": "03a964a1-a6ba-4cd7-83f8-17d616eb7966",
   "metadata": {},
   "outputs": [],
   "source": [
    "df.drop([\n",
    "    'attempted_take_ons',\n",
    "    'tackled_take_ons',\n",
    "    ], axis=1, inplace=True)"
   ]
  },
  {
   "cell_type": "markdown",
   "id": "bbf91a9d-142a-411d-bf39-41fbb9bf2bc5",
   "metadata": {
    "tags": []
   },
   "source": [
    "#### Carries <a class=\"anchor\" id=\"carries\"></a>\n",
    "\n",
    "Features dropped:\n",
    "    \n",
    "- carries\n",
    "- total_carrying_distance\n",
    "- progressive_carrying_distance\n",
    "- progressive_carries\n",
    "- carries_into_final_third\n",
    "- carry_miscontrols\n",
    "- carry_dispossessions\n",
    "- carries_into_penalty_area\n",
    "\n",
    "The feature to represent carries of any type will be the *total_carrying_distance.*"
   ]
  },
  {
   "cell_type": "code",
   "execution_count": 357,
   "id": "3fe158f4-0b9e-4f6a-92c8-5a9123469bbe",
   "metadata": {},
   "outputs": [],
   "source": [
    "df.drop([\n",
    "    'carries',\n",
    "    'progressive_carrying_distance',\n",
    "    'progressive_carries',\n",
    "    'carries_into_final_third',\n",
    "    'carry_miscontrols',\n",
    "    'carry_dispossessions',\n",
    "    'carries_into_penalty_area',\n",
    "    ], axis=1, inplace=True)"
   ]
  },
  {
   "cell_type": "markdown",
   "id": "a9bd73a7-e4af-49c9-8b13-4428c7c3642a",
   "metadata": {
    "tags": []
   },
   "source": [
    "#### Progressive Passes <a class=\"anchor\" id=\"progressive-passes\"></a>\n",
    "\n",
    "Features dropped:\n",
    "    \n",
    "- key_passes\n",
    "- passes_into_final_third\n",
    "- passes_into_penalty_box\n",
    "- crosses_into_penalty_area\n",
    "- progressive_passes\n",
    "\n",
    "The feature to represent progressive passes of any type will be *progressive_passes.*"
   ]
  },
  {
   "cell_type": "code",
   "execution_count": 358,
   "id": "0e82ce57-0602-430a-b0ea-560160449db0",
   "metadata": {},
   "outputs": [],
   "source": [
    "df.drop([\n",
    "    'key_passes',\n",
    "    'passes_into_final_third',\n",
    "    'passes_into_penalty_box',\n",
    "    'crosses_into_penalty_area',\n",
    "    ], axis=1, inplace=True)"
   ]
  },
  {
   "cell_type": "markdown",
   "id": "9cfa0b94-cbd5-47d8-a1da-9d41d8a21c2e",
   "metadata": {
    "tags": []
   },
   "source": [
    "#### Touches <a class=\"anchor\" id=\"touches\"></a>\n",
    "\n",
    "Features dropped:\n",
    "    \n",
    "- touches_penalty_area_defending\n",
    "- touches_defensive_third\n",
    "- touches_middle_third\n",
    "- touches_attacking_third\n",
    "- touches_penalty_area_attacking\n",
    "\n",
    "Converted to *touches* a summation of any touches completed by a player."
   ]
  },
  {
   "cell_type": "code",
   "execution_count": 359,
   "id": "9838961c-47ee-4b2d-a2f7-c40d3e2e82cc",
   "metadata": {},
   "outputs": [],
   "source": [
    "df['touches'] = df['touches_penalty_area_defending'] +  \\\n",
    "df['touches_defensive_third'] + df['touches_middle_third'] + df['touches_attacking_third'] + \\\n",
    "df['touches_penalty_area_attacking']"
   ]
  },
  {
   "cell_type": "code",
   "execution_count": 360,
   "id": "074260a2-c7c3-4644-a9de-86f778613c13",
   "metadata": {},
   "outputs": [],
   "source": [
    "df.drop([\n",
    "    'touches_penalty_area_defending',\n",
    "    'touches_defensive_third',\n",
    "    'touches_middle_third',\n",
    "    'touches_attacking_third',\n",
    "    'touches_penalty_area_attacking',\n",
    "    ], axis=1, inplace=True)"
   ]
  },
  {
   "cell_type": "markdown",
   "id": "0c3bebdf-bdc6-4cfd-9834-b751d394242f",
   "metadata": {
    "tags": []
   },
   "source": [
    "#### Goals <a class=\"anchor\" id=\"goals\"></a>\n",
    "\n",
    "Features dropped:\n",
    "    \n",
    "- xG\n",
    "- goals_per_shot\n",
    "\n",
    "The feature to represent the *goal* metric be the *goals* feature."
   ]
  },
  {
   "cell_type": "code",
   "execution_count": 361,
   "id": "3b1a52f7-8b4d-43b4-b57e-4d34cd321825",
   "metadata": {},
   "outputs": [],
   "source": [
    "df.drop([\n",
    "    'xG',\n",
    "    'goals_per_shot',\n",
    "    ], axis=1, inplace=True)"
   ]
  },
  {
   "cell_type": "markdown",
   "id": "e9c406db-1a61-4a3c-ad5c-81e737653398",
   "metadata": {
    "tags": []
   },
   "source": [
    "#### Shots <a class=\"anchor\" id=\"shots\"></a>\n",
    "\n",
    "Features dropped:\n",
    "    \n",
    "- shots_on_target\n",
    "- average_shot_distance\n",
    "- freekick_shots\n",
    "\n",
    "The feature to represent shots of any type will be the *total_shots* feature."
   ]
  },
  {
   "cell_type": "code",
   "execution_count": 362,
   "id": "e8247671-0956-4765-9959-6eab3cf196e3",
   "metadata": {},
   "outputs": [],
   "source": [
    "df.drop([\n",
    "    'shots_on_target',\n",
    "    'average_shot_distance',\n",
    "    'freekick_shots',\n",
    "    ], axis=1, inplace=True)"
   ]
  },
  {
   "cell_type": "markdown",
   "id": "0c77f325-7b97-4598-8088-ca5151adfc80",
   "metadata": {
    "tags": []
   },
   "source": [
    "#### Cards <a class=\"anchor\" id=\"cards\"></a>\n",
    "\n",
    "Features dropped:\n",
    "    \n",
    "- yellow_cards\n",
    "- red_cards\n",
    "\n",
    "Converted into *cards*, a feature summing both types of cards where red cards are equivalent to **two** cards."
   ]
  },
  {
   "cell_type": "code",
   "execution_count": 363,
   "id": "9ffc220b-56eb-48d6-a9e7-4a09747367bf",
   "metadata": {},
   "outputs": [],
   "source": [
    "df['cards'] = df['yellow_cards'] + (2 * df['red_cards'])"
   ]
  },
  {
   "cell_type": "code",
   "execution_count": 364,
   "id": "b29e82d0-d189-40e5-a006-3d6faea76e95",
   "metadata": {},
   "outputs": [],
   "source": [
    "df.drop([\n",
    "    'yellow_cards',\n",
    "    'red_cards'\n",
    "    ], axis=1, inplace=True)"
   ]
  },
  {
   "cell_type": "markdown",
   "id": "a76ef898-b4ee-4995-9fcf-a4ffb9ef56b5",
   "metadata": {
    "tags": []
   },
   "source": [
    "#### Aerial Duels <a class=\"anchor\" id=\"aerial-duels\"></a>\n",
    "\n",
    "Features dropped:\n",
    "    \n",
    "- aerial_duels_lost\n",
    "\n",
    "The feature to represent aerial duels will be the *aerial_duels_won*. "
   ]
  },
  {
   "cell_type": "code",
   "execution_count": 365,
   "id": "7cb3a247-3ce7-410a-90fa-793ab2513597",
   "metadata": {},
   "outputs": [],
   "source": [
    "df.drop(['aerial_duels_lost'], axis=1, inplace=True)"
   ]
  },
  {
   "cell_type": "markdown",
   "id": "be1876a2-d9ba-4f53-98ef-ba28d742a939",
   "metadata": {
    "tags": []
   },
   "source": [
    "#### Miscellaneous <a class=\"anchor\" id=\"misc\"></a>\n",
    "\n",
    "Features dropped:\n",
    "    \n",
    "- errors_leading_to_goal\n",
    "- offsides\n",
    "- penalties_won\n",
    "- penalties_conceded\n",
    "- fouls_drawn\n",
    "- penalty_kicks_converted\n",
    "- penalty_kicks_attempted"
   ]
  },
  {
   "cell_type": "markdown",
   "id": "78b6f2ef-8fde-4eff-afa7-5bdfbd6c81cb",
   "metadata": {},
   "source": [
    "There are questions over the impact that these features will have in our regression model on player price."
   ]
  },
  {
   "cell_type": "code",
   "execution_count": 366,
   "id": "42ed6cde-b457-4cb9-8e38-fc3dfc95ae1e",
   "metadata": {},
   "outputs": [],
   "source": [
    "df.drop([\n",
    "    'errors_leading_to_goal',\n",
    "    'offsides',\n",
    "    'penalties_won', \n",
    "    'penalties_conceded',\n",
    "    'fouls_drawn',\n",
    "    'own_goals',\n",
    "    'penalty_kicks_converted',\n",
    "    'penalty_kicks_attempted',\n",
    "    ], axis=1, inplace=True)"
   ]
  },
  {
   "cell_type": "markdown",
   "id": "20a299db-c052-4c1c-87d9-1f7f27ca9c0e",
   "metadata": {},
   "source": [
    "## Data Exploration <a class=\"anchor\" id=\"data-exploration\"></a>"
   ]
  },
  {
   "cell_type": "code",
   "execution_count": 367,
   "id": "918ac800-2913-4360-a61e-001bb9be2508",
   "metadata": {},
   "outputs": [
    {
     "data": {
      "text/html": [
       "<div>\n",
       "<style scoped>\n",
       "    .dataframe tbody tr th:only-of-type {\n",
       "        vertical-align: middle;\n",
       "    }\n",
       "\n",
       "    .dataframe tbody tr th {\n",
       "        vertical-align: top;\n",
       "    }\n",
       "\n",
       "    .dataframe thead th {\n",
       "        text-align: right;\n",
       "    }\n",
       "</style>\n",
       "<table border=\"1\" class=\"dataframe\">\n",
       "  <thead>\n",
       "    <tr style=\"text-align: right;\">\n",
       "      <th></th>\n",
       "      <th>name</th>\n",
       "      <th>price</th>\n",
       "      <th>age</th>\n",
       "      <th>nationality</th>\n",
       "      <th>height</th>\n",
       "      <th>join_date</th>\n",
       "      <th>contract_expiration</th>\n",
       "      <th>minutes_played</th>\n",
       "      <th>matches_played</th>\n",
       "      <th>matches_started</th>\n",
       "      <th>...</th>\n",
       "      <th>Attacker</th>\n",
       "      <th>Defender</th>\n",
       "      <th>Midfielder</th>\n",
       "      <th>both</th>\n",
       "      <th>left</th>\n",
       "      <th>right</th>\n",
       "      <th>passes</th>\n",
       "      <th>defensive_actions</th>\n",
       "      <th>touches</th>\n",
       "      <th>cards</th>\n",
       "    </tr>\n",
       "  </thead>\n",
       "  <tbody>\n",
       "    <tr>\n",
       "      <th>0</th>\n",
       "      <td>Erhan Masovic</td>\n",
       "      <td>5000000</td>\n",
       "      <td>24</td>\n",
       "      <td>Serbia</td>\n",
       "      <td>189.0</td>\n",
       "      <td>2020-10-05</td>\n",
       "      <td>2025-06-30</td>\n",
       "      <td>1489.0</td>\n",
       "      <td>21</td>\n",
       "      <td>15</td>\n",
       "      <td>...</td>\n",
       "      <td>0</td>\n",
       "      <td>1</td>\n",
       "      <td>0</td>\n",
       "      <td>1</td>\n",
       "      <td>0</td>\n",
       "      <td>0</td>\n",
       "      <td>453.0</td>\n",
       "      <td>182.0</td>\n",
       "      <td>864.0</td>\n",
       "      <td>2.0</td>\n",
       "    </tr>\n",
       "    <tr>\n",
       "      <th>1</th>\n",
       "      <td>Ivan Ordets</td>\n",
       "      <td>3500000</td>\n",
       "      <td>30</td>\n",
       "      <td>Ukraine</td>\n",
       "      <td>195.0</td>\n",
       "      <td>2022-07-10</td>\n",
       "      <td>2023-06-30</td>\n",
       "      <td>1729.0</td>\n",
       "      <td>22</td>\n",
       "      <td>20</td>\n",
       "      <td>...</td>\n",
       "      <td>0</td>\n",
       "      <td>1</td>\n",
       "      <td>0</td>\n",
       "      <td>0</td>\n",
       "      <td>0</td>\n",
       "      <td>1</td>\n",
       "      <td>482.0</td>\n",
       "      <td>240.0</td>\n",
       "      <td>1059.0</td>\n",
       "      <td>4.0</td>\n",
       "    </tr>\n",
       "    <tr>\n",
       "      <th>2</th>\n",
       "      <td>Keven Schlotterbeck</td>\n",
       "      <td>3000000</td>\n",
       "      <td>25</td>\n",
       "      <td>Germany</td>\n",
       "      <td>189.0</td>\n",
       "      <td>2023-01-02</td>\n",
       "      <td>2023-06-30</td>\n",
       "      <td>584.0</td>\n",
       "      <td>8</td>\n",
       "      <td>6</td>\n",
       "      <td>...</td>\n",
       "      <td>0</td>\n",
       "      <td>1</td>\n",
       "      <td>0</td>\n",
       "      <td>0</td>\n",
       "      <td>1</td>\n",
       "      <td>0</td>\n",
       "      <td>174.0</td>\n",
       "      <td>96.0</td>\n",
       "      <td>433.0</td>\n",
       "      <td>3.0</td>\n",
       "    </tr>\n",
       "    <tr>\n",
       "      <th>3</th>\n",
       "      <td>Keven Schlotterbeck</td>\n",
       "      <td>3000000</td>\n",
       "      <td>25</td>\n",
       "      <td>Germany</td>\n",
       "      <td>189.0</td>\n",
       "      <td>2023-01-02</td>\n",
       "      <td>2023-06-30</td>\n",
       "      <td>14.0</td>\n",
       "      <td>2</td>\n",
       "      <td>0</td>\n",
       "      <td>...</td>\n",
       "      <td>0</td>\n",
       "      <td>1</td>\n",
       "      <td>0</td>\n",
       "      <td>0</td>\n",
       "      <td>1</td>\n",
       "      <td>0</td>\n",
       "      <td>6.0</td>\n",
       "      <td>5.0</td>\n",
       "      <td>13.0</td>\n",
       "      <td>0.0</td>\n",
       "    </tr>\n",
       "    <tr>\n",
       "      <th>4</th>\n",
       "      <td>Dominique Heintz</td>\n",
       "      <td>1500000</td>\n",
       "      <td>29</td>\n",
       "      <td>Germany</td>\n",
       "      <td>188.0</td>\n",
       "      <td>2022-08-11</td>\n",
       "      <td>2023-06-30</td>\n",
       "      <td>502.0</td>\n",
       "      <td>7</td>\n",
       "      <td>5</td>\n",
       "      <td>...</td>\n",
       "      <td>0</td>\n",
       "      <td>1</td>\n",
       "      <td>0</td>\n",
       "      <td>0</td>\n",
       "      <td>1</td>\n",
       "      <td>0</td>\n",
       "      <td>135.0</td>\n",
       "      <td>76.0</td>\n",
       "      <td>270.0</td>\n",
       "      <td>1.0</td>\n",
       "    </tr>\n",
       "  </tbody>\n",
       "</table>\n",
       "<p>5 rows × 31 columns</p>\n",
       "</div>"
      ],
      "text/plain": [
       "                  name    price  age nationality  height  join_date  \\\n",
       "0        Erhan Masovic  5000000   24      Serbia   189.0 2020-10-05   \n",
       "1          Ivan Ordets  3500000   30     Ukraine   195.0 2022-07-10   \n",
       "2  Keven Schlotterbeck  3000000   25     Germany   189.0 2023-01-02   \n",
       "3  Keven Schlotterbeck  3000000   25     Germany   189.0 2023-01-02   \n",
       "4     Dominique Heintz  1500000   29     Germany   188.0 2022-08-11   \n",
       "\n",
       "  contract_expiration  minutes_played  matches_played  matches_started  ...  \\\n",
       "0          2025-06-30          1489.0              21               15  ...   \n",
       "1          2023-06-30          1729.0              22               20  ...   \n",
       "2          2023-06-30           584.0               8                6  ...   \n",
       "3          2023-06-30            14.0               2                0  ...   \n",
       "4          2023-06-30           502.0               7                5  ...   \n",
       "\n",
       "   Attacker  Defender  Midfielder  both  left  right  passes  \\\n",
       "0         0         1           0     1     0      0   453.0   \n",
       "1         0         1           0     0     0      1   482.0   \n",
       "2         0         1           0     0     1      0   174.0   \n",
       "3         0         1           0     0     1      0     6.0   \n",
       "4         0         1           0     0     1      0   135.0   \n",
       "\n",
       "   defensive_actions  touches  cards  \n",
       "0              182.0    864.0    2.0  \n",
       "1              240.0   1059.0    4.0  \n",
       "2               96.0    433.0    3.0  \n",
       "3                5.0     13.0    0.0  \n",
       "4               76.0    270.0    1.0  \n",
       "\n",
       "[5 rows x 31 columns]"
      ]
     },
     "execution_count": 367,
     "metadata": {},
     "output_type": "execute_result"
    }
   ],
   "source": [
    "df.head()"
   ]
  },
  {
   "cell_type": "code",
   "execution_count": 368,
   "id": "83bea66c-e79c-4657-bb54-534d1b15fdc9",
   "metadata": {},
   "outputs": [
    {
     "data": {
      "text/plain": [
       "Index(['name', 'price', 'age', 'nationality', 'height', 'join_date',\n",
       "       'contract_expiration', 'minutes_played', 'matches_played',\n",
       "       'matches_started', 'tackles_won', 'shot_creating_actions',\n",
       "       'goal_creation_actions', 'fouls', 'aerial_duels_won', 'assists',\n",
       "       'progressive_passes', 'successful_take_ons', 'total_carrying_distance',\n",
       "       'goals', 'total_shots', 'Attacker', 'Defender', 'Midfielder', 'both',\n",
       "       'left', 'right', 'passes', 'defensive_actions', 'touches', 'cards'],\n",
       "      dtype='object')"
      ]
     },
     "execution_count": 368,
     "metadata": {},
     "output_type": "execute_result"
    }
   ],
   "source": [
    "df.columns"
   ]
  },
  {
   "cell_type": "code",
   "execution_count": 369,
   "id": "cd3a263d-e342-4d4a-9326-76b1a2ee6039",
   "metadata": {},
   "outputs": [
    {
     "name": "stdout",
     "output_type": "stream",
     "text": [
      "<class 'pandas.core.frame.DataFrame'>\n",
      "RangeIndex: 2800 entries, 0 to 2799\n",
      "Data columns (total 31 columns):\n",
      " #   Column                   Non-Null Count  Dtype         \n",
      "---  ------                   --------------  -----         \n",
      " 0   name                     2800 non-null   object        \n",
      " 1   price                    2800 non-null   int64         \n",
      " 2   age                      2800 non-null   int64         \n",
      " 3   nationality              2800 non-null   object        \n",
      " 4   height                   2772 non-null   float64       \n",
      " 5   join_date                2775 non-null   datetime64[ns]\n",
      " 6   contract_expiration      2753 non-null   datetime64[ns]\n",
      " 7   minutes_played           2800 non-null   float64       \n",
      " 8   matches_played           2800 non-null   int64         \n",
      " 9   matches_started          2800 non-null   int64         \n",
      " 10  tackles_won              2800 non-null   float64       \n",
      " 11  shot_creating_actions    2797 non-null   float64       \n",
      " 12  goal_creation_actions    2797 non-null   float64       \n",
      " 13  fouls                    2800 non-null   float64       \n",
      " 14  aerial_duels_won         2797 non-null   float64       \n",
      " 15  assists                  2800 non-null   float64       \n",
      " 16  progressive_passes       2797 non-null   float64       \n",
      " 17  successful_take_ons      2797 non-null   float64       \n",
      " 18  total_carrying_distance  2797 non-null   float64       \n",
      " 19  goals                    2800 non-null   float64       \n",
      " 20  total_shots              2800 non-null   float64       \n",
      " 21  Attacker                 2800 non-null   uint8         \n",
      " 22  Defender                 2800 non-null   uint8         \n",
      " 23  Midfielder               2800 non-null   uint8         \n",
      " 24  both                     2800 non-null   uint8         \n",
      " 25  left                     2800 non-null   uint8         \n",
      " 26  right                    2800 non-null   uint8         \n",
      " 27  passes                   2797 non-null   float64       \n",
      " 28  defensive_actions        2797 non-null   float64       \n",
      " 29  touches                  2797 non-null   float64       \n",
      " 30  cards                    2800 non-null   float64       \n",
      "dtypes: datetime64[ns](2), float64(17), int64(4), object(2), uint8(6)\n",
      "memory usage: 563.4+ KB\n"
     ]
    }
   ],
   "source": [
    "df.info()"
   ]
  },
  {
   "cell_type": "markdown",
   "id": "514df3f0-1c2c-44c1-b11d-ce1f631b96f4",
   "metadata": {},
   "source": [
    "The dimensions of the finalized dataset are 27 columns by 2800 rows. It appears as though some player information statistics like player height, preferred foot, or join_date are not accounted for in some players. With the exception of 3 players, most player statistics appear non-null."
   ]
  },
  {
   "cell_type": "markdown",
   "id": "03122105-14a7-41b9-85b4-8b581c5114c3",
   "metadata": {},
   "source": [
    "From initial domain knowledge, we predict that the key, correlated columns will be a player's:\n",
    "\n",
    "- age\n",
    "- price\n",
    "- position \n",
    "- minutes played \n",
    "- matches_started\n",
    "- goals \n",
    "- assists\n",
    "- shot_creating_actions\n",
    "- goal_creation_actions\n",
    "- passes\n",
    "- touches\n",
    "\n",
    "We will focus our initial analysis on these variables and expand our selection."
   ]
  },
  {
   "cell_type": "code",
   "execution_count": 370,
   "id": "faa28de5-b684-4166-b7ab-75ea903e47ed",
   "metadata": {},
   "outputs": [],
   "source": [
    "features_of_interest = [\n",
    "    'age',\n",
    "    'price',\n",
    "    'position',\n",
    "    'minutes_played',\n",
    "    'matches_started',\n",
    "    'goals',\n",
    "    'assists',\n",
    "    'shot_creating_actions',\n",
    "    'goal_creation_actions',\n",
    "    'passes',\n",
    "    'touches',\n",
    "]\n"
   ]
  },
  {
   "cell_type": "code",
   "execution_count": 371,
   "id": "7f06b31e-53a9-4c5b-a414-c3ee19ac0fba",
   "metadata": {},
   "outputs": [
    {
     "ename": "KeyError",
     "evalue": "\"['position'] not in index\"",
     "output_type": "error",
     "traceback": [
      "\u001b[0;31m---------------------------------------------------------------------------\u001b[0m",
      "\u001b[0;31mKeyError\u001b[0m                                  Traceback (most recent call last)",
      "Cell \u001b[0;32mIn [371], line 1\u001b[0m\n\u001b[0;32m----> 1\u001b[0m \u001b[43mdf\u001b[49m\u001b[43m[\u001b[49m\u001b[43mfeatures_of_interest\u001b[49m\u001b[43m]\u001b[49m\u001b[38;5;241m.\u001b[39mdescribe()\n",
      "File \u001b[0;32m/Library/Frameworks/Python.framework/Versions/3.9/lib/python3.9/site-packages/pandas/core/frame.py:3030\u001b[0m, in \u001b[0;36mDataFrame.__getitem__\u001b[0;34m(self, key)\u001b[0m\n\u001b[1;32m   3028\u001b[0m     \u001b[38;5;28;01mif\u001b[39;00m is_iterator(key):\n\u001b[1;32m   3029\u001b[0m         key \u001b[38;5;241m=\u001b[39m \u001b[38;5;28mlist\u001b[39m(key)\n\u001b[0;32m-> 3030\u001b[0m     indexer \u001b[38;5;241m=\u001b[39m \u001b[38;5;28;43mself\u001b[39;49m\u001b[38;5;241;43m.\u001b[39;49m\u001b[43mloc\u001b[49m\u001b[38;5;241;43m.\u001b[39;49m\u001b[43m_get_listlike_indexer\u001b[49m\u001b[43m(\u001b[49m\u001b[43mkey\u001b[49m\u001b[43m,\u001b[49m\u001b[43m \u001b[49m\u001b[43maxis\u001b[49m\u001b[38;5;241;43m=\u001b[39;49m\u001b[38;5;241;43m1\u001b[39;49m\u001b[43m,\u001b[49m\u001b[43m \u001b[49m\u001b[43mraise_missing\u001b[49m\u001b[38;5;241;43m=\u001b[39;49m\u001b[38;5;28;43;01mTrue\u001b[39;49;00m\u001b[43m)\u001b[49m[\u001b[38;5;241m1\u001b[39m]\n\u001b[1;32m   3032\u001b[0m \u001b[38;5;66;03m# take() does not accept boolean indexers\u001b[39;00m\n\u001b[1;32m   3033\u001b[0m \u001b[38;5;28;01mif\u001b[39;00m \u001b[38;5;28mgetattr\u001b[39m(indexer, \u001b[38;5;124m\"\u001b[39m\u001b[38;5;124mdtype\u001b[39m\u001b[38;5;124m\"\u001b[39m, \u001b[38;5;28;01mNone\u001b[39;00m) \u001b[38;5;241m==\u001b[39m \u001b[38;5;28mbool\u001b[39m:\n",
      "File \u001b[0;32m/Library/Frameworks/Python.framework/Versions/3.9/lib/python3.9/site-packages/pandas/core/indexing.py:1266\u001b[0m, in \u001b[0;36m_LocIndexer._get_listlike_indexer\u001b[0;34m(self, key, axis, raise_missing)\u001b[0m\n\u001b[1;32m   1263\u001b[0m \u001b[38;5;28;01melse\u001b[39;00m:\n\u001b[1;32m   1264\u001b[0m     keyarr, indexer, new_indexer \u001b[38;5;241m=\u001b[39m ax\u001b[38;5;241m.\u001b[39m_reindex_non_unique(keyarr)\n\u001b[0;32m-> 1266\u001b[0m \u001b[38;5;28;43mself\u001b[39;49m\u001b[38;5;241;43m.\u001b[39;49m\u001b[43m_validate_read_indexer\u001b[49m\u001b[43m(\u001b[49m\u001b[43mkeyarr\u001b[49m\u001b[43m,\u001b[49m\u001b[43m \u001b[49m\u001b[43mindexer\u001b[49m\u001b[43m,\u001b[49m\u001b[43m \u001b[49m\u001b[43maxis\u001b[49m\u001b[43m,\u001b[49m\u001b[43m \u001b[49m\u001b[43mraise_missing\u001b[49m\u001b[38;5;241;43m=\u001b[39;49m\u001b[43mraise_missing\u001b[49m\u001b[43m)\u001b[49m\n\u001b[1;32m   1267\u001b[0m \u001b[38;5;28;01mreturn\u001b[39;00m keyarr, indexer\n",
      "File \u001b[0;32m/Library/Frameworks/Python.framework/Versions/3.9/lib/python3.9/site-packages/pandas/core/indexing.py:1316\u001b[0m, in \u001b[0;36m_LocIndexer._validate_read_indexer\u001b[0;34m(self, key, indexer, axis, raise_missing)\u001b[0m\n\u001b[1;32m   1314\u001b[0m \u001b[38;5;28;01mif\u001b[39;00m raise_missing:\n\u001b[1;32m   1315\u001b[0m     not_found \u001b[38;5;241m=\u001b[39m \u001b[38;5;28mlist\u001b[39m(\u001b[38;5;28mset\u001b[39m(key) \u001b[38;5;241m-\u001b[39m \u001b[38;5;28mset\u001b[39m(ax))\n\u001b[0;32m-> 1316\u001b[0m     \u001b[38;5;28;01mraise\u001b[39;00m \u001b[38;5;167;01mKeyError\u001b[39;00m(\u001b[38;5;124mf\u001b[39m\u001b[38;5;124m\"\u001b[39m\u001b[38;5;132;01m{\u001b[39;00mnot_found\u001b[38;5;132;01m}\u001b[39;00m\u001b[38;5;124m not in index\u001b[39m\u001b[38;5;124m\"\u001b[39m)\n\u001b[1;32m   1318\u001b[0m not_found \u001b[38;5;241m=\u001b[39m key[missing_mask]\n\u001b[1;32m   1320\u001b[0m \u001b[38;5;28;01mwith\u001b[39;00m option_context(\u001b[38;5;124m\"\u001b[39m\u001b[38;5;124mdisplay.max_seq_items\u001b[39m\u001b[38;5;124m\"\u001b[39m, \u001b[38;5;241m10\u001b[39m, \u001b[38;5;124m\"\u001b[39m\u001b[38;5;124mdisplay.width\u001b[39m\u001b[38;5;124m\"\u001b[39m, \u001b[38;5;241m80\u001b[39m):\n",
      "\u001b[0;31mKeyError\u001b[0m: \"['position'] not in index\""
     ]
    }
   ],
   "source": [
    "df[features_of_interest].describe()"
   ]
  },
  {
   "cell_type": "markdown",
   "id": "baaf79c7-ca25-440b-a040-cccb8aebf44e",
   "metadata": {},
   "source": [
    "### Observations\n",
    "    \n",
    "- The average age of a player in the top 7 European leagues is 25.9. This shows the inclination of clubs to promote youth players given that the common retirement age is about 25 years of old. \n",
    "- The average price of the players in our dataset is 9.6 million Euro's! This is a surprising figure given the total outlay of transfer fees that clubs normally spend. It ios also important to note that the standard deviation of our class label is about 15 million Euro's, which is substantial. \n",
    "- Both goals and assists include 0 across their first and second quartile. We can conclude that the majority of players in our dataset have not scored or assisted this season.\n",
    "- The average minutes played for all the players in the dataset is 1012 minutes - an insufficient amount of time to drive many statistics to a high-range."
   ]
  },
  {
   "cell_type": "code",
   "execution_count": null,
   "id": "24ed8feb-f453-48d1-8095-4a00665b2b77",
   "metadata": {},
   "outputs": [],
   "source": [
    "features_of_interest.pop(features_of_interest.index('position'))"
   ]
  },
  {
   "cell_type": "markdown",
   "id": "8daa74e1-6bdb-45c5-a86e-9dafaaa4f4ac",
   "metadata": {},
   "source": [
    "### Distribution of Features of Interest"
   ]
  },
  {
   "cell_type": "code",
   "execution_count": null,
   "id": "a4b905c7-ba61-4aee-b1d9-e840d9d82eba",
   "metadata": {},
   "outputs": [],
   "source": [
    "fig, axes = plt.subplots(nrows=2, ncols=6, figsize=(20, 6))\n",
    "\n",
    "axes = axes.flatten()\n",
    "\n",
    "for i, feature in enumerate(features_of_interest):\n",
    "\n",
    "    if len(df[feature].unique()) > 1:\n",
    "        \n",
    "        sns.boxplot(ax=axes[i], data=df[feature], orient='v')\n",
    "        axes[i].set_title(feature.capitalize())\n",
    "        \n",
    "for j in range(len(features_of_interest), len(axes)):\n",
    "    fig.delaxes(axes[j])\n",
    "\n",
    "fig.tight_layout()\n",
    "plt.show()"
   ]
  },
  {
   "cell_type": "markdown",
   "id": "7195eca4-0b69-4667-8b91-22dbc91390ea",
   "metadata": {},
   "source": [
    "### Observations\n",
    "\n",
    "- Price contains a lot of outliers in the dataset. These are the superstar players, who's price could be inflated through other factors such as marketing prowess, nationality, or the club that they belong to. (some smaller clubs value important players higher to retain their services)\n",
    "- Goals and assists also contain many outliers with a handful of players exceeding the IQR range. \n",
    "- The same observation follows for the shot and goal creating actions - there are many above-average players that are generating more than the average player in the dataset.\n",
    "- The minutes and matches played follow an even distribution which is expected as there are about 22 calendar games played thus far for this dataset.\n",
    "- The removal of outliers may benefit the model - particularily with the class label."
   ]
  },
  {
   "cell_type": "markdown",
   "id": "e3791e18-87c8-4df3-826e-811b5e83042e",
   "metadata": {},
   "source": [
    "### Scatter Plot Correlations with the Class Variable"
   ]
  },
  {
   "cell_type": "code",
   "execution_count": null,
   "id": "52a9f115-71b0-4e37-9edd-be3bcaf4b0d6",
   "metadata": {},
   "outputs": [],
   "source": [
    "fig, axes = plt.subplots(nrows=2, ncols=5, figsize=(20, 6))\n",
    "\n",
    "axes = axes.flatten()\n",
    "for i, feature in enumerate(features_of_interest):\n",
    "\n",
    "    sns.regplot(ax=axes[i], x=feature, y='price', data=df, scatter_kws={'s':10}, line_kws={'color':'red'})\n",
    "    axes[i].set_title(feature)\n",
    "    \n",
    "    corr_coef = df[feature].corr(df['price'])\n",
    "    axes[i].text(0.05, 0.95, f'r = {corr_coef:.2f}', transform=axes[i].transAxes, ha='left', va='top', fontsize=12)\n",
    "    \n",
    "fig.tight_layout()\n",
    "plt.show()\n"
   ]
  },
  {
   "cell_type": "markdown",
   "id": "f4b8bd05-9df7-4e55-b711-bb8de1efdf2e",
   "metadata": {},
   "source": [
    "### Observations\n",
    "\n",
    "- It is interesting to note that age may be completely independent of a player's value as per the weak r-score of -0.10. This indicates that a player's value decreases slightly with age. A possible explanation for this may be that a club may value experience over youth development, therefore valuing an experienced player more highly. In additon, it could be that a younger player has potential to grow increasing their value, but an experienced player is more established within the game, creating a conflict between the determination of value.\n",
    "- Goals, shot & goal creating actions showed a weak, positive correlation with player value with scores greater than 0.4. \n",
    "- Overall, there isn't a specific feature that shows a strong, positive or negative correlation with the class variable, which may impact the accuracy of the regression model. "
   ]
  },
  {
   "cell_type": "markdown",
   "id": "5487afbb-ddd7-49d4-a9df-6fb0629b502c",
   "metadata": {},
   "source": [
    "### Heatmap of Variable Correlations"
   ]
  },
  {
   "cell_type": "code",
   "execution_count": null,
   "id": "a31a897e-0d1c-417c-ac5c-5601935f09b7",
   "metadata": {},
   "outputs": [],
   "source": [
    "plt.figure(figsize=(10,5))\n",
    "c= df[features_of_interest].corr()\n",
    "sns.heatmap(c,cmap=\"BrBG\",annot=True)"
   ]
  },
  {
   "cell_type": "code",
   "execution_count": null,
   "id": "0f12ecd5-f2b4-45f9-b4c8-7b5b575899ee",
   "metadata": {},
   "outputs": [],
   "source": [
    "# TODO: Add more visuals, add visuals for features outside features of interest"
   ]
  },
  {
   "cell_type": "markdown",
   "id": "323a04ac-c5d4-414d-a890-20f95af4f56c",
   "metadata": {},
   "source": [
    "## Linear Regression Models <a class=\"anchor\" id=\"linear-regression\"></a>"
   ]
  },
  {
   "cell_type": "markdown",
   "id": "12708527-f3ff-432b-8e1a-60898c1129dc",
   "metadata": {},
   "source": [
    "### First Iteration - Initial Dataset"
   ]
  },
  {
   "cell_type": "markdown",
   "id": "d3dbefd1-bc81-4b5f-a351-f890f6203cdf",
   "metadata": {},
   "source": [
    "We will start building the optimal linear regression model with our features of interest and continually increment the number of features as needed."
   ]
  },
  {
   "cell_type": "code",
   "execution_count": null,
   "id": "3f1c7521-a73f-4c33-b8c4-538c6e63d8ba",
   "metadata": {},
   "outputs": [],
   "source": [
    "features = [\n",
    "    'age', \n",
    "    'minutes_played',\n",
    "    'matches_played',\n",
    "    'matches_started',\n",
    "    'shot_creating_actions',\n",
    "    'goal_creation_actions',\n",
    "    'assists',\n",
    "    'progressive_passes',\n",
    "    'total_carrying_distance',\n",
    "    'goals',\n",
    "    'total_shots',\n",
    "    'passes', \n",
    "    'touches',\n",
    "    'Attacker',\n",
    "    'Defender', \n",
    "    'Midfielder',\n",
    "    'both',\n",
    "    'left', \n",
    "    'right'\n",
    "]"
   ]
  },
  {
   "cell_type": "markdown",
   "id": "f26d42ed-fd2a-4502-b929-42d313dc832b",
   "metadata": {},
   "source": [
    "#### Dropping Nulls"
   ]
  },
  {
   "cell_type": "markdown",
   "id": "029ca8d1-90b5-40e7-a6a9-4a1f180807ca",
   "metadata": {},
   "source": [
    "We will perform the dropping of nulls for every iteration of the model we build as to focus on the features that require the dropping of nulls. In our case, we will have to drop the null values from the features selected. Replacing null values with the mean or median of the feature is not appropriate in this case because it will affect that observation's correlation with player value."
   ]
  },
  {
   "cell_type": "code",
   "execution_count": 448,
   "id": "f9d6b3d8-afc2-4c53-8620-2f07bfa9210f",
   "metadata": {},
   "outputs": [],
   "source": [
    "df.dropna(subset=['shot_creating_actions'], inplace=True)\n",
    "\n",
    "# shot_creating_actions' null values also aligned with the other columns' null values."
   ]
  },
  {
   "cell_type": "code",
   "execution_count": null,
   "id": "d4cdb3a6-1ec0-48df-b34a-99d947c2a727",
   "metadata": {},
   "outputs": [],
   "source": [
    "X = df[features]\n",
    "y = df['price']\n",
    "\n",
    "X_train, X_test, y_train, y_test = train_test_split(X, y, test_size=0.2)"
   ]
  },
  {
   "cell_type": "code",
   "execution_count": null,
   "id": "a3bccef2-4328-4e8d-9441-3aa86938bfe4",
   "metadata": {},
   "outputs": [],
   "source": [
    "X_train.shape"
   ]
  },
  {
   "cell_type": "code",
   "execution_count": null,
   "id": "0dd3871e-aca2-467d-88e2-afe6bbf69364",
   "metadata": {},
   "outputs": [],
   "source": [
    "lreg = LinearRegression()\n",
    "lreg.fit(X_train, y_train)"
   ]
  },
  {
   "cell_type": "markdown",
   "id": "a92d8dbd-235a-419a-8345-b02a91c4f4a1",
   "metadata": {},
   "source": [
    "#### Coefficients"
   ]
  },
  {
   "cell_type": "code",
   "execution_count": null,
   "id": "4c9309ed-e973-427c-85a3-3c6235c0f5d5",
   "metadata": {},
   "outputs": [],
   "source": [
    "coefficients = pd.DataFrame(lreg.coef_, features, columns = ['Coeff']).sort_values(by='Coeff', ascending=False)\n",
    "coefficients"
   ]
  },
  {
   "cell_type": "code",
   "execution_count": null,
   "id": "a64c8b87-e4f8-4090-8cec-3a4d5668bf72",
   "metadata": {},
   "outputs": [],
   "source": [
    "predictions = lreg.predict(X_test)"
   ]
  },
  {
   "cell_type": "markdown",
   "id": "2f0e68a1-b7e9-4408-bcc6-69ed8976d7d9",
   "metadata": {},
   "source": [
    "#### Actual v.s. Predicted Player Value"
   ]
  },
  {
   "cell_type": "code",
   "execution_count": null,
   "id": "5abdc7d7-0240-44d3-ac47-bbe24f8e9dd0",
   "metadata": {},
   "outputs": [],
   "source": [
    "plt.scatter(y_test, predictions)\n",
    "plt.xlabel('Actual Player Value')\n",
    "plt.ylabel('Predicted Player Value')"
   ]
  },
  {
   "cell_type": "markdown",
   "id": "41785ed8-bf36-4b4c-a1d1-cf4376227d7c",
   "metadata": {},
   "source": [
    "#### Visualizing the Residuals"
   ]
  },
  {
   "cell_type": "code",
   "execution_count": null,
   "id": "976021e3-d045-4457-801d-5a52aa142359",
   "metadata": {},
   "outputs": [],
   "source": [
    "plt.hist(y_test - predictions, edgecolor='black')\n",
    "plt.ylabel(\"Count\")\n",
    "plt.xlabel(\"Residual\")\n",
    "plt.show()"
   ]
  },
  {
   "cell_type": "markdown",
   "id": "7cba1a9e-7c35-4095-8263-8d76de99e7c1",
   "metadata": {},
   "source": [
    "#### Mean Absolute Error"
   ]
  },
  {
   "cell_type": "code",
   "execution_count": null,
   "id": "12ce6ab4-7cb3-424e-9105-941fcc083d22",
   "metadata": {},
   "outputs": [],
   "source": [
    "metrics.mean_absolute_error(y_test, predictions)"
   ]
  },
  {
   "cell_type": "markdown",
   "id": "5d73fa36-81ad-4fa6-9fd2-7ce5a0393504",
   "metadata": {},
   "source": [
    "#### Mean Squared Error"
   ]
  },
  {
   "cell_type": "code",
   "execution_count": null,
   "id": "e2a2abaf-bc53-4c19-a821-affb3510d6d0",
   "metadata": {},
   "outputs": [],
   "source": [
    "metrics.mean_squared_error(y_test, predictions)"
   ]
  },
  {
   "cell_type": "markdown",
   "id": "6598fe72-3d92-4d5e-9e36-93eed9ef8a61",
   "metadata": {},
   "source": [
    "#### Root-Mean Square"
   ]
  },
  {
   "cell_type": "code",
   "execution_count": null,
   "id": "b21d3915-026e-402c-a6da-235a7c896cf0",
   "metadata": {},
   "outputs": [],
   "source": [
    "np.sqrt(metrics.mean_squared_error(y_test, predictions))"
   ]
  },
  {
   "cell_type": "markdown",
   "id": "d97aa710-8ee5-4e18-8ce6-911f77c81f85",
   "metadata": {},
   "source": [
    "Our first step in working towards better accuracy and performance is to remove the outliers in the core features. By doing so, we will improve lineality in the model and remove the influence of extreme values in the regression model."
   ]
  },
  {
   "cell_type": "markdown",
   "id": "6d81c413-186f-4b95-809b-a3fb282f622e",
   "metadata": {},
   "source": [
    "### Second Iteration - Removal of Outliers"
   ]
  },
  {
   "cell_type": "markdown",
   "id": "b9b88c91-f016-4480-8b14-e700fcd08f40",
   "metadata": {},
   "source": [
    "We will leverage each feature's interquartile range to determine non-extreme values for each feature. "
   ]
  },
  {
   "cell_type": "code",
   "execution_count": null,
   "id": "3bae32c5-4000-479a-b0f3-f7dc323db85f",
   "metadata": {},
   "outputs": [],
   "source": [
    "features = [\n",
    "    'age', \n",
    "    'minutes_played',\n",
    "    'matches_played',\n",
    "    'matches_started',\n",
    "    'shot_creating_actions',\n",
    "    'goal_creation_actions',\n",
    "    'assists',\n",
    "    'progressive_passes',\n",
    "    'total_carrying_distance',\n",
    "    'goals',\n",
    "    'total_shots',\n",
    "    'passes', \n",
    "    'touches',\n",
    "    'Attacker',\n",
    "    'Defender', \n",
    "    'Midfielder',\n",
    "    'both',\n",
    "    'left', \n",
    "    'right'\n",
    "]"
   ]
  },
  {
   "cell_type": "code",
   "execution_count": null,
   "id": "7a0ac205-471c-4de1-80f5-e9b256e9c479",
   "metadata": {},
   "outputs": [],
   "source": [
    "indices_to_drop = []\n",
    "\n",
    "# Loop over each feature and find outliers using the IQR method\n",
    "for feature in features:\n",
    "    q1 = df[feature].quantile(0.25)\n",
    "    q3 = df[feature].quantile(0.75)\n",
    "    iqr = q3 - q1\n",
    "    lower_bound = q1 - 1.5*iqr\n",
    "    upper_bound = q3 + 1.5*iqr\n",
    "    # Find the indexes where the values are below or above the lower and upper bounds respectively.\n",
    "    outliers = df[(df[feature] < lower_bound) | (df[feature] > upper_bound)].index\n",
    "    # Add the indices to the indices_to_drop.\n",
    "    indices_to_drop.extend(outliers)\n",
    "\n",
    "# Drop duplicate indices and sort the list\n",
    "indices_to_drop = list(set(indices_to_drop))\n",
    "indices_to_drop.sort()\n",
    "\n",
    "# Remove the rows containing outliers\n",
    "df = df.drop(indices_to_drop).reset_index(drop=True)\n",
    "\n",
    "# Print the number of rows dropped\n",
    "print(f\"Total rows dropped: {len(indices_to_drop)}\")"
   ]
  },
  {
   "cell_type": "code",
   "execution_count": null,
   "id": "f22963ab-c352-4e2d-80ba-b01eab1776a0",
   "metadata": {},
   "outputs": [],
   "source": [
    "X = df[features]\n",
    "y = df['price']\n",
    "\n",
    "X_train, X_test, y_train, y_test = train_test_split(X, y, test_size=0.2)"
   ]
  },
  {
   "cell_type": "code",
   "execution_count": null,
   "id": "b369170e-3b65-4451-9fcb-88a68bc2ba04",
   "metadata": {},
   "outputs": [],
   "source": [
    "lreg = LinearRegression()\n",
    "lreg.fit(X_train, y_train)"
   ]
  },
  {
   "cell_type": "code",
   "execution_count": 373,
   "id": "e8e72ca4-e02a-44b1-9412-9af8157c56bc",
   "metadata": {},
   "outputs": [
    {
     "data": {
      "text/html": [
       "<div>\n",
       "<style scoped>\n",
       "    .dataframe tbody tr th:only-of-type {\n",
       "        vertical-align: middle;\n",
       "    }\n",
       "\n",
       "    .dataframe tbody tr th {\n",
       "        vertical-align: top;\n",
       "    }\n",
       "\n",
       "    .dataframe thead th {\n",
       "        text-align: right;\n",
       "    }\n",
       "</style>\n",
       "<table border=\"1\" class=\"dataframe\">\n",
       "  <thead>\n",
       "    <tr style=\"text-align: right;\">\n",
       "      <th></th>\n",
       "      <th>Coeff</th>\n",
       "    </tr>\n",
       "  </thead>\n",
       "  <tbody>\n",
       "    <tr>\n",
       "      <th>right</th>\n",
       "      <td>5.445586e+06</td>\n",
       "    </tr>\n",
       "    <tr>\n",
       "      <th>left</th>\n",
       "      <td>5.183458e+06</td>\n",
       "    </tr>\n",
       "    <tr>\n",
       "      <th>goal_creation_actions</th>\n",
       "      <td>8.814856e+05</td>\n",
       "    </tr>\n",
       "    <tr>\n",
       "      <th>Attacker</th>\n",
       "      <td>4.851015e+05</td>\n",
       "    </tr>\n",
       "    <tr>\n",
       "      <th>goals</th>\n",
       "      <td>4.137461e+05</td>\n",
       "    </tr>\n",
       "    <tr>\n",
       "      <th>total_shots</th>\n",
       "      <td>2.643239e+05</td>\n",
       "    </tr>\n",
       "    <tr>\n",
       "      <th>Midfielder</th>\n",
       "      <td>5.023387e+04</td>\n",
       "    </tr>\n",
       "    <tr>\n",
       "      <th>matches_started</th>\n",
       "      <td>4.497431e+04</td>\n",
       "    </tr>\n",
       "    <tr>\n",
       "      <th>passes</th>\n",
       "      <td>4.293914e+04</td>\n",
       "    </tr>\n",
       "    <tr>\n",
       "      <th>assists</th>\n",
       "      <td>4.241777e+04</td>\n",
       "    </tr>\n",
       "    <tr>\n",
       "      <th>both</th>\n",
       "      <td>0.000000e+00</td>\n",
       "    </tr>\n",
       "    <tr>\n",
       "      <th>shot_creating_actions</th>\n",
       "      <td>-6.268127e+02</td>\n",
       "    </tr>\n",
       "    <tr>\n",
       "      <th>total_carrying_distance</th>\n",
       "      <td>-9.974345e+02</td>\n",
       "    </tr>\n",
       "    <tr>\n",
       "      <th>minutes_played</th>\n",
       "      <td>-5.441339e+03</td>\n",
       "    </tr>\n",
       "    <tr>\n",
       "      <th>touches</th>\n",
       "      <td>-1.080044e+04</td>\n",
       "    </tr>\n",
       "    <tr>\n",
       "      <th>progressive_passes</th>\n",
       "      <td>-5.029811e+04</td>\n",
       "    </tr>\n",
       "    <tr>\n",
       "      <th>matches_played</th>\n",
       "      <td>-1.455079e+05</td>\n",
       "    </tr>\n",
       "    <tr>\n",
       "      <th>age</th>\n",
       "      <td>-2.711721e+05</td>\n",
       "    </tr>\n",
       "    <tr>\n",
       "      <th>Defender</th>\n",
       "      <td>-5.353354e+05</td>\n",
       "    </tr>\n",
       "  </tbody>\n",
       "</table>\n",
       "</div>"
      ],
      "text/plain": [
       "                                Coeff\n",
       "right                    5.445586e+06\n",
       "left                     5.183458e+06\n",
       "goal_creation_actions    8.814856e+05\n",
       "Attacker                 4.851015e+05\n",
       "goals                    4.137461e+05\n",
       "total_shots              2.643239e+05\n",
       "Midfielder               5.023387e+04\n",
       "matches_started          4.497431e+04\n",
       "passes                   4.293914e+04\n",
       "assists                  4.241777e+04\n",
       "both                     0.000000e+00\n",
       "shot_creating_actions   -6.268127e+02\n",
       "total_carrying_distance -9.974345e+02\n",
       "minutes_played          -5.441339e+03\n",
       "touches                 -1.080044e+04\n",
       "progressive_passes      -5.029811e+04\n",
       "matches_played          -1.455079e+05\n",
       "age                     -2.711721e+05\n",
       "Defender                -5.353354e+05"
      ]
     },
     "execution_count": 373,
     "metadata": {},
     "output_type": "execute_result"
    }
   ],
   "source": [
    "coefficients = pd.DataFrame(lreg.coef_, features, columns = ['Coeff']).sort_values(by='Coeff', ascending=False)\n",
    "coefficients"
   ]
  },
  {
   "cell_type": "code",
   "execution_count": 374,
   "id": "459ae81e-1b0b-48d0-bbdc-1215020ebcff",
   "metadata": {},
   "outputs": [],
   "source": [
    "predictions = lreg.predict(X_test)"
   ]
  },
  {
   "cell_type": "markdown",
   "id": "d6cd4a82-7f0a-424c-9363-f84773090128",
   "metadata": {},
   "source": [
    "#### Actual v.s. Predicted Player Value"
   ]
  },
  {
   "cell_type": "code",
   "execution_count": 375,
   "id": "ea3c6e77-02ca-4fd8-84a7-5be659a0ea2b",
   "metadata": {},
   "outputs": [
    {
     "data": {
      "text/plain": [
       "Text(0, 0.5, 'Predicted Player Value')"
      ]
     },
     "execution_count": 375,
     "metadata": {},
     "output_type": "execute_result"
    },
    {
     "data": {
      "image/png": "[encoded data removed]",
      "text/plain": [
       "<Figure size 640x480 with 1 Axes>"
      ]
     },
     "metadata": {},
     "output_type": "display_data"
    }
   ],
   "source": [
    "plt.scatter(y_test, predictions)\n",
    "plt.xlabel('Actual Player Value')\n",
    "plt.ylabel('Predicted Player Value')"
   ]
  },
  {
   "cell_type": "markdown",
   "id": "f092898a-91b5-48e0-867f-89c48040a403",
   "metadata": {},
   "source": [
    "#### Visualizing the Residuals"
   ]
  },
  {
   "cell_type": "code",
   "execution_count": 376,
   "id": "6f0df563-6ffa-4813-9a2b-93452c159363",
   "metadata": {},
   "outputs": [
    {
     "data": {
      "image/png": "[encoded data removed]",
      "text/plain": [
       "<Figure size 640x480 with 1 Axes>"
      ]
     },
     "metadata": {},
     "output_type": "display_data"
    }
   ],
   "source": [
    "plt.hist(y_test - predictions, edgecolor='black')\n",
    "plt.ylabel(\"Count\")\n",
    "plt.xlabel(\"Residual\")\n",
    "plt.show()"
   ]
  },
  {
   "cell_type": "markdown",
   "id": "4fa0e8ff-7f81-415b-88df-aec4cc2e23e2",
   "metadata": {},
   "source": [
    "#### Mean Absolute Error"
   ]
  },
  {
   "cell_type": "code",
   "execution_count": 377,
   "id": "95d68c80-9883-42e1-88ed-062c70a41bac",
   "metadata": {},
   "outputs": [
    {
     "data": {
      "text/plain": [
       "4829838.444955706"
      ]
     },
     "execution_count": 377,
     "metadata": {},
     "output_type": "execute_result"
    }
   ],
   "source": [
    "metrics.mean_absolute_error(y_test, predictions)"
   ]
  },
  {
   "cell_type": "markdown",
   "id": "256de281-58ca-44ae-bad2-6d4bdc9e983f",
   "metadata": {},
   "source": [
    "#### Mean Squared Error"
   ]
  },
  {
   "cell_type": "code",
   "execution_count": 378,
   "id": "0167c2f5-5015-4a54-9194-0256134ffc71",
   "metadata": {},
   "outputs": [
    {
     "data": {
      "text/plain": [
       "56839771551354.15"
      ]
     },
     "execution_count": 378,
     "metadata": {},
     "output_type": "execute_result"
    }
   ],
   "source": [
    "metrics.mean_squared_error(y_test, predictions)"
   ]
  },
  {
   "cell_type": "markdown",
   "id": "96e95779-1ebb-4106-b6cb-ab96a05f3404",
   "metadata": {},
   "source": [
    "#### Root-Mean Square"
   ]
  },
  {
   "cell_type": "code",
   "execution_count": 379,
   "id": "87774095-40ef-46ff-966e-8437fb4e5e6d",
   "metadata": {},
   "outputs": [
    {
     "data": {
      "text/plain": [
       "7539215.579312887"
      ]
     },
     "execution_count": 379,
     "metadata": {},
     "output_type": "execute_result"
    }
   ],
   "source": [
    "np.sqrt(metrics.mean_squared_error(y_test, predictions))"
   ]
  },
  {
   "cell_type": "markdown",
   "id": "081a6e9d-683b-40fa-9545-4a3ca18c2927",
   "metadata": {},
   "source": [
    "### Third Iteration - Regression by Position"
   ]
  },
  {
   "cell_type": "markdown",
   "id": "72c81881-e685-4a01-b447-61ced2dc353c",
   "metadata": {},
   "source": [
    "For this iteration, we will apply a linear regression to each distinct player position (attacker, midfielder, defender) to determine any changes to the ordering of the coefficients and performance of the model. We will also tailor the features to include each position's common traits and actions."
   ]
  },
  {
   "cell_type": "code",
   "execution_count": 467,
   "id": "624e52db-157e-49cb-9c88-119146c8506e",
   "metadata": {},
   "outputs": [],
   "source": [
    "attackers = df[df['Attacker'] == 1]\n",
    "midfielders = df[df['Midfielder'] == 1]\n",
    "defenders = df[df['Defender'] == 1]"
   ]
  },
  {
   "cell_type": "code",
   "execution_count": 468,
   "id": "c9c9b837-409b-44e3-8275-31bb1a153886",
   "metadata": {},
   "outputs": [],
   "source": [
    "attacker_features = [\n",
    "    'age', \n",
    "    'minutes_played',\n",
    "    'matches_played',\n",
    "    'matches_started',\n",
    "    'shot_creating_actions',\n",
    "    'goal_creation_actions',\n",
    "    'assists',\n",
    "    'progressive_passes',\n",
    "    'total_carrying_distance',\n",
    "    'goals',\n",
    "    'total_shots',\n",
    "    'passes', \n",
    "    'touches',\n",
    "]\n",
    "\n",
    "midfielder_features = [\n",
    "    'age', \n",
    "    'minutes_played',\n",
    "    'matches_played',\n",
    "    'matches_started',\n",
    "    'progressive_passes',\n",
    "    'shot_creating_actions',\n",
    "    'goal_creation_actions',\n",
    "    'total_carrying_distance',\n",
    "    'goals',\n",
    "    'passes', \n",
    "    'touches',\n",
    "    'both',\n",
    "    'left', \n",
    "    'right',\n",
    "    'fouls',\n",
    "    'tackles_won',\n",
    "    'defensive_actions',\n",
    "]\n",
    "\n",
    "defender_features = [\n",
    "    'age', \n",
    "    'minutes_played',\n",
    "    'matches_played',\n",
    "    'matches_started',\n",
    "    'progressive_passes',\n",
    "    'total_carrying_distance',\n",
    "    'goals',\n",
    "    'passes', \n",
    "    'touches',\n",
    "    'both',\n",
    "    'left', \n",
    "    'right',\n",
    "    'fouls',\n",
    "    'tackles_won',\n",
    "    'defensive_actions',\n",
    "]"
   ]
  },
  {
   "cell_type": "code",
   "execution_count": 476,
   "id": "2c3542fa-d395-460b-85f9-c1d50d5c5514",
   "metadata": {},
   "outputs": [],
   "source": [
    "X = attackers[attacker_features]\n",
    "y = attackers['price']\n",
    "\n",
    "X_train, X_test, y_train, y_test = train_test_split(X, y, test_size=0.2)\n",
    "lreg = LinearRegression()\n",
    "lreg.fit(X_train, y_train)\n",
    "attacker_coefficients = pd.DataFrame(lreg.coef_, attacker_features, columns = ['Coeff']).sort_values(by='Coeff', ascending=False)\n",
    "attacker_predictions = lreg.predict(X_test)"
   ]
  },
  {
   "cell_type": "code",
   "execution_count": 478,
   "id": "e51b32d1-5d1d-4f66-a9c6-3d78c6fe0794",
   "metadata": {},
   "outputs": [],
   "source": [
    "X = midfielders[midfielder_features]\n",
    "y = midfielders['price']\n",
    "\n",
    "X_train, X_test, y_train, y_test = train_test_split(X, y, test_size=0.2)\n",
    "lreg = LinearRegression()\n",
    "lreg.fit(X_train, y_train)\n",
    "midfield_coefficients = pd.DataFrame(lreg.coef_, midfielder_features, columns = ['Coeff']).sort_values(by='Coeff', ascending=False)\n",
    "midfield_predictions = lreg.predict(X_test)"
   ]
  },
  {
   "cell_type": "code",
   "execution_count": 471,
   "id": "dcb85da1-0383-4cb3-a44f-d2a9ce94f5c2",
   "metadata": {},
   "outputs": [],
   "source": [
    "X = defenders[defender_features]\n",
    "y = defenders['price']\n",
    "\n",
    "X_train, X_test, y_train, y_test = train_test_split(X, y, test_size=0.2)\n",
    "lreg = LinearRegression()\n",
    "lreg.fit(X_train, y_train)\n",
    "defender_coefficients = pd.DataFrame(lreg.coef_, defender_features, columns = ['Coeff']).sort_values(by='Coeff', ascending=False)\n",
    "defender_predictions = lreg.predict(X_test)"
   ]
  },
  {
   "cell_type": "code",
   "execution_count": 472,
   "id": "9e4f77b9-a794-4fbf-9c51-4fd2330c2868",
   "metadata": {},
   "outputs": [
    {
     "data": {
      "text/plain": [
       "214"
      ]
     },
     "execution_count": 472,
     "metadata": {},
     "output_type": "execute_result"
    }
   ],
   "source": [
    "len(y_test)"
   ]
  },
  {
   "cell_type": "markdown",
   "id": "f7072a19-83a2-449e-a839-fb890bc9775c",
   "metadata": {},
   "source": [
    "#### Actual v.s. Predicted Player Value"
   ]
  },
  {
   "cell_type": "code",
   "execution_count": 479,
   "id": "283b2b6a-e0e0-4ac6-8ee6-ed2b4bb18f5c",
   "metadata": {},
   "outputs": [
    {
     "data": {
      "text/plain": [
       "Text(0, 0.5, 'Predicted Player Value')"
      ]
     },
     "execution_count": 479,
     "metadata": {},
     "output_type": "execute_result"
    },
    {
     "data": {
      "image/png": "[encoded data removed]",
      "text/plain": [
       "<Figure size 640x480 with 1 Axes>"
      ]
     },
     "metadata": {},
     "output_type": "display_data"
    }
   ],
   "source": [
    "plt.scatter(y_test, midfield_predictions)\n",
    "plt.xlabel('Actual Player Value')\n",
    "plt.ylabel('Predicted Player Value')"
   ]
  },
  {
   "cell_type": "markdown",
   "id": "df7bf587-87e5-40cd-9417-a9553edeca81",
   "metadata": {},
   "source": [
    "#### Visualizing the Residuals"
   ]
  },
  {
   "cell_type": "code",
   "execution_count": 481,
   "id": "2d6f1203-238d-4dd9-afdf-7783d04df2c3",
   "metadata": {},
   "outputs": [
    {
     "data": {
      "image/png": "[encoded data removed]",
      "text/plain": [
       "<Figure size 640x480 with 1 Axes>"
      ]
     },
     "metadata": {},
     "output_type": "display_data"
    }
   ],
   "source": [
    "plt.hist(y_test - midfield_predictions, edgecolor='black')\n",
    "plt.ylabel(\"Count\")\n",
    "plt.xlabel(\"Residual\")\n",
    "plt.show()"
   ]
  },
  {
   "cell_type": "markdown",
   "id": "057c15c4-96f8-4f93-ba2d-7d957cbfbcf4",
   "metadata": {},
   "source": [
    "#### Mean Absolute Error"
   ]
  },
  {
   "cell_type": "code",
   "execution_count": 437,
   "id": "40b0b8b9-87f1-44bf-8666-7c0c74387c5f",
   "metadata": {},
   "outputs": [
    {
     "data": {
      "text/plain": [
       "8599647.767188957"
      ]
     },
     "execution_count": 437,
     "metadata": {},
     "output_type": "execute_result"
    }
   ],
   "source": [
    "metrics.mean_absolute_error(y_test, predictions)"
   ]
  },
  {
   "cell_type": "markdown",
   "id": "8c87b598-1e7c-4ca2-b419-be163a3c9cde",
   "metadata": {},
   "source": [
    "#### Mean Squared Error"
   ]
  },
  {
   "cell_type": "code",
   "execution_count": 438,
   "id": "4079a5ea-0e15-4395-aeb2-226463c01087",
   "metadata": {},
   "outputs": [
    {
     "data": {
      "text/plain": [
       "187289736170157.8"
      ]
     },
     "execution_count": 438,
     "metadata": {},
     "output_type": "execute_result"
    }
   ],
   "source": [
    "metrics.mean_squared_error(y_test, predictions)"
   ]
  },
  {
   "cell_type": "markdown",
   "id": "eb99664c-2c43-4505-98bc-421bd274f0a0",
   "metadata": {},
   "source": [
    "#### Root-Mean Square"
   ]
  },
  {
   "cell_type": "code",
   "execution_count": 439,
   "id": "1d79ff05-82fa-4051-83d9-bc2f96f704bb",
   "metadata": {},
   "outputs": [
    {
     "data": {
      "text/plain": [
       "13685384.03444192"
      ]
     },
     "execution_count": 439,
     "metadata": {},
     "output_type": "execute_result"
    }
   ],
   "source": [
    "np.sqrt(metrics.mean_squared_error(y_test, predictions))"
   ]
  },
  {
   "cell_type": "code",
   "execution_count": null,
   "id": "6a9dfb1c-d2d3-4753-b40a-5a741db75358",
   "metadata": {},
   "outputs": [],
   "source": []
  }
 ],
 "metadata": {
  "kernelspec": {
   "display_name": "Python 3 (ipykernel)",
   "language": "python",
   "name": "python3"
  },
  "language_info": {
   "codemirror_mode": {
    "name": "ipython",
    "version": 3
   },
   "file_extension": ".py",
   "mimetype": "text/x-python",
   "name": "python",
   "nbconvert_exporter": "python",
   "pygments_lexer": "ipython3",
   "version": "3.9.4"
  }
 },
 "nbformat": 4,
 "nbformat_minor": 5
}

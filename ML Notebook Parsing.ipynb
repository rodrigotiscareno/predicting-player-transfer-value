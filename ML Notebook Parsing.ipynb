{
 "cells": [
  {
   "cell_type": "code",
   "execution_count": 292,
   "id": "c7dbdabf-6e81-4293-820d-06b4cb727ecd",
   "metadata": {},
   "outputs": [],
   "source": [
    "import pandas as pd\n",
    "import numpy as np\n",
    "import os\n",
    "import requests\n",
    "from bs4 import BeautifulSoup\n",
    "from functools import reduce\n",
    "from unidecode import unidecode\n",
    "import re\n",
    "from datetime import datetime"
   ]
  },
  {
   "cell_type": "markdown",
   "id": "e37ab42c-ab66-45bc-831a-c9fb18eada8a",
   "metadata": {},
   "source": [
    "# Configuration Variables "
   ]
  },
  {
   "cell_type": "code",
   "execution_count": 1,
   "id": "f9737afa-21b7-455e-9fdf-ec9e2b45eb7d",
   "metadata": {},
   "outputs": [],
   "source": []
  },
  {
   "cell_type": "code",
   "execution_count": 3,
   "id": "e93c0655-500e-4495-ac01-31a6e4f0a1e8",
   "metadata": {},
   "outputs": [],
   "source": [
    "def get_player_statistics(stat_links, df_order):\n",
    "    for nations in STAT_LINKS:\n",
    "        for team in STAT_LINKS[nations]:\n",
    "            df_list = pd.read_html(STAT_LINKS[nations][team], header=1)\n",
    "            for i, df in enumerate(df_list):\n",
    "                if not os.path.isdir(f\"{nations}/player_stats/{team}/\"):\n",
    "                    os.makedirs(f\"{nations}/player_stats/{team}/\")\n",
    "                df.to_csv(f\"{nations}/player_stats/{team}/{df_order[i]}.csv\", index=False)"
   ]
  },
  {
   "cell_type": "code",
   "execution_count": null,
   "id": "564e7d4c-8a61-47ab-96e2-9d0018f72090",
   "metadata": {},
   "outputs": [],
   "source": [
    "get_player_statistics(STAT_LINKS, DF_ORDER)"
   ]
  },
  {
   "cell_type": "code",
   "execution_count": null,
   "id": "e362f350-38bc-4a57-94ce-a96ad6f648d3",
   "metadata": {},
   "outputs": [],
   "source": [
    "def get_player_info(INFO_LINKS):\n",
    "    \n",
    "    for nation in INFO_LINKS:\n",
    "        for team in INFO_LINKS[nation]:\n",
    "\n",
    "        # Get team name.\n",
    "            team_name = team.split(\"/\")[3]\n",
    "\n",
    "            headers = {'User-Agent': 'Mozilla/5.0 (X11; Linux x86_64) AppleWebKit/537.36 (KHTML, like Gecko) Chrome/47.0.2526.106 Safari/537.36'}\n",
    "            page = team\n",
    "            pageTree = requests.get(page, headers=headers)\n",
    "            pageSoup = BeautifulSoup(pageTree.content, 'html.parser')\n",
    "\n",
    "            # Acquire player names, prices and positions. \n",
    "            names = []\n",
    "            positions = []\n",
    "            tables= pageSoup.find_all('table', class_='inline-table')\n",
    "            for table in tables:\n",
    "                rows = table.find_all('tr')\n",
    "                name = rows[0].text.strip()\n",
    "                position = rows[1].text.strip()\n",
    "                names.append(name)\n",
    "                positions.append(position)\n",
    "\n",
    "            player_prices = pageSoup.find_all(class_='rechts hauptlink')\n",
    "            prices = []\n",
    "            for price in player_prices:\n",
    "                price = price.text.strip()\n",
    "                prices.append(price)\n",
    "\n",
    "            # Store in info dataframe.\n",
    "            info = pd.DataFrame({'name': names, 'price': prices, 'position':positions})\n",
    "\n",
    "            # Custom logic to acquire dob, nationality, height, foot, join_date, and contract_expiration.\n",
    "            data_rows = []\n",
    "            tables= pageSoup.find_all('table', class_='items')\n",
    "            for table in tables:\n",
    "                rows = table.find_all('td', {\"class\": \"zentriert\"})\n",
    "                for i in range(len(rows)):\n",
    "                    data_rows.append(rows[i])\n",
    "\n",
    "\n",
    "            general = [data_rows[i:i + 8] for i in range(0, len(data_rows), 8)]\n",
    "            overall = []\n",
    "            for g in general:\n",
    "                overall.append(dict(\n",
    "                  dob = g[1].text.strip(),\n",
    "                  nationality = g[2].img['alt'],\n",
    "                  height = g[3].text.strip(),\n",
    "                  foot = g[4].text.strip(),\n",
    "                  join_date = g[5].text.strip(),\n",
    "                  contract_expiration = g[7].text.strip(), \n",
    "              )\n",
    "              )\n",
    "            # Create info2 dataframe with additional information.\n",
    "            info2 = pd.DataFrame(overall)\n",
    "\n",
    "            # Concat info with info2 to combine information.\n",
    "            overall = pd.concat([info, info2], axis=1)\n",
    "\n",
    "            if not os.path.isdir(f\"{nation}/player_info\"):\n",
    "                  os.makedirs(f\"{nation}/player_info\")\n",
    "\n",
    "            # Export dataframe to nation directory.\n",
    "            overall.to_csv(f\"{nation}/player_info/{team_name}.csv\", index=False)"
   ]
  },
  {
   "cell_type": "code",
   "execution_count": null,
   "id": "7f6bc794-0938-4252-a3dd-c7a5e1176b7e",
   "metadata": {},
   "outputs": [],
   "source": [
    "get_player_info(INFO_LINKS)"
   ]
  },
  {
   "cell_type": "code",
   "execution_count": 1,
   "id": "378e25ef-64a1-4b90-a346-881f6621b06d",
   "metadata": {},
   "outputs": [],
   "source": [
    "def clean_up_defensive_actions(df):\n",
    "    df = df.iloc[:-2]\n",
    "    \n",
    "    df.drop(columns=[\n",
    "        '90s',\n",
    "        'Matches',\n",
    "        'Nation',\n",
    "        'Pos',\n",
    "        'Age',\n",
    "        'Tkl.1',\n",
    "        'Att',\n",
    "        'Tkl%',\n",
    "        'Lost',\n",
    "        'Blocks',\n",
    "        'Tkl+Int',\n",
    "        'Pass'\n",
    "    ], inplace=True)\n",
    "    \n",
    "    df.rename(columns={\n",
    "        'Tkl': 'tackles',\n",
    "        'TklW': 'tackles_won',\n",
    "        'Def 3rd': 'defensive_third_tackles',\n",
    "        'Mid 3rd': 'midfield_tackles',\n",
    "        'Att 3rd': 'attacking_third_tackles',\n",
    "        'Sh': 'shots_blocked',\n",
    "        'Pass': 'passes_blocked',\n",
    "        'Int': 'interceptions',\n",
    "        'Clr': 'clearances',\n",
    "        'Err': 'errors_leading_to_goal'\n",
    "    }, inplace=True)\n",
    "    \n",
    "    return df"
   ]
  },
  {
   "cell_type": "code",
   "execution_count": null,
   "id": "90943086-b628-43a0-972a-24e6a447f2f7",
   "metadata": {},
   "outputs": [],
   "source": [
    "def clean_up_goal_and_shot(df):\n",
    "    df = df.iloc[:-2]\n",
    "    \n",
    "    df.drop(columns=[\n",
    "        '90s',\n",
    "        'Matches',\n",
    "        'Nation',\n",
    "        'Pos',\n",
    "        'Age',\n",
    "        'SCA90',\n",
    "        'GCA90',\n",
    "    ], inplace=True)\n",
    "    \n",
    "    df.rename(columns={\n",
    "        'SCA': 'shot_creating_actions',\n",
    "        'PassLive': 'sca_live_passes',\n",
    "        'PassDead': 'sca_dead_passes',\n",
    "        'TO': 'sca_take_ons',\n",
    "        'Sh': 'sca_shots',\n",
    "        'Fld': 'sca_fouls_drawn',\n",
    "        'Def': 'sca_defensive_actions',\n",
    "        'GCA': 'goal_creation_actions',\n",
    "        'PassLive.1': 'gca_live_passes',\n",
    "        'PassDead.1': 'gca_dead_passes',\n",
    "        'TO.1': 'gca_take_ons',\n",
    "        'Sh.1': 'gca_shots',\n",
    "        'Fld.1': 'gca_fouls_drawn',\n",
    "        'Def.1': 'gca_defensive_actions',\n",
    "    }, inplace=True)\n",
    "    \n",
    "    return df"
   ]
  },
  {
   "cell_type": "code",
   "execution_count": null,
   "id": "78bc213f-a715-495f-a06b-fcf507e4013f",
   "metadata": {},
   "outputs": [],
   "source": [
    "def clean_up_miscellaneous(df):\n",
    "    df = df.iloc[:-2]\n",
    "    \n",
    "    df.drop(columns=[\n",
    "        '90s',\n",
    "        'Matches',\n",
    "        'Nation',\n",
    "        'Pos',\n",
    "        'Age',\n",
    "        '2CrdY',\n",
    "        'Crs',\n",
    "        'Int',\n",
    "        'TklW',\n",
    "        'Won%',\n",
    "    ], inplace=True)\n",
    "    \n",
    "    df.rename(columns={\n",
    "        'CrdY': 'yellow_cards',\n",
    "        'CrdR': 'red_cards',\n",
    "        'Fls': 'fouls',\n",
    "        'Fld': 'fouls_drawn',\n",
    "        'Off': 'offsides',\n",
    "        'Fls': 'fouls',\n",
    "        'Fld': 'fouls_drawn',\n",
    "        'Off': 'offsides',\n",
    "        'PKwon': 'penalties_won',\n",
    "        'PKcon': 'penalties_conceded',\n",
    "        'OG': 'own_goals',\n",
    "        'Recov': 'ball_recoveries',\n",
    "        'Won': 'aerial_duels_won',\n",
    "        'Lost': 'aerial_duels_lost',\n",
    "    }, inplace=True)\n",
    "    \n",
    "    return df"
   ]
  },
  {
   "cell_type": "code",
   "execution_count": null,
   "id": "4c61ff34-9b17-4828-9c75-e9ae78ead92d",
   "metadata": {},
   "outputs": [],
   "source": [
    "def clean_up_passing(df):\n",
    "    df = df.iloc[:-2]\n",
    "    \n",
    "    df.rename(columns={\n",
    "        'Cmp.1': 'short_passes_completed',\n",
    "        'Att.1': 'short_passes_attempted',\n",
    "        'Cmp.2': 'medium_passes_completed',\n",
    "        'Att.2': 'medium_passes_attempted',\n",
    "        'Cmp.3': 'long_passes_completed',\n",
    "        'Att.3': 'long_passes_attempted',\n",
    "        'Ast': 'assists',\n",
    "        'xA': 'expected_assists',\n",
    "        'KP': 'key_passes',\n",
    "        '1/3': 'passes_into_final_third',\n",
    "        'PPA': 'passes_into_penalty_box',\n",
    "        'CrsPA': 'crosses_into_penalty_area',\n",
    "        'PrgP': 'progressive_passes',\n",
    "    }, inplace=True)\n",
    "   \n",
    "    df.drop(columns=[\n",
    "        '90s',\n",
    "        'Matches',\n",
    "        'Nation',\n",
    "        'Pos',\n",
    "        'Age',\n",
    "        'Cmp',\n",
    "        'Att',\n",
    "        'Cmp%',\n",
    "        'TotDist',\n",
    "        'PrgDist',\n",
    "        'Cmp%.1',\n",
    "        'Cmp%.2',\n",
    "        'Cmp%.3',\n",
    "        'xAG',\n",
    "        'A-xAG',\n",
    "    ], inplace=True)\n",
    "    \n",
    "    return df"
   ]
  },
  {
   "cell_type": "code",
   "execution_count": null,
   "id": "d9ff996d-7479-4d9e-8b29-2048933d57b8",
   "metadata": {},
   "outputs": [],
   "source": [
    "def clean_up_playing_time(df):\n",
    "    df = df.iloc[:-2]\n",
    "    \n",
    "    df = df[['Player', 'Min', 'MP', 'Starts']]\n",
    "    \n",
    "    df.rename(columns={\n",
    "        'Min': 'minutes_played',\n",
    "        'MP': 'matches_played',\n",
    "        'Starts': 'matches_started',\n",
    "    }, inplace=True)\n",
    "    \n",
    "    return df"
   ]
  },
  {
   "cell_type": "code",
   "execution_count": null,
   "id": "e9b7d20b-2f53-420f-a893-9f0ba7e7c5b9",
   "metadata": {},
   "outputs": [],
   "source": [
    "def clean_up_possession(df):\n",
    "    df = df.iloc[:-2]\n",
    "    \n",
    "    df.drop(columns=[\n",
    "        '90s',\n",
    "        'Matches',\n",
    "        'Nation',\n",
    "        'Pos',\n",
    "        'Age',\n",
    "        'Touches',\n",
    "        'Live',\n",
    "        'Succ%',\n",
    "        'Tkld%',\n",
    "        'Rec',\n",
    "        'PrgR',\n",
    "    ], inplace=True)\n",
    "    \n",
    "    df.rename(columns={\n",
    "        'Def Pen': 'touches_penalty_area_defending',\n",
    "        'Def 3rd': 'touches_defensive_third',\n",
    "        'Mid 3rd': 'touches_middle_third',\n",
    "        'Att 3rd': 'touches_attacking_third',\n",
    "        'Att Pen': 'touches_penalty_area_attacking',\n",
    "        'Att': 'attempted_take_ons',\n",
    "        'Succ': 'successful_take_ons',\n",
    "        'Tkld': 'tackled_take_ons',\n",
    "        'Carries': 'carries',\n",
    "        'TotDist': 'total_carrying_distance',\n",
    "        'PrgDist': 'progressive_carrying_distance',\n",
    "        'PrgC': 'progressive_carries',\n",
    "        '1/3': 'carries_into_final_third',\n",
    "        'CPA': 'carries_into_penalty_area',\n",
    "        'Mis': 'carry_miscontrols',\n",
    "        'Dis': 'carry_dispossessions',\n",
    "    }, inplace=True)\n",
    "    \n",
    "    return df"
   ]
  },
  {
   "cell_type": "code",
   "execution_count": null,
   "id": "5b25434e-140d-47ef-b24d-4fba2d78e208",
   "metadata": {},
   "outputs": [],
   "source": [
    "def clean_up_shooting(df):\n",
    "    df = df.iloc[:-2]\n",
    "    \n",
    "    df.drop(columns=[\n",
    "        '90s',\n",
    "        'Matches',\n",
    "        'Nation',\n",
    "        'Pos',\n",
    "        'Age',\n",
    "        'SoT%',\n",
    "        'Sh/90',\n",
    "        'SoT/90',\n",
    "        'G/SoT',\n",
    "        'npxG',\n",
    "        'npxG/Sh',\n",
    "        'G-xG',\n",
    "        'np:G-xG',\n",
    "    ], inplace=True)\n",
    "    \n",
    "    df.rename(columns={\n",
    "        'Gls': 'goals',\n",
    "        'Sh': 'total_shots',\n",
    "        'SoT': 'shots_on_target',\n",
    "        'G/Sh': 'goals_per_shot',\n",
    "        'Dist': 'average_shot_distance',\n",
    "        'FK': 'freekick_shots',\n",
    "        'PK': 'penalty_kicks_converted',\n",
    "        'PKatt': 'penalty_kicks_attempted',\n",
    "    }, inplace=True)\n",
    "    \n",
    "    return df"
   ]
  },
  {
   "cell_type": "code",
   "execution_count": null,
   "id": "6abeadfe-d79d-4519-a9d5-2718f4c2e0a5",
   "metadata": {},
   "outputs": [],
   "source": [
    "def clean_up_statistic_dataframes(directory):\n",
    "    \n",
    "    files = [\n",
    "        (\"playing_time.csv\", clean_up_playing_time),\n",
    "        (\"defensive_actions.csv\", clean_up_defensive_actions),\n",
    "        (\"goal_and_shot_creation.csv\", clean_up_goal_and_shot),\n",
    "        (\"miscellaneous_tasks.csv\", clean_up_miscellaneous),\n",
    "        (\"passing.csv\", clean_up_passing),\n",
    "        (\"possession.csv\", clean_up_possession),\n",
    "        (\"shooting.csv\", clean_up_shooting),\n",
    "    ]\n",
    "    \n",
    "    dfs = []\n",
    "    for file, clean_func in files:\n",
    "        df = pd.read_csv(f\"{directory}/{file}\")\n",
    "        df = clean_func(df)\n",
    "        dfs.append(df)\n",
    "    \n",
    "    df_merged = pd.concat(dfs, axis=1)\n",
    "    \n",
    "    return df_merged\n"
   ]
  },
  {
   "cell_type": "code",
   "execution_count": null,
   "id": "3714709e-4c8e-493b-8aa6-a15a1c39fa13",
   "metadata": {},
   "outputs": [],
   "source": [
    "def get_statistics_df(NATIONS):\n",
    "    for nation in NATIONS:\n",
    "        rootdir = f'{nation}/player_stats/'\n",
    "        dfs = []\n",
    "        for i, file in enumerate(os.listdir(rootdir)):\n",
    "            d = os.path.join(rootdir, file)\n",
    "            if \".ipynb_checkpoints\" in d:\n",
    "                continue\n",
    "            dfs.append(clean_up_statistic_dataframes(d))\n",
    "        result_df = pd.concat(dfs, ignore_index=True)\n",
    "        result_df = result_df.loc[:, ~result_df.columns.duplicated()]\n",
    "\n",
    "        result_df.to_csv(f\"{nation}/overall_player_stats.csv\", index=False)"
   ]
  },
  {
   "cell_type": "code",
   "execution_count": null,
   "id": "b21d78b8-5f02-4114-b2bb-c7316def6cb1",
   "metadata": {},
   "outputs": [],
   "source": [
    "get_statistics_df(NATIONS)"
   ]
  },
  {
   "cell_type": "code",
   "execution_count": null,
   "id": "7e0cc02c-164c-43d7-8f1b-6a0c52a7fc59",
   "metadata": {},
   "outputs": [],
   "source": [
    "def get_information_df(NATIONS):\n",
    "    for nation in NATIONS:\n",
    "        directory = f'{nation}/player_info'\n",
    "\n",
    "        csv_files = [f for f in os.listdir(directory) if f.endswith('.csv')]\n",
    "\n",
    "        dfs = []\n",
    "\n",
    "        for csv_file in csv_files:\n",
    "            df = pd.read_csv(os.path.join(directory, csv_file))\n",
    "            dfs.append(df)\n",
    "\n",
    "        merged_df = pd.concat(dfs, ignore_index=True)\n",
    "\n",
    "        merged_df.to_csv(f\"{nation}/player_info.csv\", index=False)"
   ]
  },
  {
   "cell_type": "code",
   "execution_count": null,
   "id": "315e5b8d-8740-4073-8b09-b28f3f525b4b",
   "metadata": {},
   "outputs": [],
   "source": [
    "get_information_df(NATIONS)"
   ]
  },
  {
   "cell_type": "code",
   "execution_count": null,
   "id": "542e0180-e277-448f-bb40-223dbc3fcb1b",
   "metadata": {},
   "outputs": [],
   "source": [
    "def compile_nation_df(NATIONS):\n",
    "    for nation in NATIONS:\n",
    "\n",
    "        df1 = pd.read_csv(f\"{nation}/player_info.csv\")\n",
    "        df2 = pd.read_csv(f\"{nation}/overall_player_stats.csv\")\n",
    "\n",
    "        df1[\"normalized_named\"] = df1[\"name\"].apply(unidecode)\n",
    "        df2[\"normalized_named\"] = df2[\"Player\"].apply(unidecode)\n",
    "\n",
    "        merged_df = pd.merge(df1, df2, on=\"normalized_named\", how=\"inner\")\n",
    "        merged_df.drop(columns=[\"normalized_named\", \"Player\"], axis=1, inplace=True)\n",
    "        \n",
    "        if not os.path.isdir(f\"finalized_nation_datasets\"):\n",
    "                  os.makedirs(f\"finalized_nation_datasets\")\n",
    "        \n",
    "        merged_df.to_csv(f\"finalized_nation_datasets/{nation}_dataset.csv\", index=False)"
   ]
  },
  {
   "cell_type": "code",
   "execution_count": null,
   "id": "51cff4b7-a858-4f38-9d8a-6f89bc7f23f2",
   "metadata": {},
   "outputs": [],
   "source": [
    "compile_nation_df(NATIONS)"
   ]
  },
  {
   "cell_type": "code",
   "execution_count": null,
   "id": "bf3a0a06-3896-415f-8008-9418b45ca91a",
   "metadata": {},
   "outputs": [],
   "source": [
    "def get_general_dataset():\n",
    "    directory = f'finalized_nation_datasets/'\n",
    "\n",
    "    csv_files = [f for f in os.listdir(directory) if f.endswith('.csv')]\n",
    "\n",
    "    dfs = []\n",
    "\n",
    "    for csv_file in csv_files:\n",
    "        df = pd.read_csv(os.path.join(directory, csv_file))\n",
    "        dfs.append(df)\n",
    "\n",
    "    merged_df = pd.concat(dfs, ignore_index=True)\n",
    "\n",
    "    merged_df.to_csv(f\"player_dataset.csv\", index=False)"
   ]
  },
  {
   "cell_type": "code",
   "execution_count": null,
   "id": "d119f4a2-7d7e-4f5f-8e96-3944850d50c2",
   "metadata": {},
   "outputs": [],
   "source": [
    "get_general_dataset()"
   ]
  },
  {
   "cell_type": "code",
   "execution_count": 300,
   "id": "01c6bb43-5d34-4ce8-adb1-ef4ac3b95e82",
   "metadata": {},
   "outputs": [],
   "source": [
    "df = pd.read_csv('player_dataset.csv')"
   ]
  },
  {
   "cell_type": "markdown",
   "id": "a21864e7-7c39-4863-b489-95eb116885d7",
   "metadata": {},
   "source": [
    "## Data Cleaning "
   ]
  },
  {
   "cell_type": "code",
   "execution_count": 301,
   "id": "762edf37-9fb6-4924-ba8a-10fe6a436f7c",
   "metadata": {},
   "outputs": [
    {
     "data": {
      "text/plain": [
       "name                       3280\n",
       "price                      3280\n",
       "position                   3280\n",
       "dob                        3280\n",
       "nationality                3280\n",
       "                           ... \n",
       "average_shot_distance      2545\n",
       "freekick_shots             3011\n",
       "penalty_kicks_converted    3015\n",
       "penalty_kicks_attempted    3015\n",
       "xG                         3011\n",
       "Length: 84, dtype: int64"
      ]
     },
     "execution_count": 301,
     "metadata": {},
     "output_type": "execute_result"
    }
   ],
   "source": [
    "df.count()"
   ]
  },
  {
   "cell_type": "markdown",
   "id": "9fda27a1-9c17-4aac-8c4e-eb1afd0b2a59",
   "metadata": {},
   "source": [
    "### Converting/Fixing Price"
   ]
  },
  {
   "cell_type": "code",
   "execution_count": 302,
   "id": "6bd4adb1-99da-4661-919a-b9a08b2ec1e9",
   "metadata": {},
   "outputs": [
    {
     "name": "stderr",
     "output_type": "stream",
     "text": [
      "/var/folders/tf/28wdj00j4h1_5_yq0wc9jwm40000gn/T/ipykernel_23304/1752925445.py:1: FutureWarning: The default value of regex will change from True to False in a future version. In addition, single character regular expressions will*not* be treated as literal strings when regex=True.\n",
      "  df['price'] = df['price'].str.replace('.', '')\n"
     ]
    }
   ],
   "source": [
    "df['price'] = df['price'].str.replace('.', '')\n",
    "df['price'] = df['price'].str.replace('€', '')\n",
    "df['price'] = df['price'].str.replace('m', '0000').str.replace('k', '000')\n",
    "df['price'] = df['price'].astype('double', errors='ignore')\n",
    "df = df[df['price'] != '-'].reset_index(drop=True)"
   ]
  },
  {
   "cell_type": "markdown",
   "id": "ff6f45e1-2878-4e25-a150-ea48c589298e",
   "metadata": {},
   "source": [
    "### Deleting Goalkeepers"
   ]
  },
  {
   "cell_type": "code",
   "execution_count": 303,
   "id": "16ac5f61-7a59-4a6c-a843-a03792c01620",
   "metadata": {},
   "outputs": [],
   "source": [
    "df = df[df['position'] != 'Goalkeeper'].reset_index(drop=True)"
   ]
  },
  {
   "cell_type": "markdown",
   "id": "ec23068d-3a92-42e1-9732-08976e13f35c",
   "metadata": {},
   "source": [
    "### Simplifying Positions"
   ]
  },
  {
   "cell_type": "code",
   "execution_count": 305,
   "id": "7391ab25-b8ef-4bec-ab6d-246d59dd7442",
   "metadata": {},
   "outputs": [],
   "source": [
    "position_mappings = {'Centre-Back': 'Defender', 'Left-Back': 'Defender', 'Right-Back': 'Defender',\n",
    "                  'Attacking Midfield': 'Midfielder', 'Central Midfield': 'Midfielder', 'Central Midfielder': 'Midfielder', 'Defensive Midfield': 'Midfielder', 'Left Midfield': 'Midfielder', 'Right Midfield': 'Midfielder',\n",
    "                  'Left Winger': 'Attacker', 'Right Winger': 'Attacker', 'Centre-Forward': 'Attacker', 'Second Striker': 'Attacker'}\n",
    "\n",
    "# Map positions to roles using the position_roles dictionary\n",
    "df['position'] = df['position'].map(position_mappings)\n"
   ]
  },
  {
   "cell_type": "code",
   "execution_count": 297,
   "id": "bccb18b0-2f36-4056-98ca-02d897997020",
   "metadata": {},
   "outputs": [
    {
     "data": {
      "text/plain": [
       "Series([], Name: position, dtype: int64)"
      ]
     },
     "execution_count": 297,
     "metadata": {},
     "output_type": "execute_result"
    }
   ],
   "source": [
    "df['position'].value_counts()"
   ]
  },
  {
   "cell_type": "markdown",
   "id": "8d0399aa-4f0a-4434-b3f4-e2b20cd0f1ce",
   "metadata": {},
   "source": [
    "### Extracting Age from DOB"
   ]
  },
  {
   "cell_type": "code",
   "execution_count": 307,
   "id": "7fb2e3a6-6987-4d15-9408-4a369b5b62a6",
   "metadata": {},
   "outputs": [],
   "source": [
    "def extract_age(date_str):\n",
    "    return int(re.search(r'\\((\\d+)\\)', date_str).group(1))"
   ]
  },
  {
   "cell_type": "code",
   "execution_count": 308,
   "id": "6e23bd23-9a7f-433a-9f84-14f85e4470a7",
   "metadata": {},
   "outputs": [],
   "source": [
    "df['dob'] = df['dob'].apply(extract_age)"
   ]
  },
  {
   "cell_type": "code",
   "execution_count": 309,
   "id": "e2ac1064-4bbb-4a5e-a6ce-446af194bbd1",
   "metadata": {},
   "outputs": [],
   "source": [
    "df = df.rename(columns={'dob':'age'})"
   ]
  },
  {
   "cell_type": "markdown",
   "id": "96169abe-715b-4274-acda-3e42a7f9ac87",
   "metadata": {},
   "source": [
    "### Date Conversions"
   ]
  },
  {
   "cell_type": "code",
   "execution_count": 310,
   "id": "95505627-773e-4640-a866-9afcc9df48d6",
   "metadata": {},
   "outputs": [],
   "source": [
    "def date_conversion(x):\n",
    "    if x == '-':\n",
    "        return\n",
    "    else:\n",
    "        return datetime.strptime(x, '%b %d, %Y')"
   ]
  },
  {
   "cell_type": "code",
   "execution_count": 311,
   "id": "5d913753-115f-4c9f-82be-a0fcd663a153",
   "metadata": {},
   "outputs": [],
   "source": [
    "df['join_date'] = df['join_date'].apply(date_conversion)\n",
    "df['contract_expiration'] = df['contract_expiration'].apply(date_conversion)"
   ]
  },
  {
   "cell_type": "markdown",
   "id": "c6c1ef99-2ee0-47dd-ab3b-806c40ecdc1f",
   "metadata": {},
   "source": [
    "### Converting Height to Number"
   ]
  },
  {
   "cell_type": "code",
   "execution_count": 312,
   "id": "4a8e7da0-ed61-4a72-a11d-c50f872d7105",
   "metadata": {},
   "outputs": [],
   "source": [
    "def transform_height(height):\n",
    "    if height == '-':\n",
    "        return\n",
    "    else:\n",
    "        height_m = float(height.replace(',', '.')[:-1])\n",
    "        height_cm = height_m * 100\n",
    "        return height_cm"
   ]
  },
  {
   "cell_type": "code",
   "execution_count": 313,
   "id": "79150341-cc19-48af-88d3-e9e784d9f92f",
   "metadata": {},
   "outputs": [],
   "source": [
    "df['height'] = df['height'].apply(transform_height)"
   ]
  },
  {
   "cell_type": "markdown",
   "id": "18f556c1-a985-446d-8282-1377d8c73936",
   "metadata": {},
   "source": [
    "### Deleting Players with No Playing Time"
   ]
  },
  {
   "cell_type": "code",
   "execution_count": 314,
   "id": "c6c093fb-4c57-401c-94b8-47b4ba710640",
   "metadata": {},
   "outputs": [],
   "source": [
    "df = df[~df['minutes_played'].isna()].reset_index(drop=True)"
   ]
  },
  {
   "cell_type": "markdown",
   "id": "58a1b0d2-52ce-484b-aa15-88025c435944",
   "metadata": {},
   "source": [
    "### REFINEMENT"
   ]
  },
  {
   "cell_type": "markdown",
   "id": "bb690817-5193-4000-8bdf-7c91c4c3577f",
   "metadata": {},
   "source": [
    "Dropped List (simplified):\n",
    "- matches played\n",
    "- matches started\n",
    "- tackles\n",
    "- tackles won\n",
    "- defensive / midfield / attacking third tackles\n",
    "- interceptions\n",
    "- clearances\n",
    "- shots_blocked\n",
    "- sca_live_passes\n",
    "- sca_dead_passes\n",
    "- sca_take-ons\n",
    "- sca_shots\n",
    "- sca_fouls_drawn\n",
    "- sca_defensive_actions\n",
    "- shot_creating_actions\n",
    "- gca_live_passes\n",
    "- gca_dead_passes\n",
    "- gca_take-ons\n",
    "- gca_shots\n",
    "- gca_fouls_drawn\n",
    "- gca_defensive_actions\n",
    "- goal_creation_actions\n",
    "- yellow_cards\n",
    "- red_cards\n",
    "- fouls\n",
    "- short_passes_attempted\n",
    "- short_passes_completed\n",
    "- medium_passes_attempted\n",
    "- medium_passes_completed\n",
    "- long_passes_attempted\n",
    "- long_passes_completed\n",
    "- assists\n",
    "- passes_into_final_third\n",
    "- passes_into_penalty_box\n",
    "- crosses_into_penalty_area\n",
    "- progressive_passes\n",
    "- touches_penalty_area_defending\n",
    "- touches_defensive_third\n",
    "- touches_middle_third\n",
    "- touches_attacking_third\n",
    "- touches_penalty_area_attacking"
   ]
  },
  {
   "cell_type": "markdown",
   "id": "13799e73-71f6-4e78-92a4-71779a6dd744",
   "metadata": {},
   "source": [
    "Dropped List (waitlist):\n",
    "\n",
    "- errors_leading_to_goal\n",
    "- offsides\n",
    "- penalties_won\n",
    "- penalties_conceded\n",
    "- own_goals\n",
    "- fouls_drawn\n",
    "- expected_assists\n",
    "- key_passes"
   ]
  },
  {
   "cell_type": "code",
   "execution_count": 315,
   "id": "ea60c008-f45e-47c2-bc88-433c1f5f1333",
   "metadata": {},
   "outputs": [
    {
     "data": {
      "text/html": [
       "<div>\n",
       "<style scoped>\n",
       "    .dataframe tbody tr th:only-of-type {\n",
       "        vertical-align: middle;\n",
       "    }\n",
       "\n",
       "    .dataframe tbody tr th {\n",
       "        vertical-align: top;\n",
       "    }\n",
       "\n",
       "    .dataframe thead th {\n",
       "        text-align: right;\n",
       "    }\n",
       "</style>\n",
       "<table border=\"1\" class=\"dataframe\">\n",
       "  <thead>\n",
       "    <tr style=\"text-align: right;\">\n",
       "      <th></th>\n",
       "      <th>name</th>\n",
       "      <th>price</th>\n",
       "      <th>position</th>\n",
       "      <th>age</th>\n",
       "      <th>nationality</th>\n",
       "      <th>height</th>\n",
       "      <th>foot</th>\n",
       "      <th>join_date</th>\n",
       "      <th>contract_expiration</th>\n",
       "      <th>minutes_played</th>\n",
       "      <th>...</th>\n",
       "      <th>carry_dispossessions</th>\n",
       "      <th>goals</th>\n",
       "      <th>total_shots</th>\n",
       "      <th>shots_on_target</th>\n",
       "      <th>goals_per_shot</th>\n",
       "      <th>average_shot_distance</th>\n",
       "      <th>freekick_shots</th>\n",
       "      <th>penalty_kicks_converted</th>\n",
       "      <th>penalty_kicks_attempted</th>\n",
       "      <th>xG</th>\n",
       "    </tr>\n",
       "  </thead>\n",
       "  <tbody>\n",
       "    <tr>\n",
       "      <th>251</th>\n",
       "      <td>Jude Bellingham</td>\n",
       "      <td>110000000</td>\n",
       "      <td>Midfielder</td>\n",
       "      <td>19</td>\n",
       "      <td>England</td>\n",
       "      <td>186.0</td>\n",
       "      <td>right</td>\n",
       "      <td>2020-07-23</td>\n",
       "      <td>2025-06-30</td>\n",
       "      <td>2075.0</td>\n",
       "      <td>...</td>\n",
       "      <td>46.0</td>\n",
       "      <td>4.0</td>\n",
       "      <td>46.0</td>\n",
       "      <td>16.0</td>\n",
       "      <td>0.09</td>\n",
       "      <td>17.1</td>\n",
       "      <td>2.0</td>\n",
       "      <td>0.0</td>\n",
       "      <td>0.0</td>\n",
       "      <td>4.9</td>\n",
       "    </tr>\n",
       "  </tbody>\n",
       "</table>\n",
       "<p>1 rows × 84 columns</p>\n",
       "</div>"
      ],
      "text/plain": [
       "                name      price    position  age nationality  height   foot  \\\n",
       "251  Jude Bellingham  110000000  Midfielder   19     England   186.0  right   \n",
       "\n",
       "     join_date contract_expiration  minutes_played  ...  carry_dispossessions  \\\n",
       "251 2020-07-23          2025-06-30          2075.0  ...                  46.0   \n",
       "\n",
       "     goals  total_shots  shots_on_target  goals_per_shot  \\\n",
       "251    4.0         46.0             16.0            0.09   \n",
       "\n",
       "     average_shot_distance  freekick_shots  penalty_kicks_converted  \\\n",
       "251                   17.1             2.0                      0.0   \n",
       "\n",
       "     penalty_kicks_attempted   xG  \n",
       "251                      0.0  4.9  \n",
       "\n",
       "[1 rows x 84 columns]"
      ]
     },
     "execution_count": 315,
     "metadata": {},
     "output_type": "execute_result"
    }
   ],
   "source": [
    "df[df['name'] == 'Jude Bellingham']"
   ]
  },
  {
   "cell_type": "code",
   "execution_count": 316,
   "id": "646c5a0b-2dba-44aa-a483-7765ee4a7c9c",
   "metadata": {},
   "outputs": [],
   "source": [
    "players = df.copy()"
   ]
  },
  {
   "cell_type": "code",
   "execution_count": 355,
   "id": "d6bd1f3b-c816-4a40-9613-6fa9301cff15",
   "metadata": {},
   "outputs": [],
   "source": [
    "df.to_csv(\"old.csv\", index=False)"
   ]
  },
  {
   "cell_type": "markdown",
   "id": "db57bd3a-0d67-48c6-926e-d6f7eadcbbc7",
   "metadata": {},
   "source": [
    "# Playing Time"
   ]
  },
  {
   "cell_type": "markdown",
   "id": "04186102-b612-4c72-9c05-cd5967056def",
   "metadata": {},
   "source": [
    "Features Dropped:\n",
    "    \n",
    "- matches_played\n",
    "- matches_started \n",
    "\n",
    "Turned into tackle success rate."
   ]
  },
  {
   "cell_type": "code",
   "execution_count": 317,
   "id": "10d29531-4c90-4e1d-9d97-53733d56848d",
   "metadata": {},
   "outputs": [],
   "source": [
    "players = players.drop(['matches_started','matches_played'], axis=1)"
   ]
  },
  {
   "cell_type": "markdown",
   "id": "715bdb00-8920-4b51-a48c-8748ed4455d1",
   "metadata": {},
   "source": [
    "Ideas\n",
    "- rates instead of figures\n",
    "- additional / removal of features"
   ]
  },
  {
   "cell_type": "markdown",
   "id": "d6ee54c3-12cf-422f-b5d7-f2fe9239dcda",
   "metadata": {},
   "source": [
    "# Tackles"
   ]
  },
  {
   "cell_type": "markdown",
   "id": "b7743fdf-f240-4daa-ac79-5ff171dfc12b",
   "metadata": {},
   "source": [
    "Features Dropped:\n",
    "    \n",
    "- tackles\n",
    "- tackles won\n",
    "- defensive / midfield / attacking third tackles\n",
    "\n",
    "Turned into tackles won per minutes played. "
   ]
  },
  {
   "cell_type": "code",
   "execution_count": 318,
   "id": "366a4e85-3527-4d7c-b873-1efbeef30a9d",
   "metadata": {},
   "outputs": [],
   "source": [
    "players['tackles_won_per_mp'] = players['tackles_won'] / players['minutes_played']"
   ]
  },
  {
   "cell_type": "code",
   "execution_count": 319,
   "id": "6b52d93b-c42c-466a-9b9d-555373f2dc63",
   "metadata": {},
   "outputs": [],
   "source": [
    "players.drop(['defensive_third_tackles', 'midfield_tackles', 'attacking_third_tackles', 'tackles_won', 'tackles'], axis=1, inplace=True)"
   ]
  },
  {
   "cell_type": "markdown",
   "id": "d65f47d5-7491-4010-a561-2ecdcd9e8b25",
   "metadata": {},
   "source": [
    "# Defensive Actions"
   ]
  },
  {
   "cell_type": "markdown",
   "id": "ee26ae00-a437-404f-8101-2be39d3d06f1",
   "metadata": {},
   "source": [
    "Features Dropped:\n",
    "    \n",
    "- interceptions\n",
    "- clearances\n",
    "- shots_blocked\n",
    "- ball_recoveries\n",
    "\n",
    "Turned into defensive_actions_per_mp"
   ]
  },
  {
   "cell_type": "code",
   "execution_count": 320,
   "id": "5738fe83-12f8-425f-9b7b-9686b3009997",
   "metadata": {},
   "outputs": [],
   "source": [
    "players['defensive_actions_per_mp'] = (players['interceptions'] + players['clearances'] + players['shots_blocked'] + players['ball_recoveries']) / players['minutes_played']"
   ]
  },
  {
   "cell_type": "code",
   "execution_count": 321,
   "id": "abbae8c5-2eda-4efb-b9c1-c4d98b1e8b41",
   "metadata": {},
   "outputs": [],
   "source": [
    "players.drop(['interceptions', 'clearances', 'shots_blocked', 'ball_recoveries'], axis=1, inplace=True)"
   ]
  },
  {
   "cell_type": "markdown",
   "id": "8a86ee0f-8c24-41dc-828b-b1e5c0a8b0c3",
   "metadata": {},
   "source": [
    "# Miscellaneous"
   ]
  },
  {
   "cell_type": "markdown",
   "id": "1c77ff7e-e6ac-440c-a35e-d6165654495f",
   "metadata": {},
   "source": [
    "Features Dropped:\n",
    "    \n",
    "- errors_leading_to_goal\n",
    "- offsides\n",
    "- penalties_won\n",
    "- penalties_conceded\n",
    "- fouls_drawn"
   ]
  },
  {
   "cell_type": "markdown",
   "id": "6434c8f5-9009-4647-9076-885e5e72cf51",
   "metadata": {},
   "source": [
    "#### There are questions over the impact that these features will have in our regression model, therefore they are dropped."
   ]
  },
  {
   "cell_type": "code",
   "execution_count": 322,
   "id": "42ed6cde-b457-4cb9-8e38-fc3dfc95ae1e",
   "metadata": {},
   "outputs": [],
   "source": [
    "players.drop([\n",
    "    'errors_leading_to_goal',\n",
    "    'offsides',\n",
    "    'penalties_won', \n",
    "    'penalties_conceded',\n",
    "    'fouls_drawn',\n",
    "    'own_goals'\n",
    "    ], axis=1, inplace=True)"
   ]
  },
  {
   "cell_type": "markdown",
   "id": "9c102f4e-c38d-43eb-8bed-9698ffffec2a",
   "metadata": {
    "tags": []
   },
   "source": [
    "# Shot-Creating Actions"
   ]
  },
  {
   "cell_type": "markdown",
   "id": "f1108089-559d-430f-9503-c7f26e54821f",
   "metadata": {},
   "source": [
    "Features Dropped:\n",
    "    \n",
    "- sca_live_passes\n",
    "- sca_dead_passes\n",
    "- sca_take-ons\n",
    "- sca_shots\n",
    "- sca_fouls_drawn\n",
    "- sca_defensive_actions\n",
    "- shot_creating_actions\n",
    "\n",
    "Turned into sca_per_mp. (shot-creating-actions per minutes played)"
   ]
  },
  {
   "cell_type": "markdown",
   "id": "872da240-02d8-42c0-b581-3bcc8cc0dfe7",
   "metadata": {},
   "source": [
    "#### The overall 'shot-creating-actions / minutes played will represent this feature."
   ]
  },
  {
   "cell_type": "code",
   "execution_count": 323,
   "id": "311448e9-781d-4dc9-9fda-f1d6c01c5d28",
   "metadata": {
    "tags": []
   },
   "outputs": [],
   "source": [
    "players['sca_per_mp'] = players['shot_creating_actions'] / players['minutes_played']"
   ]
  },
  {
   "cell_type": "code",
   "execution_count": 324,
   "id": "00c74d7f-b660-45c0-91d9-5b986a303569",
   "metadata": {},
   "outputs": [],
   "source": [
    "players.drop([\n",
    "    'sca_live_passes',\n",
    "    'sca_dead_passes',\n",
    "    'sca_take_ons',\n",
    "    'sca_fouls_drawn',\n",
    "    'sca_defensive_actions',\n",
    "    'sca_shots',\n",
    "    'shot_creating_actions'\n",
    "    ], axis=1, inplace=True)"
   ]
  },
  {
   "cell_type": "markdown",
   "id": "32d3f3e5-5a8e-4389-b5cf-81ac47a028c8",
   "metadata": {
    "tags": []
   },
   "source": [
    "# Goal-Creating Actions"
   ]
  },
  {
   "cell_type": "markdown",
   "id": "5f0df220-a6b3-4e1e-a0e7-d7042e696dbd",
   "metadata": {},
   "source": [
    "Features Dropped:\n",
    "    \n",
    "- gca_live_passes\n",
    "- gca_dead_passes\n",
    "- gca_take-ons\n",
    "- gca_shots\n",
    "- gca_fouls_drawn\n",
    "- gca_defensive_actions\n",
    "- goal_creation_actions\n",
    "\n",
    "Turned into gca_per_mp. (goal-creating-actions per minutes played)"
   ]
  },
  {
   "cell_type": "code",
   "execution_count": 325,
   "id": "2f9b7dd0-90c1-4049-9856-e732093f00ce",
   "metadata": {
    "tags": []
   },
   "outputs": [],
   "source": [
    "players['gca_per_mp'] = players['goal_creation_actions'] / players['minutes_played']"
   ]
  },
  {
   "cell_type": "code",
   "execution_count": 326,
   "id": "b14938fa-7a1f-40f4-b3b2-822f02c88388",
   "metadata": {},
   "outputs": [],
   "source": [
    "players.drop([\n",
    "    'gca_live_passes',\n",
    "    'gca_dead_passes',\n",
    "    'gca_take_ons',\n",
    "    'gca_fouls_drawn',\n",
    "    'gca_defensive_actions',\n",
    "    'gca_shots',\n",
    "    'goal_creation_actions'\n",
    "    ], axis=1, inplace=True)"
   ]
  },
  {
   "cell_type": "markdown",
   "id": "adcf7678-e6bb-4716-92af-0c9e506d3d13",
   "metadata": {
    "tags": []
   },
   "source": [
    "# Cards"
   ]
  },
  {
   "cell_type": "markdown",
   "id": "63a521fd-d785-4aa8-bad2-3a2c7c7efbb5",
   "metadata": {},
   "source": [
    "Features Dropped:\n",
    "    \n",
    "- yellow_cards\n",
    "- red_cards\n",
    "\n",
    "Turned into cards_per_mp, where red cards are equivalent to 2 yellow cards."
   ]
  },
  {
   "cell_type": "code",
   "execution_count": 327,
   "id": "9ffc220b-56eb-48d6-a9e7-4a09747367bf",
   "metadata": {},
   "outputs": [],
   "source": [
    "players['cards'] = (players['yellow_cards'] + (2 * players['red_cards'])) / players['minutes_played']"
   ]
  },
  {
   "cell_type": "code",
   "execution_count": 328,
   "id": "b29e82d0-d189-40e5-a006-3d6faea76e95",
   "metadata": {},
   "outputs": [],
   "source": [
    "players.drop([\n",
    "    'yellow_cards',\n",
    "    'red_cards'\n",
    "    ], axis=1, inplace=True)"
   ]
  },
  {
   "cell_type": "markdown",
   "id": "2641633a-e354-404c-bf19-fcbcecda667a",
   "metadata": {},
   "source": [
    "# Fouls"
   ]
  },
  {
   "cell_type": "markdown",
   "id": "9d70ccab-6277-41eb-b103-64045b1309ef",
   "metadata": {},
   "source": [
    "Features Dropped:\n",
    "    \n",
    "- fouls\n",
    "\n",
    "Turned into fouls_per_mp."
   ]
  },
  {
   "cell_type": "code",
   "execution_count": 329,
   "id": "8f388494-d5b9-4736-adc6-802601b4129d",
   "metadata": {},
   "outputs": [],
   "source": [
    "players['fouls_per_mp'] = players['fouls'] / players['minutes_played']"
   ]
  },
  {
   "cell_type": "code",
   "execution_count": 330,
   "id": "fc4ee8b0-a5d8-4d12-b43f-c06b3c3a9d2f",
   "metadata": {},
   "outputs": [],
   "source": [
    "players.drop(['fouls'], axis=1, inplace=True)"
   ]
  },
  {
   "cell_type": "markdown",
   "id": "6edfe2a0-b2f0-484e-b174-8fee31b28848",
   "metadata": {},
   "source": [
    "# Aerial Duels"
   ]
  },
  {
   "cell_type": "markdown",
   "id": "f7972077-9d38-467f-920a-4de01ba40d01",
   "metadata": {},
   "source": [
    "Features Dropped:\n",
    "    \n",
    "- aerial_duels_won\n",
    "- aerial_duels_lost\n",
    "\n",
    "Turned into aerial duel success rate per minutes played. "
   ]
  },
  {
   "cell_type": "code",
   "execution_count": 331,
   "id": "a615e050-98cc-4956-93a6-1c96ce23b5fe",
   "metadata": {},
   "outputs": [],
   "source": [
    "players['aerial_duels_won_per_mp'] = players['aerial_duels_won'] / players['minutes_played']"
   ]
  },
  {
   "cell_type": "code",
   "execution_count": 332,
   "id": "89508c8a-319a-49bd-881b-c419d501134a",
   "metadata": {},
   "outputs": [],
   "source": [
    "players.drop(['aerial_duels_won', 'aerial_duels_lost'], axis=1, inplace=True)"
   ]
  },
  {
   "cell_type": "markdown",
   "id": "10737b0b-9018-4220-8e78-b5bcbce75734",
   "metadata": {},
   "source": [
    "# Passes"
   ]
  },
  {
   "cell_type": "markdown",
   "id": "dbaacf58-56b4-448d-a4ef-f42e8900addf",
   "metadata": {},
   "source": [
    "Features Dropped:\n",
    "    \n",
    "- short_passes_attempted\n",
    "- short_passes_completed\n",
    "- medium_passes_attempted\n",
    "- medium_passes_completed\n",
    "- long_passes_attempted\n",
    "- long_passes_completed\n",
    "\n",
    "Turned into pass completion rate per minutes played. "
   ]
  },
  {
   "cell_type": "code",
   "execution_count": 333,
   "id": "2f2a6d39-3dfb-4955-8e56-c63780bb37f4",
   "metadata": {},
   "outputs": [],
   "source": [
    "players ['passes_per_mp'] = ((players['short_passes_completed'] + players['medium_passes_completed'] +  \\\n",
    "+ players['long_passes_completed']) / (players['short_passes_attempted'] +  \\\n",
    "players['medium_passes_attempted'] +  \n",
    "+ players['long_passes_attempted'])) / players['minutes_played']"
   ]
  },
  {
   "cell_type": "code",
   "execution_count": 334,
   "id": "a7f93216-350b-4978-aed2-362f95f21018",
   "metadata": {},
   "outputs": [],
   "source": [
    "players.drop([\n",
    "    'short_passes_completed',\n",
    "    'medium_passes_completed',\n",
    "    'long_passes_completed',\n",
    "    'short_passes_attempted',\n",
    "    'medium_passes_attempted',\n",
    "    'long_passes_attempted',\n",
    "    ], axis=1, inplace=True)"
   ]
  },
  {
   "cell_type": "markdown",
   "id": "812b5569-745b-4d41-a95b-75a91432b1c1",
   "metadata": {},
   "source": [
    "# Assists"
   ]
  },
  {
   "cell_type": "markdown",
   "id": "dd0bb1bf-1188-4ec3-bc2e-20484e4c8dfd",
   "metadata": {},
   "source": [
    "Features Dropped:\n",
    "    \n",
    "- assists\n",
    "- expected_assists\n",
    "\n",
    "Turned into assists per minutes played. "
   ]
  },
  {
   "cell_type": "code",
   "execution_count": 335,
   "id": "b3f84b93-e6a9-45b8-9405-5709b8fefd94",
   "metadata": {},
   "outputs": [],
   "source": [
    "players['assists_per_mp'] = players['assists'] / players['minutes_played']"
   ]
  },
  {
   "cell_type": "code",
   "execution_count": 336,
   "id": "3a63138d-6957-4164-8615-6f344cda8b18",
   "metadata": {},
   "outputs": [],
   "source": [
    "players.drop([\n",
    "    'assists',\n",
    "    'expected_assists',\n",
    "    ], axis=1, inplace=True)"
   ]
  },
  {
   "cell_type": "markdown",
   "id": "e87f423f-8de2-4c4b-a85a-d1e687598b33",
   "metadata": {},
   "source": [
    "# Progressive Passes"
   ]
  },
  {
   "cell_type": "markdown",
   "id": "84509ce0-e7d8-425a-9d74-7246e918efd3",
   "metadata": {},
   "source": [
    "Features Dropped:\n",
    "    \n",
    "- key_passes\n",
    "- passes_into_final_third\n",
    "- passes_into_penalty_box\n",
    "- crosses_into_penalty_area\n",
    "- progressive_passes\n",
    "\n",
    "Turned into progressive_passes per minutes played. "
   ]
  },
  {
   "cell_type": "code",
   "execution_count": 337,
   "id": "77eae701-759a-46f5-a3ff-3584e9e16cdf",
   "metadata": {},
   "outputs": [],
   "source": [
    "players['progressive_passes_per_mp'] = players['progressive_passes'] / players['minutes_played']"
   ]
  },
  {
   "cell_type": "code",
   "execution_count": 338,
   "id": "0e82ce57-0602-430a-b0ea-560160449db0",
   "metadata": {},
   "outputs": [],
   "source": [
    "players.drop([\n",
    "    'progressive_passes',\n",
    "    'key_passes',\n",
    "    'passes_into_final_third',\n",
    "    'passes_into_penalty_box',\n",
    "    'crosses_into_penalty_area',\n",
    "    ], axis=1, inplace=True)"
   ]
  },
  {
   "cell_type": "markdown",
   "id": "ea1baa2c-ac88-4029-98a1-d8a977eaa527",
   "metadata": {},
   "source": [
    "# Touches "
   ]
  },
  {
   "cell_type": "markdown",
   "id": "2afa142f-3860-4e67-89b2-9112ceb2623b",
   "metadata": {},
   "source": [
    "Features Dropped:\n",
    "    \n",
    "- touches_penalty_area_defending\n",
    "- touches_defensive_third\n",
    "- touches_middle_third\n",
    "- touches_attacking_third\n",
    "- touches_penalty_area_attacking\n",
    "\n",
    "Turned into touches per minutes played. "
   ]
  },
  {
   "cell_type": "code",
   "execution_count": 339,
   "id": "9838961c-47ee-4b2d-a2f7-c40d3e2e82cc",
   "metadata": {},
   "outputs": [],
   "source": [
    "players['touches_per_mp'] = (players['touches_penalty_area_defending'] +  \\\n",
    "players['touches_defensive_third'] + players['touches_middle_third'] + players['touches_attacking_third'] + \\\n",
    "players['touches_penalty_area_attacking']) / players['minutes_played']"
   ]
  },
  {
   "cell_type": "code",
   "execution_count": 340,
   "id": "074260a2-c7c3-4644-a9de-86f778613c13",
   "metadata": {},
   "outputs": [],
   "source": [
    "players.drop([\n",
    "    'touches_penalty_area_defending',\n",
    "    'touches_defensive_third',\n",
    "    'touches_middle_third',\n",
    "    'touches_attacking_third',\n",
    "    'touches_penalty_area_attacking',\n",
    "    ], axis=1, inplace=True)"
   ]
  },
  {
   "cell_type": "markdown",
   "id": "fe92f1cd-67d6-44ec-a851-5e5e755e9d5e",
   "metadata": {
    "tags": []
   },
   "source": [
    "# Take-ons"
   ]
  },
  {
   "cell_type": "markdown",
   "id": "5ded6e8e-dd84-4a4d-974f-e727b9ddfcf0",
   "metadata": {},
   "source": [
    "Features Dropped:\n",
    "    \n",
    "- attempted_take_ons\n",
    "- successful_take_ons\n",
    "- tackled_take_ons\n",
    "\n",
    "Turned into take-on completion per minutes played. "
   ]
  },
  {
   "cell_type": "code",
   "execution_count": 341,
   "id": "94d3d0dd-8666-4149-9832-7a74559c085a",
   "metadata": {},
   "outputs": [],
   "source": [
    "players['take_ons_per_mp'] = players['successful_take_ons'] / players['minutes_played']"
   ]
  },
  {
   "cell_type": "code",
   "execution_count": 342,
   "id": "03a964a1-a6ba-4cd7-83f8-17d616eb7966",
   "metadata": {},
   "outputs": [],
   "source": [
    "players.drop([\n",
    "    'attempted_take_ons',\n",
    "    'successful_take_ons',\n",
    "    'tackled_take_ons',\n",
    "    ], axis=1, inplace=True)"
   ]
  },
  {
   "cell_type": "markdown",
   "id": "b2fbece2-af23-4086-928c-a55afc5ad728",
   "metadata": {
    "tags": []
   },
   "source": [
    "# Carries"
   ]
  },
  {
   "cell_type": "markdown",
   "id": "8de4f141-e25c-41c6-90e0-36751e560871",
   "metadata": {},
   "source": [
    "Features Dropped:\n",
    "    \n",
    "- carries\n",
    "- total_carrying_distance\n",
    "- progressive_carrying_distance\n",
    "- progressive_carries\n",
    "- carries_into_final_third\n",
    "- carry_miscontrols\n",
    "- carry_dispossessions\n",
    "- carries_into_penalty_area\n",
    "\n",
    "Turned into carrying_distance_per_mp per minutes played. "
   ]
  },
  {
   "cell_type": "code",
   "execution_count": 343,
   "id": "435051b4-71ee-4497-979f-ce97b25c1d53",
   "metadata": {},
   "outputs": [],
   "source": [
    "players['carrying_distance_per_mp'] = (players['total_carrying_distance'] / players['minutes_played'])"
   ]
  },
  {
   "cell_type": "code",
   "execution_count": 344,
   "id": "3fe158f4-0b9e-4f6a-92c8-5a9123469bbe",
   "metadata": {},
   "outputs": [],
   "source": [
    "players.drop([\n",
    "    'carries',\n",
    "    'total_carrying_distance',\n",
    "    'progressive_carrying_distance',\n",
    "    'progressive_carries',\n",
    "    'carries_into_final_third',\n",
    "    'carry_miscontrols',\n",
    "    'carry_dispossessions',\n",
    "    'carries_into_penalty_area',\n",
    "    ], axis=1, inplace=True)"
   ]
  },
  {
   "cell_type": "markdown",
   "id": "7f613eb9-0101-4eca-b210-b21020fa876f",
   "metadata": {},
   "source": [
    "# Goals"
   ]
  },
  {
   "cell_type": "markdown",
   "id": "2989fcbb-2827-47c1-8f40-8717e18a1963",
   "metadata": {},
   "source": [
    "Features Dropped:\n",
    "    \n",
    "- goals\n",
    "- xG\n",
    "- goals_per_shot\n",
    "\n",
    "Turned into goals_per_mp per minutes played. "
   ]
  },
  {
   "cell_type": "code",
   "execution_count": 345,
   "id": "87da01ff-658d-4cb4-9152-e0fa124b0817",
   "metadata": {},
   "outputs": [],
   "source": [
    "players['goals_per_mp'] = (players['goals'] / players['minutes_played'])"
   ]
  },
  {
   "cell_type": "code",
   "execution_count": 346,
   "id": "3b1a52f7-8b4d-43b4-b57e-4d34cd321825",
   "metadata": {},
   "outputs": [],
   "source": [
    "players.drop([\n",
    "    'goals',\n",
    "    'xG',\n",
    "    'goals_per_shot',\n",
    "    ], axis=1, inplace=True)"
   ]
  },
  {
   "cell_type": "markdown",
   "id": "99597165-9927-4b9d-83c9-a64b81a0fe7b",
   "metadata": {
    "tags": []
   },
   "source": [
    "# Shots"
   ]
  },
  {
   "cell_type": "markdown",
   "id": "0f269daa-d074-4953-86f2-c09e749e6c93",
   "metadata": {},
   "source": [
    "Features Dropped:\n",
    "    \n",
    "- total_shots\n",
    "- shots_on_target\n",
    "- average_shot_distance\n",
    "- freekick_shots\n",
    "\n",
    "Turned into shot_completion_per_mp per minutes played. "
   ]
  },
  {
   "cell_type": "code",
   "execution_count": 347,
   "id": "007913a3-5be3-4d63-adb8-dbcfae70d71e",
   "metadata": {},
   "outputs": [],
   "source": [
    "players['successful_shots_per_mp'] = players['shots_on_target'] / players['minutes_played']"
   ]
  },
  {
   "cell_type": "code",
   "execution_count": 348,
   "id": "e8247671-0956-4765-9959-6eab3cf196e3",
   "metadata": {},
   "outputs": [],
   "source": [
    "players.drop([\n",
    "    'total_shots',\n",
    "    'shots_on_target',\n",
    "    'average_shot_distance',\n",
    "    'freekick_shots',\n",
    "    ], axis=1, inplace=True)"
   ]
  },
  {
   "cell_type": "markdown",
   "id": "211940f0-0d68-4649-bf0e-ace9e031eeb9",
   "metadata": {},
   "source": [
    "# Penalties"
   ]
  },
  {
   "cell_type": "code",
   "execution_count": 349,
   "id": "545650e6-4470-4738-882d-806685ce204b",
   "metadata": {},
   "outputs": [],
   "source": [
    "players.drop([\n",
    "    'penalty_kicks_converted',\n",
    "    'penalty_kicks_attempted',\n",
    "    ], axis=1, inplace=True)"
   ]
  },
  {
   "cell_type": "code",
   "execution_count": 350,
   "id": "a1186d44-0c57-4043-8052-105bd8c022a6",
   "metadata": {},
   "outputs": [
    {
     "data": {
      "text/html": [
       "<div>\n",
       "<style scoped>\n",
       "    .dataframe tbody tr th:only-of-type {\n",
       "        vertical-align: middle;\n",
       "    }\n",
       "\n",
       "    .dataframe tbody tr th {\n",
       "        vertical-align: top;\n",
       "    }\n",
       "\n",
       "    .dataframe thead th {\n",
       "        text-align: right;\n",
       "    }\n",
       "</style>\n",
       "<table border=\"1\" class=\"dataframe\">\n",
       "  <thead>\n",
       "    <tr style=\"text-align: right;\">\n",
       "      <th></th>\n",
       "      <th>name</th>\n",
       "      <th>price</th>\n",
       "      <th>position</th>\n",
       "      <th>age</th>\n",
       "      <th>nationality</th>\n",
       "      <th>height</th>\n",
       "      <th>foot</th>\n",
       "      <th>join_date</th>\n",
       "      <th>contract_expiration</th>\n",
       "      <th>minutes_played</th>\n",
       "      <th>...</th>\n",
       "      <th>fouls_per_mp</th>\n",
       "      <th>aerial_duels_won_per_mp</th>\n",
       "      <th>passes_per_mp</th>\n",
       "      <th>assists_per_mp</th>\n",
       "      <th>progressive_passes_per_mp</th>\n",
       "      <th>touches_per_mp</th>\n",
       "      <th>take_ons_per_mp</th>\n",
       "      <th>carrying_distance_per_mp</th>\n",
       "      <th>goals_per_mp</th>\n",
       "      <th>successful_shots_per_mp</th>\n",
       "    </tr>\n",
       "  </thead>\n",
       "  <tbody>\n",
       "    <tr>\n",
       "      <th>251</th>\n",
       "      <td>Jude Bellingham</td>\n",
       "      <td>110000000</td>\n",
       "      <td>Midfielder</td>\n",
       "      <td>19</td>\n",
       "      <td>England</td>\n",
       "      <td>186.0</td>\n",
       "      <td>right</td>\n",
       "      <td>2020-07-23</td>\n",
       "      <td>2025-06-30</td>\n",
       "      <td>2075.0</td>\n",
       "      <td>...</td>\n",
       "      <td>0.013494</td>\n",
       "      <td>0.014458</td>\n",
       "      <td>0.000403</td>\n",
       "      <td>0.001928</td>\n",
       "      <td>0.095904</td>\n",
       "      <td>0.838554</td>\n",
       "      <td>0.02988</td>\n",
       "      <td>2.853012</td>\n",
       "      <td>0.001928</td>\n",
       "      <td>0.007711</td>\n",
       "    </tr>\n",
       "  </tbody>\n",
       "</table>\n",
       "<p>1 rows × 25 columns</p>\n",
       "</div>"
      ],
      "text/plain": [
       "                name      price    position  age nationality  height   foot  \\\n",
       "251  Jude Bellingham  110000000  Midfielder   19     England   186.0  right   \n",
       "\n",
       "     join_date contract_expiration  minutes_played  ...  fouls_per_mp  \\\n",
       "251 2020-07-23          2025-06-30          2075.0  ...      0.013494   \n",
       "\n",
       "     aerial_duels_won_per_mp  passes_per_mp  assists_per_mp  \\\n",
       "251                 0.014458       0.000403        0.001928   \n",
       "\n",
       "     progressive_passes_per_mp  touches_per_mp  take_ons_per_mp  \\\n",
       "251                   0.095904        0.838554          0.02988   \n",
       "\n",
       "     carrying_distance_per_mp  goals_per_mp  successful_shots_per_mp  \n",
       "251                  2.853012      0.001928                 0.007711  \n",
       "\n",
       "[1 rows x 25 columns]"
      ]
     },
     "execution_count": 350,
     "metadata": {},
     "output_type": "execute_result"
    }
   ],
   "source": [
    "players[players['name'] == 'Jude Bellingham']"
   ]
  },
  {
   "cell_type": "code",
   "execution_count": 352,
   "id": "fcfc1197-2fb1-4646-82f3-daec6097aef3",
   "metadata": {},
   "outputs": [
    {
     "data": {
      "text/plain": [
       "Index(['name', 'price', 'position', 'age', 'nationality', 'height', 'foot',\n",
       "       'join_date', 'contract_expiration', 'minutes_played',\n",
       "       'tackles_won_per_mp', 'defensive_actions_per_mp', 'sca_per_mp',\n",
       "       'gca_per_mp', 'cards', 'fouls_per_mp', 'aerial_duels_won_per_mp',\n",
       "       'passes_per_mp', 'assists_per_mp', 'progressive_passes_per_mp',\n",
       "       'touches_per_mp', 'take_ons_per_mp', 'carrying_distance_per_mp',\n",
       "       'goals_per_mp', 'successful_shots_per_mp'],\n",
       "      dtype='object')"
      ]
     },
     "execution_count": 352,
     "metadata": {},
     "output_type": "execute_result"
    }
   ],
   "source": [
    "players.columns"
   ]
  },
  {
   "cell_type": "code",
   "execution_count": null,
   "id": "9b3fc0ee-eb3d-4236-99b5-5a98c0a8705e",
   "metadata": {},
   "outputs": [],
   "source": []
  },
  {
   "cell_type": "code",
   "execution_count": null,
   "id": "211e4b7c-f97b-435a-94cc-ba6bf1f141a7",
   "metadata": {},
   "outputs": [],
   "source": []
  },
  {
   "cell_type": "code",
   "execution_count": 290,
   "id": "7059f45c-751c-43d8-a69d-1a14d2db2e85",
   "metadata": {},
   "outputs": [],
   "source": [
    "players = pd.read_csv('update.csv')"
   ]
  },
  {
   "cell_type": "code",
   "execution_count": 351,
   "id": "37a64666-95f7-4ad0-93d5-18f04777e9a5",
   "metadata": {},
   "outputs": [],
   "source": [
    "players.to_csv('refined_player_dataset.csv', index=False)"
   ]
  },
  {
   "cell_type": "code",
   "execution_count": null,
   "id": "106f4e4a-655a-41ec-8797-584b06451c39",
   "metadata": {},
   "outputs": [],
   "source": []
  },
  {
   "cell_type": "code",
   "execution_count": null,
   "id": "6a6bc209-40df-4bc2-b9de-b8a7dfded238",
   "metadata": {},
   "outputs": [],
   "source": []
  },
  {
   "cell_type": "code",
   "execution_count": null,
   "id": "9aea8d32-6b69-428b-8066-fb0d487433e0",
   "metadata": {},
   "outputs": [],
   "source": []
  },
  {
   "cell_type": "code",
   "execution_count": null,
   "id": "9db9f5d6-abf0-4d7f-a27b-25d6159c5e99",
   "metadata": {},
   "outputs": [],
   "source": []
  },
  {
   "cell_type": "code",
   "execution_count": null,
   "id": "dcc6d42a-d15b-4c15-8d23-d41d201ab520",
   "metadata": {},
   "outputs": [],
   "source": []
  },
  {
   "cell_type": "code",
   "execution_count": null,
   "id": "561ea861-fb14-41e6-a498-57bf21317b7f",
   "metadata": {},
   "outputs": [],
   "source": []
  },
  {
   "cell_type": "code",
   "execution_count": null,
   "id": "73a1554e-0403-4533-a2a0-eea300d064f2",
   "metadata": {},
   "outputs": [],
   "source": []
  },
  {
   "cell_type": "code",
   "execution_count": 2,
   "id": "b4c9c520-5a43-4bc3-8bd5-d205a66c961f",
   "metadata": {},
   "outputs": [],
   "source": [
    "import seaborn as sb"
   ]
  },
  {
   "cell_type": "code",
   "execution_count": 3,
   "id": "1457d805-5967-4172-9405-90a6d6ab0b85",
   "metadata": {},
   "outputs": [],
   "source": [
    "df = pd.read_csv(\"sample_dataset.csv\")"
   ]
  },
  {
   "cell_type": "code",
   "execution_count": 4,
   "id": "d939c0db-8c9a-454e-9040-2fbc011589f3",
   "metadata": {},
   "outputs": [],
   "source": [
    "df.price = df.price.apply(lambda x: x.split('.')[0].replace('€', ''))"
   ]
  },
  {
   "cell_type": "code",
   "execution_count": 5,
   "id": "23b59faf-fa48-450c-8297-0763039e4e76",
   "metadata": {},
   "outputs": [],
   "source": [
    "df = df.iloc[:-1]"
   ]
  },
  {
   "cell_type": "code",
   "execution_count": 6,
   "id": "f5e92973-5fba-4a7e-83ab-ad0e2fce0981",
   "metadata": {},
   "outputs": [],
   "source": [
    "df.price = df.price.astype(int)"
   ]
  },
  {
   "cell_type": "code",
   "execution_count": 29,
   "id": "5ac49d50-acc8-49d7-8e27-b4d2f4e95c80",
   "metadata": {},
   "outputs": [],
   "source": [
    "df['ratio'] = df.goals / df.minutes_played"
   ]
  },
  {
   "cell_type": "code",
   "execution_count": 30,
   "id": "e810291a-9d68-418b-bf0c-ad04c6812562",
   "metadata": {},
   "outputs": [],
   "source": [
    "import numpy as np\n",
    "df.ratio.replace(np.nan, 0, inplace=True)"
   ]
  },
  {
   "cell_type": "code",
   "execution_count": null,
   "id": "016d8d29-d31b-400e-9009-35eab5e52260",
   "metadata": {},
   "outputs": [],
   "source": [
    "df.columns"
   ]
  },
  {
   "cell_type": "code",
   "execution_count": 47,
   "id": "3d47fa27-b6af-403b-90ec-33a157c67ad5",
   "metadata": {},
   "outputs": [
    {
     "data": {
      "image/png": "[encoded data removed]",
      "text/plain": [
       "<Figure size 640x480 with 1 Axes>"
      ]
     },
     "metadata": {},
     "output_type": "display_data"
    }
   ],
   "source": [
    "plot = sb.regplot(data=df, x=\"successful_take_ons\", y=\"price\")\n",
    "\n",
    "\n",
    "\n"
   ]
  },
  {
   "cell_type": "code",
   "execution_count": 65,
   "id": "9feb0aa9-3457-4236-8852-bdb729b3fda6",
   "metadata": {},
   "outputs": [
    {
     "data": {
      "image/png": "[encoded data removed]",
      "text/plain": [
       "<Figure size 500x500 with 1 Axes>"
      ]
     },
     "metadata": {},
     "output_type": "display_data"
    }
   ],
   "source": [
    "plot = sb.catplot(data=df, x=\"position\", y=\"price\", order=[\"Goalkeeper\", \"Defender\", \"Midfield\", \"Attacker\"])\n",
    "\n",
    "plot.set(xlabel =\"Positions\", ylabel = \"Transfer Value\", title ='Positions Correlated with Transfer Value')\n",
    "plt.show()"
   ]
  },
  {
   "cell_type": "code",
   "execution_count": 66,
   "id": "20592c2e-7e8d-4151-84a8-1e2a6791a604",
   "metadata": {},
   "outputs": [
    {
     "data": {
      "text/plain": [
       "Player                 20\n",
       "minutes_played         20\n",
       "matches_played         20\n",
       "matches_started        20\n",
       "tackles                20\n",
       "                       ..\n",
       "height                 20\n",
       "foot                   20\n",
       "join_date              20\n",
       "contract_expiration    20\n",
       "ratio                  20\n",
       "Length: 85, dtype: int64"
      ]
     },
     "execution_count": 66,
     "metadata": {},
     "output_type": "execute_result"
    }
   ],
   "source": [
    "df.count()"
   ]
  },
  {
   "cell_type": "code",
   "execution_count": 60,
   "id": "96626400-fee9-44a3-80d5-1237d4a09166",
   "metadata": {},
   "outputs": [],
   "source": [
    "df.position = df.position.replace('Attacking Midfield', 'Midfield')\n",
    "\n",
    "\n"
   ]
  }
 ],
 "metadata": {
  "kernelspec": {
   "display_name": "Python 3 (ipykernel)",
   "language": "python",
   "name": "python3"
  },
  "language_info": {
   "codemirror_mode": {
    "name": "ipython",
    "version": 3
   },
   "file_extension": ".py",
   "mimetype": "text/x-python",
   "name": "python",
   "nbconvert_exporter": "python",
   "pygments_lexer": "ipython3",
   "version": "3.9.4"
  }
 },
 "nbformat": 4,
 "nbformat_minor": 5
}
